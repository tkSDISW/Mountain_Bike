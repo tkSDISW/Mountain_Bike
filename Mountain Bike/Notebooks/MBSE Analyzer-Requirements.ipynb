{
 "cells": [
  {
   "cell_type": "markdown",
   "id": "2ef785c9-a1c0-4ad7-a185-02a1569ca072",
   "metadata": {},
   "source": [
    "# Model Based System Engineering Assistant: \n",
    "## Leveraging AI for System Engineering models \n",
    "\n",
    "Welcome to the **MBSE Assistant Notebook**, a powerful tool designed to augment your ability to review, comprehend, and enhance system models with AI-driven support. This notebook integrates a variety of capabilities to assist with:\n",
    "\n",
    "1. **Model Review and Comprehension**:\n",
    "   - Gain deeper insights into the structure and behavior of your system model.\n",
    "   - Use AI to clarify relationships, dependencies, and interactions within the model.\n",
    "\n",
    "2. **Impact Analysis**:\n",
    "   - Explore the potential effects of component failures on the system.\n",
    "   - Simulate scenarios to identify vulnerabilities and design improvements.\n",
    "\n",
    "3. **Simulation Generation**:\n",
    "   - Automatically generate simulations based on the model's architecture and behaviors.\n",
    "   - Use simulations for validation, testing, and demonstration purposes.\n",
    "\n",
    "4. **Failure Analysis**:\n",
    "   - Assess the system's resilience under various failure conditions.\n",
    "   - Extract meaningful insights to strengthen reliability and performance.\n",
    "\n",
    "5. **Content Extraction for Downstream Domains**:\n",
    "   - Convert model data into formats suitable for use in other engineering domains.\n",
    "   - Facilitate seamless collaboration across teams and tools.\n",
    "\n",
    "This notebook serves as a comprehensive platform to bridge the gap between system models and actionable insights, empowering architects to make informed decisions and design robust solutions. Whether you're investigating enhancements, running failure simulations, or preparing data for external domains, this assistant streamlines the process with AI-enhanced guidance.\n",
    "\n",
    "Feel free to explore and adapt the prompts and models to suit your specific use case. Let’s dive in and unlock the potential of your system model!\n"
   ]
  },
  {
   "cell_type": "markdown",
   "id": "b5acc178-1a94-4014-b1f7-13c97a9ba4ec",
   "metadata": {},
   "source": [
    "### Model-Specific Code (Do Not Modify)\n",
    "\n",
    "This section contains code that is specific to the system model. It is updated only when the model is changed and should not require user modifications under normal circumstances.\n",
    "\n",
    "If a new model is introduced, ensure this section is reviewed and updated as needed.\n"
   ]
  },
  {
   "cell_type": "code",
   "execution_count": 1,
   "id": "c7ba8743-5dac-41be-9083-d44aa0199411",
   "metadata": {
    "scrolled": true
   },
   "outputs": [
    {
     "name": "stdout",
     "output_type": "stream",
     "text": [
      "Warning: File '../Mountain Bike.traceability' does not exist.\n"
     ]
    }
   ],
   "source": [
    "#!pip install --upgrade git+https://github.com/tkSDISW/Capella_Tools \n",
    "import capellambse.decl\n",
    "\n",
    "from capella_tools import capellambse_helper\n",
    "\n",
    "from IPython import display as diag_display\n",
    "from IPython import display as diag_display\n",
    "resources = {\n",
    "    \"Mountain_Bike\": \"Mountain_Bike/Mountain Bike\",\n",
    "    \"Bike BrakeSystem Library\": {\"path\" : \"/home/simcenter/studio/Bike_BrakeSystem_Library/Bike BrakeSystem Library\"}\n",
    "}\n",
    "path_to_model = \"../Mountain Bike.aird\"\n",
    "model = capellambse.MelodyModel(path_to_model, resources=resources)\n",
    "from capella_tools import Pub4C\n",
    "# Instantiate the class with the traceability file\n",
    "traceability_store = Pub4C.Traceability_Store(\"../Mountain Bike.traceability\")\n"
   ]
  },
  {
   "cell_type": "code",
   "execution_count": null,
   "id": "5f73131d-3ba3-4c6f-8418-378d418156a6",
   "metadata": {
    "collapsed": true,
    "jupyter": {
     "outputs_hidden": true,
     "source_hidden": true
    }
   },
   "outputs": [],
   "source": []
  },
  {
   "cell_type": "markdown",
   "id": "98e07f65-caa7-4e20-9268-7c5df4783e36",
   "metadata": {},
   "source": [
    "## 🔄 Embedding Generation Process\n",
    "\n",
    "### Overview\n",
    "This section generates embeddings, which streamlines processing and analyzing the model. The embeddings provide a structured representation of the data that powers subsequent tasks and visualizations.\n",
    "\n",
    "### When is this step necessary?\n",
    "- **Initial Run:** If this notebook is being run for the first time, embeddings will need to be generated.\n",
    "- **Model Updates:** If the underlying model has been modified, regenerating embeddings ensures the data remains accurate and up-to-date.\n",
    "\n",
    "### Important Notes\n",
    "- **Duration:** This process may take **a minute or more** to complete, depending on the size and complexity of the model.\n",
    "- **Output:** Upon completion, embeddings will be ready for use in subsequent sections of the notebook.\n",
    "\n",
    "### Instructions\n",
    "1. Ensure the required model is loaded.\n",
    "2. Run the cell below to initiate the embedding generation process.\n",
    "3. Wait for the process to complete before proceeding.\n",
    "\n",
    "> 💡 **Tip:** You can monitor progress in the notebook's output cell. If any errors occur, check that the model is properly configured and accessible.\n",
    "\n",
    "---\n",
    "\n",
    "> ⚠️ **Warning:** Interrupting this step may result in incomplete or invalid embeddings. If interrupted, re-run the cell to restart the process.\n",
    "\n",
    "---\n",
    "\n",
    "Continue to the next cell to generate embeddings. 🚀\n"
   ]
  },
  {
   "cell_type": "code",
   "execution_count": 2,
   "id": "2c54cb77-76e8-4309-90e0-7da1d2a2d9f8",
   "metadata": {
    "jupyter": {
     "source_hidden": true
    }
   },
   "outputs": [
    {
     "name": "stdout",
     "output_type": "stream",
     "text": [
      "OpenAI API Key retrieved successfully.\n",
      "Loading embeddings\n",
      "embeddings loaded.\n"
     ]
    }
   ],
   "source": [
    "\n",
    "from capella_tools  import capella_embeddings_manager\n",
    "\n",
    "# Generate embeddings for all objects\n",
    "model_embedding_manager = capella_embeddings_manager.EmbeddingManager()\n",
    "\n",
    "embedding_file = \"embeddings.json\" \n",
    "model_embedding_manager.set_files( path_to_model , embedding_file)\n",
    "\n",
    "model_embedding_manager.create_model_embeddings(model)"
   ]
  },
  {
   "cell_type": "markdown",
   "id": "f671a45d-5335-463c-802a-156296f21ad4",
   "metadata": {},
   "source": [
    "## 🎯 Prompt for System Model Element Analysis\n",
    "\n",
    "### Purpose\n",
    "This cell accepts a prompt to identify and isolate the specific object(s) to be analyzed. Providing detailed and accurate information in the prompt will ensure the best performance during the analysis.\n",
    "\n",
    "### What to Include in Your Prompt\n",
    "For optimal results, specify the following details about the object(s):\n",
    "1. **Type of ARCADIA Object:** Clearly state the type of the object (e.g., Logical Component, Physical Component, Functional Exchange).\n",
    "2. **Name of the Object:** Provide the exact name of the object as defined in the model.\n",
    "3. **ARCADIA Phase:** Specify the phase associated with the object (e.g., Operational Analysis, System Analysis, Logical Architecture, Physical Architecture).\n",
    "4. **Related Objects:** Identify any objects connected via exchanges or dependencies.\n",
    "\n",
    "### Example Prompt\n",
    "Locate the Logical Component named Brake Pedal in the Logical phase and has a Driver supplying input.\n",
    "### ✅ Tips for Success\n",
    "- **Use precise terminology:** Ensure your prompt aligns with the model's structure and terminology.\n",
    "- **Include related objects:** Whenever possible, specify related objects to enhance context and improve analysis accuracy.\n",
    "- **Double-check details:** Verify object names and phases to ensure they match the model exactly.\n",
    "'''\n",
    "\n",
    "### 🚀 Next Steps\n",
    "1. Run the cell below.\n",
    "2. Enter your prompt, providing the necessary details as outlined above.\n",
    "3. Wait for the analysis to complete.\n",
    "4. Select the best index or indexes for analysis. (The last selection will drive selection of a prompt.)\n",
    "\n",
    "> 💡 **Tip:** If you're unsure about the model structure, review the documentation or refer to the model's diagrams for additional guidance.\n"
   ]
  },
  {
   "cell_type": "code",
   "execution_count": 3,
   "id": "31298768-f6da-4f27-9c76-50d02b7a0fe7",
   "metadata": {},
   "outputs": [
    {
     "name": "stdout",
     "output_type": "stream",
     "text": [
      "\n",
      "This is a list of ranked Objects Based on Query:\n",
      "Index: 0, Name: [LAB] Braking, Similarity: 0.65, Type: Diagram, Phase: Logical Architecture LA, Source: , Target: \n",
      "Index: 1, Name: [LAB] Comfort, Similarity: 0.63, Type: Diagram, Phase: Logical Architecture LA, Source: , Target: \n",
      "Index: 2, Name: [LAB] Powering and Shifting, Similarity: 0.58, Type: Diagram, Phase: Logical Architecture LA, Source: , Target: \n",
      "Index: 3, Name: [LAB] Mountain Bike All (Messy), Similarity: 0.54, Type: Diagram, Phase: Logical Architecture LA, Source: , Target: \n",
      "Index: 4, Name: [LAB] Terrain Handling Steerring, Similarity: 0.52, Type: Diagram, Phase: Logical Architecture LA, Source: , Target: \n",
      "Index: 5, Name: [LAB] Mountain Bike and ACME (Messy), Similarity: 0.51, Type: Diagram, Phase: Logical Architecture LA, Source: , Target: \n",
      "Index: 6, Name: [MCB] Capabilities, Similarity: 0.51, Type: Diagram, Phase: System Analysis SA, Source: , Target: \n",
      "Index: 7, Name: [LDFB] Ride Trail, Similarity: 0.50, Type: Diagram, Phase: Logical Architecture LA, Source: , Target: \n",
      "Index: 8, Name: Braking System, Similarity: 0.49, Type: LogicalComponent, Phase: Logical Architecture LA, Source: , Target: \n",
      "Index: 9, Name: [OPD] Versatile Terran Handling, Similarity: 0.48, Type: Diagram, Phase: Operational Analysis OA, Source: , Target: \n"
     ]
    }
   ],
   "source": [
    "\n",
    "selected_objects = model_embedding_manager.query_and_select_top_objects(\"LAB Diagram\", top_n=20)\n"
   ]
  },
  {
   "cell_type": "markdown",
   "id": "2dd4a6ad-39a9-4bc3-ae26-5d97c5fe394b",
   "metadata": {},
   "source": [
    "\n",
    "\n",
    "\n",
    "\n",
    "## 📝 Generate Structured Input File \n",
    "\n",
    "### Purpose\n",
    "This cell generates a structured structured input file, `capella_model.yaml`, which serves as input for prompts tailored to the object type of the last selected item. This ensures that the prompt aligns with the model's structure and provides accurate context for analysis.\n",
    "\n",
    "### What This Cell Does\n",
    "- Extracts data related to the elements selected.\n",
    "- Structures the data into a YAML format.\n",
    "- Saves the YAML file as `capella_model.yaml` for further use.\n",
    "\n",
    "### Key Features\n",
    "- The YAML file includes:\n",
    "  - **Object Type:** The type of the element.\n",
    "  - **Object Details:** Attributes, relationships, and associated exchanges.\n",
    "  - **Structured Input:** Designed to enhance prompt accuracy and model analysis.\n",
    "\n",
    "### Instructions\n",
    "1. Run this cell to create the `capella_model.yaml` file.\n",
    "2. Ensure the last selected item is correctly identified to avoid mismatched data.\n",
    "3. Use the generated YAML file as structured input for tailored prompts in subsequent steps.\n",
    "\n",
    "### Notes\n",
    "- The file will be saved in the current working directory.\n",
    "- If the selected object changes, re-run this cell to update the YAML file.\n",
    "\n",
    "> 💡 **Tip:** Review the contents of `capella_model.yaml` if needed to ensure accuracy and completeness.\n"
   ]
  },
  {
   "cell_type": "code",
   "execution_count": 4,
   "id": "4db8d5ea-0e49-4098-aedc-0914d956f286",
   "metadata": {},
   "outputs": [],
   "source": [
    "#Workflow\n",
    "from capella_tools import capellambse_yaml_manager\n",
    "yaml_handler = capellambse_yaml_manager.CapellaYAMLHandler()\n",
    "   \n",
    "#Generate YAML for the logical component and append to the file\n",
    "for object in  selected_objects : \n",
    "    yaml_handler.generate_yaml(model.by_uuid(object[\"uuid\"]))  \n",
    "   \n",
    "\n",
    "yaml_handler.generate_traceability_related_objects(model,traceability_store)\n",
    "\n",
    "#yaml_handler.display()\n",
    "yaml_handler.generate_yaml_referenced_objects()\n",
    "#yaml_handler.display()\n",
    "\n",
    "yaml_handler.write_output_file()\n"
   ]
  },
  {
   "cell_type": "markdown",
   "id": "1113cb97-36e1-46b4-aec7-9713aea09a64",
   "metadata": {},
   "source": [
    "## 🖼️ Generate Contextual Diagram\n",
    "\n",
    "### Purpose\n",
    "This cell generates a **contextual diagram** for the selected object. The diagram visually represents the object's relationships and interactions, providing a clear and comprehensive view of its context within the model.\n",
    "\n",
    "### Supported Object Types\n",
    "This functionality works the following ARCADIA elements, including:\n",
    "- **Functions**\n",
    "- **Activities**\n",
    "- **Components**\n",
    "- **Entities**\n",
    "- **Exchanges and Interactions**\n",
    "- **Physical Links**\n",
    "\n",
    "### What This Cell Does\n",
    "- Identifies the selected object.\n",
    "- Extracts relevant relationships, exchanges, and dependencies.\n",
    "- Creates a contextual diagram based on the object's type and its connections.\n",
    "\n",
    "### Instructions\n",
    "1. Ensure the object is correctly selected in the previous step.\n",
    "2. Run this cell to generate the contextual diagram.\n",
    "3. Review the output to verify accuracy and completeness.\n",
    "\n",
    "### Key Benefits\n",
    "- **Clarity:** Visualizes how the selected object interacts with other model elements.\n",
    "- **Versatility:** Works seamlessly across ARCADIA functions, activities, components, and entities.\n",
    "- **Actionable Insight:** Helps identify key dependencies and relationships for analysis.\n",
    "\n",
    "### Notes\n",
    "- The diagram will be displayed below upon completion.\n",
    "- If the selected object changes, re-run this cell to update the contextual\n"
   ]
  },
  {
   "cell_type": "code",
   "execution_count": 5,
   "id": "6679d117-2c29-4dc1-9eac-b14e602b1cee",
   "metadata": {},
   "outputs": [
    {
     "data": {
      "image/png": "[encoded data removed]",
      "image/svg+xml": [
       "<svg baseProfile=\"full\" class=\"LogicalArchitectureBlank\" font-family=\"'Open Sans','Segoe UI',Arial,sans-serif\" font-size=\"10px\" height=\"118\" shape-rendering=\"geometricPrecision\" version=\"1.1\" viewBox=\"2 2 421 118\" width=\"421\" xmlns=\"http://www.w3.org/2000/svg\" xmlns:ev=\"http://www.w3.org/2001/xml-events\" xmlns:xlink=\"http://www.w3.org/1999/xlink\"><defs><symbol id=\"LogicalComponentSymbol\" stroke=\"#000\" stroke-width=\"2\" viewBox=\"0 0 79 79\"><path d=\"M18 237h46v43H18z\" fill=\"#dbe6f4\" transform=\"translate(0 -218)\" /><path d=\"M12 247h11v8H12z\" fill=\"#dbe6f4\" transform=\"translate(0 -218)\" /><path d=\"M12 261h11v8H12z\" fill=\"#dbe6f4\" transform=\"translate(0 -218)\" /><g transform=\"scale(0.90705135,1.1024734)\"><path d=\"m 37.427456,20.821353 h 4.221475 V 50.90971 H 37.427456 Z M 39.538194,46.89517 H 56.75519 v 4.01454 H 39.538194 Z\" fill=\"#000\" stroke-width=\"0.1\" /></g></symbol><linearGradient id=\"CustomGradient_C3E6FF_96B1DA\" x1=\"0\" x2=\"0\" y1=\"0\" y2=\"1\"><stop offset=\"0.0\" stop-color=\"#C3E6FF\" stop-opacity=\"1\" /><stop offset=\"1.0\" stop-color=\"#96B1DA\" stop-opacity=\"1\" /></linearGradient></defs><rect fill=\"#fff\" height=\"118\" stroke=\"none\" width=\"421\" x=\"2\" y=\"2\" /><g class=\"Box LogicalComponent context-__Derived-CP_INOUT:-1 context-__Derived-CP_INOUT:-2 context-__Derived-CP_INOUT:1 context-__Derived-CP_INOUT:2 context-__Derived-ComponentExchange:1 context-__Derived-ComponentExchange:2 context-__Derived-LogicalComponent:90f89672-7087-4970-95d5-8fdecd5f07b0 context-__Derived-LogicalComponent:ca778e63-491b-4487-8510-ef9fd8caaa64 context-d8e659e7-e706-4251-95d2-35d2000ee608 context-dac211a0-dde3-4221-9133-891695ac7def\" id=\"dac211a0-dde3-4221-9133-891695ac7def\"><rect class=\"LogicalComponent\" fill=\"url(&quot;#CustomGradient_C3E6FF_96B1DA&quot;)\" height=\"98\" stroke=\"#4A4A97\" stroke-width=\"1\" width=\"145\" x=\"114.5\" y=\"12.5\" /><text class=\"LogicalComponent\" dominant-baseline=\"middle\" fill=\"#4A4A97\" text-anchor=\"middle\" x=\"134\" y=\"17\"><tspan x=\"197.5\" xml:space=\"preserve\" y=\"25.714285714285715\">Mountain Bike</tspan></text><use height=\"20\" width=\"20\" x=\"144.5\" xlink:href=\"#LogicalComponentSymbol\" y=\"15.714285714285715\" /></g><g class=\"Box LogicalComponent context-__Derived-CP_INOUT:-1 context-__Derived-CP_INOUT:-2 context-__Derived-CP_INOUT:1 context-__Derived-CP_INOUT:2 context-__Derived-ComponentExchange:1 context-__Derived-ComponentExchange:2 context-__Derived-LogicalComponent:90f89672-7087-4970-95d5-8fdecd5f07b0 context-__Derived-LogicalComponent:ca778e63-491b-4487-8510-ef9fd8caaa64 context-d8e659e7-e706-4251-95d2-35d2000ee608 context-dac211a0-dde3-4221-9133-891695ac7def\" id=\"d8e659e7-e706-4251-95d2-35d2000ee608\"><rect class=\"LogicalComponent\" fill=\"url(&quot;#CustomGradient_C3E6FF_96B1DA&quot;)\" height=\"56\" stroke=\"#4A4A97\" stroke-width=\"4\" width=\"117\" x=\"128.5\" y=\"42.5\" /><text class=\"LogicalComponent\" dominant-baseline=\"middle\" fill=\"#4A4A97\" text-anchor=\"middle\" x=\"131\" y=\"61\"><tspan x=\"197.0\" xml:space=\"preserve\" y=\"69.85714285714286\">Braking System</tspan></text><use height=\"20\" width=\"20\" x=\"142.0\" xlink:href=\"#LogicalComponentSymbol\" y=\"59.85714285714286\" /></g><g class=\"Box LogicalComponent context-__Derived-CP_INOUT:-1 context-__Derived-CP_INOUT:-2 context-__Derived-CP_INOUT:1 context-__Derived-CP_INOUT:2 context-__Derived-ComponentExchange:1 context-__Derived-ComponentExchange:2 context-__Derived-LogicalComponent:90f89672-7087-4970-95d5-8fdecd5f07b0 context-__Derived-LogicalComponent:ca778e63-491b-4487-8510-ef9fd8caaa64 context-d8e659e7-e706-4251-95d2-35d2000ee608 context-dac211a0-dde3-4221-9133-891695ac7def\" id=\"ca778e63-491b-4487-8510-ef9fd8caaa64\"><rect class=\"LogicalComponent\" fill=\"url(&quot;#CustomGradient_C3E6FF_96B1DA&quot;)\" height=\"42\" stroke=\"#4A4A97\" stroke-dasharray=\"4\" stroke-width=\"1\" width=\"74\" x=\"13.5\" y=\"49.5\" /><text class=\"LogicalComponent\" dominant-baseline=\"middle\" fill=\"#4A4A97\" text-anchor=\"middle\" x=\"12\" y=\"61\"><tspan x=\"56.5\" xml:space=\"preserve\" y=\"69.85714285714286\">Cockpit</tspan></text><use height=\"20\" width=\"20\" x=\"20.0\" xlink:href=\"#LogicalComponentSymbol\" y=\"59.85714285714286\" /></g><g class=\"Box LogicalComponent context-__Derived-CP_INOUT:-1 context-__Derived-CP_INOUT:-2 context-__Derived-CP_INOUT:1 context-__Derived-CP_INOUT:2 context-__Derived-ComponentExchange:1 context-__Derived-ComponentExchange:2 context-__Derived-LogicalComponent:90f89672-7087-4970-95d5-8fdecd5f07b0 context-__Derived-LogicalComponent:ca778e63-491b-4487-8510-ef9fd8caaa64 context-d8e659e7-e706-4251-95d2-35d2000ee608 context-dac211a0-dde3-4221-9133-891695ac7def\" id=\"90f89672-7087-4970-95d5-8fdecd5f07b0\"><rect class=\"LogicalComponent\" fill=\"url(&quot;#CustomGradient_C3E6FF_96B1DA&quot;)\" height=\"37\" stroke=\"#4A4A97\" stroke-dasharray=\"4\" stroke-width=\"1\" width=\"126\" x=\"286.5\" y=\"52.5\" /><text class=\"LogicalComponent\" dominant-baseline=\"middle\" fill=\"#4A4A97\" text-anchor=\"middle\" x=\"293\" y=\"64\"><tspan x=\"363.5\" xml:space=\"preserve\" y=\"70.71428571428571\">Wheels and Tires</tspan></text><use height=\"20\" width=\"20\" x=\"304.5\" xlink:href=\"#LogicalComponentSymbol\" y=\"60.71428571428571\" /></g><g class=\"Edge ComponentExchange context-__Derived-CP_INOUT:-1 context-__Derived-CP_INOUT:-2 context-__Derived-CP_INOUT:1 context-__Derived-CP_INOUT:2 context-__Derived-ComponentExchange:1 context-__Derived-ComponentExchange:2 context-__Derived-LogicalComponent:90f89672-7087-4970-95d5-8fdecd5f07b0 context-__Derived-LogicalComponent:ca778e63-491b-4487-8510-ef9fd8caaa64 context-d8e659e7-e706-4251-95d2-35d2000ee608 context-dac211a0-dde3-4221-9133-891695ac7def\" id=\"__Derived-ComponentExchange:1\"><path class=\"Edge\" d=\"M 89.5 70.5 126.5 70.5\" fill=\"none\" stroke=\"#4A4A97\" stroke-dasharray=\"4\" stroke-width=\"2\" /></g><g class=\"Edge ComponentExchange context-__Derived-CP_INOUT:-1 context-__Derived-CP_INOUT:-2 context-__Derived-CP_INOUT:1 context-__Derived-CP_INOUT:2 context-__Derived-ComponentExchange:1 context-__Derived-ComponentExchange:2 context-__Derived-LogicalComponent:90f89672-7087-4970-95d5-8fdecd5f07b0 context-__Derived-LogicalComponent:ca778e63-491b-4487-8510-ef9fd8caaa64 context-d8e659e7-e706-4251-95d2-35d2000ee608 context-dac211a0-dde3-4221-9133-891695ac7def\" id=\"__Derived-ComponentExchange:2\"><path class=\"Edge\" d=\"M 247.5 70.5 284.5 70.5\" fill=\"none\" stroke=\"#4A4A97\" stroke-dasharray=\"4\" stroke-width=\"2\" /></g><g class=\"Box CP_INOUT context-__Derived-CP_INOUT:-1 context-__Derived-CP_INOUT:-2 context-__Derived-CP_INOUT:1 context-__Derived-CP_INOUT:2 context-__Derived-ComponentExchange:1 context-__Derived-ComponentExchange:2 context-__Derived-LogicalComponent:90f89672-7087-4970-95d5-8fdecd5f07b0 context-__Derived-LogicalComponent:ca778e63-491b-4487-8510-ef9fd8caaa64 context-d8e659e7-e706-4251-95d2-35d2000ee608 context-dac211a0-dde3-4221-9133-891695ac7def\" id=\"-1\"><rect class=\"CP_INOUT\" fill=\"#FFFFFF\" height=\"10\" stroke=\"#000000\" stroke-dasharray=\"4\" stroke-width=\"1\" transform=\"rotate(90 131.5 70.5)\" width=\"10\" x=\"126.5\" y=\"65.5\" /></g><g class=\"Box CP_INOUT context-__Derived-CP_INOUT:-1 context-__Derived-CP_INOUT:-2 context-__Derived-CP_INOUT:1 context-__Derived-CP_INOUT:2 context-__Derived-ComponentExchange:1 context-__Derived-ComponentExchange:2 context-__Derived-LogicalComponent:90f89672-7087-4970-95d5-8fdecd5f07b0 context-__Derived-LogicalComponent:ca778e63-491b-4487-8510-ef9fd8caaa64 context-d8e659e7-e706-4251-95d2-35d2000ee608 context-dac211a0-dde3-4221-9133-891695ac7def\" id=\"-2\"><rect class=\"CP_INOUT\" fill=\"#FFFFFF\" height=\"10\" stroke=\"#000000\" stroke-dasharray=\"4\" stroke-width=\"1\" transform=\"rotate(-90 242.5 70.5)\" width=\"10\" x=\"237.5\" y=\"65.5\" /></g><g class=\"Box CP_INOUT context-__Derived-CP_INOUT:-1 context-__Derived-CP_INOUT:-2 context-__Derived-CP_INOUT:1 context-__Derived-CP_INOUT:2 context-__Derived-ComponentExchange:1 context-__Derived-ComponentExchange:2 context-__Derived-LogicalComponent:90f89672-7087-4970-95d5-8fdecd5f07b0 context-__Derived-LogicalComponent:ca778e63-491b-4487-8510-ef9fd8caaa64 context-d8e659e7-e706-4251-95d2-35d2000ee608 context-dac211a0-dde3-4221-9133-891695ac7def\" id=\"1\"><rect class=\"CP_INOUT\" fill=\"#FFFFFF\" height=\"10\" stroke=\"#000000\" stroke-dasharray=\"4\" stroke-width=\"1\" transform=\"rotate(-90 84.5 70.5)\" width=\"10\" x=\"79.5\" y=\"65.5\" /></g><g class=\"Box CP_INOUT context-__Derived-CP_INOUT:-1 context-__Derived-CP_INOUT:-2 context-__Derived-CP_INOUT:1 context-__Derived-CP_INOUT:2 context-__Derived-ComponentExchange:1 context-__Derived-ComponentExchange:2 context-__Derived-LogicalComponent:90f89672-7087-4970-95d5-8fdecd5f07b0 context-__Derived-LogicalComponent:ca778e63-491b-4487-8510-ef9fd8caaa64 context-d8e659e7-e706-4251-95d2-35d2000ee608 context-dac211a0-dde3-4221-9133-891695ac7def\" id=\"2\"><rect class=\"CP_INOUT\" fill=\"#FFFFFF\" height=\"10\" stroke=\"#000000\" stroke-dasharray=\"4\" stroke-width=\"1\" transform=\"rotate(90 289.5 70.5)\" width=\"10\" x=\"284.5\" y=\"65.5\" /></g></svg>"
      ],
      "text/plain": [
       "<Diagram 'Context of Braking System'>"
      ]
     },
     "metadata": {},
     "output_type": "display_data"
    }
   ],
   "source": [
    "for object in  selected_objects : \n",
    "    #print(object)\n",
    "    if object[\"type\"] == \"Diagram\" :\n",
    "        diagram = model.by_uuid(object[\"uuid\"])\n",
    "        #display(diagram)\n",
    "    else:\n",
    "        obj = model.by_uuid(object[\"uuid\"])\n",
    "        capellambse_helper.display_context_diagram(obj)"
   ]
  },
  {
   "cell_type": "markdown",
   "id": "a1ed6cc0-6c32-4f80-8a39-1dccfaca5eb5",
   "metadata": {},
   "source": [
    "## 💬 Predefined Prompts for Analysis\n",
    "\n",
    "### Purpose\n",
    "This cell contains predefined prompts for analyzing different types of ARCADIA elements, including components, functions, operational processes, and a default prompt. You can use these as-is or tailor them to suit your specific needs.\n",
    "\n",
    "\n",
    "### Instructions\n",
    "1. The appropriate prompt will be used for your analysis needs.\n",
    "2. Modify the prompt to include additional details or requirements, if necessary.\n",
    "\n",
    "### Notes\n",
    "- Predefined prompts are designed to guide analysis and ensure consistency.\n",
    "- Tailoring the prompts allows you to focus on specific aspects of the model relevant to your use case.\n",
    "\n",
    "> 💡 **Tip:** Save your tailored prompts for reuse in similar analyses or workflows.\n"
   ]
  },
  {
   "cell_type": "code",
   "execution_count": 6,
   "id": "24590371-907b-4e64-898f-99c5e9499460",
   "metadata": {},
   "outputs": [],
   "source": [
    "component_prompt = \"\"\"\n",
    "Please analyze the yaml file and display the result as .html and specifically provide insights on:\n",
    "1. The purpose of the component.\n",
    "2. Any components that make it up.\n",
    "3. A list of allocated functions and their potential roles.\n",
    "4. How the ports relate to the functions.\n",
    "5. Any traceabilty artifacts linked to the component and the artifacts url.\n",
    "6. Suggestions for improving the component description.\n",
    "7. Create a tabular table with columns for the component and its ports and the port interfaces, the interface souce and the interface target.\n",
    "8. List any property values and the related model element.\n",
    "9. A summary of any related state machines.\n",
    "\"\"\"\n",
    "function_prompt = \"\"\"\n",
    "Please analyze the yaml file and display the result as .html specifically provide insights on:\n",
    "1. The purpose of the function.\n",
    "2. Its owning component.\n",
    "4. Any ports relate to the functions.\n",
    "5. Any traceabilty artifacts linked to the component and the artifacts url.\n",
    "6. Suggestions for improving the function description.\n",
    "7. Create a tabular table with columns for the owning component, this function, its ports and the functional exchanges.\n",
    "\"\"\"\n",
    "activity_prompt = \"\"\"\n",
    "Please analyze the yaml file and display the result as .html specifically provide insights on:\n",
    "1. The purpose of the activity.\n",
    "2. Its actor or entiry.\n",
    "4. Any traceabilty artifacts linked to the component and the artifacts url.\n",
    "7. Suggestions for improving the activity description.\n",
    "7. Create a tabular table with columns for the owning entity or actor, this activity, its exchanges.\n",
    "\"\"\"\n",
    "functional_chain_prompt = \"\"\"\n",
    "Please analyze the YAML file and display the result as .html specifically provide insights on:\n",
    "1. The purpose of the functional chain.\n",
    "2. A table with first column being the owning component, the second being a function, last column being involved functional exchange, organized by involved functional exchanges.\n",
    "3. Any traceabilty artifacts linked to functional chain, functions, owning component and the traceability artifacts url.\n",
    "4. List any property values and the related model element.\n",
    "Please format the analysis in .html suitable for Juypter Notbook display operation.\n",
    "\"\"\"\n",
    "operational_process_prompt = \"\"\"\n",
    "Please analyze the YAML file and display the result as .html specifically provide insights on:\n",
    "1. The purpose of the operation process.\n",
    "2. A table with first column being the owning component, the second being a activities, last column being involved activity exchange, organized by involved activity exchanges.\n",
    "3. Any traceabilty artifacts linked to the operational process chain, activities, owning component and the traceability artifacts url.\n",
    "4. List any property values and the related model element.\n",
    "Please format the analysis in .html suitable for Juypter Notbook display operation.\n",
    "\"\"\"\n",
    "diagram_prompt = \"\"\"\n",
    "Please analyze the YAML file and display the result as .html specifically provide insights on:\n",
    "1. The purpose of the diagram based on its related nodes.\n",
    "2. Describe what the nodes represent in the ARCADIA method and what the diagram is describing.\n",
    "Please format the analysis in .html suitable for Juypter Notbook display operation.\n",
    "\"\"\"\n",
    "default_prompt = \"\"\"\n",
    "Please analyze the YAML file and display the result as .html specifically provide insights on:\n",
    "1. The purpose of the primary component listed first in the yaml file.=.\n",
    "2. List any property values and the related model element.\n",
    "Please format the analysis in .html suitable for Juypter Notbook display operation.\n",
    "\"\"\"\n",
    "\n"
   ]
  },
  {
   "cell_type": "markdown",
   "id": "4a3e82f3-a07b-404e-a230-7ebcf690e3e4",
   "metadata": {},
   "source": [
    "## ⚙️ Execute Default Prompts\n",
    "\n",
    "### Purpose\n",
    "This cell executes the **default prompts** defined for analyzing the model. These prompts are designed to provide general insights and overviews when specific object types or contexts are not explicitly defined.\n",
    "\n",
    "### What This Cell Does\n",
    "- Reads the structured input file (e.g., `capella_model.yaml`).\n",
    "- Uses the default prompts to query key details about the selected object(s).\n",
    "- Outputs the results directly in the notebook.\n",
    "\n",
    "### 🛠️ Instructions\n",
    "1. Ensure the `capella_model.yaml` file is generated and up-to-date.\n",
    "2. Run this cell to execute the default prompts.\n",
    "3. Review the output to verify the accuracy and relevance of the analysis.\n",
    "\n",
    "### 📝 Notes\n",
    "- The default prompts are **general-purpose** and may not capture all details specific to certain object types.\n",
    "- For more tailored analysis, consider using prompts designed for specific ARCADIA elements.\n",
    "\n",
    "> 💡 **Tip:** Use the default prompts as a starting point, then refine or modify them based on your analysis needs.\n"
   ]
  },
  {
   "cell_type": "code",
   "execution_count": 7,
   "id": "8cf53953-bfae-4677-9f45-906e72aa93e1",
   "metadata": {},
   "outputs": [
    {
     "data": {
      "text/markdown": [
       "# The architecture is analyzed by ChatGPT with following prompt.\n",
       " \n",
       "Please analyze the YAML file and display the result as .html specifically provide insights on:\n",
       "1. The purpose of the diagram based on its related nodes.\n",
       "2. Describe what the nodes represent in the ARCADIA method and what the diagram is describing.\n",
       "Please format the analysis in .html suitable for Juypter Notbook display operation.\n",
       "\n"
      ],
      "text/plain": [
       "<IPython.core.display.Markdown object>"
      ]
     },
     "metadata": {},
     "output_type": "display_data"
    },
    {
     "name": "stdout",
     "output_type": "stream",
     "text": [
      "OpenAI API Key retrieved successfully.\n"
     ]
    },
    {
     "data": {
      "text/markdown": [
       "\n",
       "\n",
       "**ChatGPT Analysis:**\n"
      ],
      "text/plain": [
       "<IPython.core.display.Markdown object>"
      ]
     },
     "metadata": {},
     "output_type": "display_data"
    },
    {
     "data": {
      "text/html": [
       "```html\n",
       "<!DOCTYPE html>\n",
       "\n",
       "<html lang=\"en\">\n",
       "<head>\n",
       "<meta charset=\"utf-8\"/>\n",
       "<meta content=\"width=device-width, initial-scale=1.0\" name=\"viewport\"/>\n",
       "<title>YAML File Analysis</title>\n",
       "\n",
       "</head>\n",
       "<body>\n",
       "<h1>Analysis of YAML File</h1>\n",
       "<h2>Diagram Insights</h2>\n",
       "<p>The YAML file provides configurations for system model diagrams that illustrate various system relationships and interactions, specifically in the context of a Mountain Bike. Below are the analyses of the key diagrams based on their related nodes and their purposes:</p>\n",
       "<h2>1. Diagrams Purpose</h2>\n",
       "<h3>a. Diagram: [LAB] Braking</h3>\n",
       "<p><strong>Purpose:</strong> This diagram is designed to capture the interactions and components involved in the braking system of a mountain bike. It defines how braking forces are generated and controlled, and how they interact with different elements of the bike such as the wheels and terrain.</p>\n",
       "<h3>b. Diagram: [LAB] Comfort</h3>\n",
       "<p><strong>Purpose:</strong> This diagram focuses on the comfort aspects of the Mountain Bike, illustrating the components that contribute to and affect the rider's comfort such as terrain adjustment, rider's body interaction, and the seat and post adjustments.</p>\n",
       "<h3>c. Diagram: [LAB] Powering and Shifting</h3>\n",
       "<p><strong>Purpose:</strong> This diagram highlights the powering and gear shifting mechanisms, explaining how propulsive force is transferred from the rider to the drive train and how gear selections are facilitated and displayed.</p>\n",
       "<h3>d. Diagram: [LAB] Mountain Bike All (Messy)</h3>\n",
       "<p><strong>Purpose:</strong> A comprehensive view combining various interactions and components related to the mountain bike's operation, maintenance, and customer feedback loop, albeit in a complex and dense format.</p>\n",
       "<h2>2. Node Representations</h2>\n",
       "<p>The nodes within these diagrams represent various entities and their interactions according to the ARCADIA (Architecture Analysis and Design Integrated Approach) method:</p>\n",
       "<ul>\n",
       "<li><strong>Logical Functions:</strong> Nodes denoting specific actions or processes that the system performs. For example, \"Provide Stopping\", \"Display Gear Selection\", and \"Convert Pedak Force to Wheels\". These functions articulate what the system must accomplish.</li>\n",
       "<li><strong>Functional Exchanges:</strong> These nodes represent the interactions between logical functions, such as data flow or control signals, represented by entities like \"Force\", \"Brake Controls\", and \"Terrain Forces\".</li>\n",
       "<li><strong>Parts:</strong> Physical segments or modules of the system, including \"Mountain Trails\", \"Mountain Biker\" and \"Braking System\", corresponding to the system's structure and its physical implementation.</li>\n",
       "<li><strong>Functional Chains:</strong> Describing sequential operations that fulfill complex system capabilities, featuring elements like \"Stopping\", \"Powering\", and \"Shifting\". They are representations of higher-level activities in the system.</li>\n",
       "<li><strong>System Components:</strong> Broader parts or entities involved in system-level interactions, such as \"ACME Bicycles\" and \"Bike Service Shop\", illustrating the systemic perspective on what components interact at macro levels.</li>\n",
       "<li><strong>Capabilities:</strong> These nodes identify the overarching abilities the system or its components need to have, for instance, \"Durability and Shock Absorption\" and \"Terrain Navigation\". They outline the intended outcomes and functionalities enabled by the system.</li>\n",
       "</ul>\n",
       "<h2>Conclusion</h2>\n",
       "<p>The YAML file charts out a multi-faceted view of a mountain bike system architecture, leveraging ARCADIA methodology. Each diagram serves to illuminate specific components and interactions within the broader system, with nodes effectively representing logical, functional, and physical aspects. These insights allow for a detailed and comprehensive understanding of the mountain bike’s design and functionality, ensuring robustness in its operational capabilities.</p>\n",
       "</body>\n",
       "</html>\n",
       "```"
      ],
      "text/plain": [
       "<IPython.core.display.HTML object>"
      ]
     },
     "metadata": {},
     "output_type": "display_data"
    }
   ],
   "source": [
    "import os\n",
    "from openai import OpenAI\n",
    "from IPython.core.display import HTML\n",
    "from IPython.display import display, clear_output, Markdown\n",
    "#from capella_tools  import Open_AI_RAG_manager\n",
    "\n",
    "from capella_tools import Open_AI_RAG_manager\n",
    "#print(object)\n",
    "if object[\"type\"] ==  \"LogicalComponent\" or object[\"type\"] ==  \"SystemComponent\" or object[\"type\"] ==  \"PhysicalComponent-BEHAVIOR\"  or object[\"type\"] ==  \"PhysicalComponent-NODE\" :\n",
    "    prompt = component_prompt\n",
    "elif object[\"type\"] ==  \"FunctionalChain\" :  \n",
    "    prompt = functional_chain_prompt\n",
    "elif object[\"type\"] ==  \"OperationalProcess\":  \n",
    "    prompt = functional_chain_prompt\n",
    "elif object[\"type\"] ==  \"SystemFuntion\" or object[\"type\"] ==  \"LogicalFunction\" or object[\"type\"] ==  \"PhysicalFunction\":\n",
    "    prompt = function_prompt\n",
    "elif object[\"type\"] ==  \"OperationalActivity\" : \n",
    "    prompt = activity_prompt\n",
    "elif object[\"type\"] ==  \"Diagram\" : \n",
    "    prompt = diagram_prompt\n",
    "else :\n",
    "    prompt = default_prompt    \n",
    "# Display Prompt\n",
    "display(Markdown(f\"# The architecture is analyzed by ChatGPT with following prompt.\\n {prompt}\\n\"))\n",
    "\n",
    "# Step 1: Get YAML content\n",
    "yaml_content = yaml_handler.get_yaml_content()\n",
    "\n",
    "# Step 2: Invoke ChatGPT for analysis\n",
    "analyzer = Open_AI_RAG_manager.ChatGPTAnalyzer(yaml_content)\n",
    "analyzer.initial_prompt(prompt)\n",
    "chatgpt_response = analyzer.get_response()\n",
    "\n",
    "# Step 3: Display the response in the notebook\n",
    "#print(\"ChatGPT Analysis:\\n\")\n",
    "display(Markdown(f\"\\n\\n**ChatGPT Analysis:**\\n\"))\n",
    "#print(chatgpt_response)\n",
    "display(HTML(chatgpt_response))"
   ]
  },
  {
   "cell_type": "markdown",
   "id": "0ab07e0f-6cdb-4b16-9c5b-0acd3e7944cd",
   "metadata": {},
   "source": [
    "## ⚙️ Execute Followup Prompts\n",
    "\n",
    "### Purpose\n",
    "This cell executes the **follow up prompts** defined for analyzing the model. These prompts can be added by the note book user in addition to the default prompts\n",
    "\n",
    "### What This Cell Does\n",
    "- Use the structured input file (e.g., `capella_model.yaml`).\n",
    "- Excutes the prompt defined in the cell.\n",
    "- Outputs the results directly in the notebook.\n",
    "\n",
    "### 🛠️ Instructions\n",
    "1. Ensure the `capella_model.yaml` file is generated and up-to-date.\n",
    "2. Run this cell to execute the default prompts.\n",
    "3. Review the output to verify the accuracy and relevance of the analysis.\n",
    "\n",
    "> 💡 **Tip:** Modify the promt to your needs."
   ]
  },
  {
   "cell_type": "code",
   "execution_count": 8,
   "id": "fab94bcf-5ea3-4d7d-89e8-508dcd603d71",
   "metadata": {},
   "outputs": [
    {
     "data": {
      "text/markdown": [
       "\n",
       "\n",
       "**ChatGPT Analysis:**\n"
      ],
      "text/plain": [
       "<IPython.core.display.Markdown object>"
      ]
     },
     "metadata": {},
     "output_type": "display_data"
    },
    {
     "data": {
      "text/html": [
       "```html\n",
       "<!DOCTYPE html>\n",
       "\n",
       "<html lang=\"en\">\n",
       "<head>\n",
       "<meta charset=\"utf-8\"/>\n",
       "<meta content=\"width=device-width, initial-scale=1.0\" name=\"viewport\"/>\n",
       "<title>Impact Analysis Report: Electric Seat Post Adjustment</title>\n",
       "\n",
       "</head>\n",
       "<body>\n",
       "<h1>Impact Analysis Report: Introduction of Electric Seat Post Adjustment</h1>\n",
       "<p>This report details the components of the mountain bike system that would be impacted by the introduction of an electric seat post adjustment.</p>\n",
       "<h2>Directly Impacted Components</h2>\n",
       "<ul>\n",
       "<li><strong>Seat and Post:</strong> The component directly responsible for supporting the rider will require modifications to incorporate the electric mechanism for seat adjustment.</li>\n",
       "<li><strong>Electric Motor System:</strong> A new component required to power the adjustment mechanism, including controls and power management systems. Although not originally listed, an electric motor would be a crucial addition.</li>\n",
       "</ul>\n",
       "<h2>Indirectly Impacted Components and Functions</h2>\n",
       "<ul>\n",
       "<li><strong>Battery and Power Supply:</strong> The introduction of an electric feature necessitates a power source, likely impacting the bike's overall battery management and possibly requiring upgrades or additional capacity.</li>\n",
       "<li><strong>Controller Interface:</strong> Modifications in the cockpit part may be necessary to add controls for the electric adjustment of the seat post. This affects the logical function of \"Provide Steering Control\" or a similar control interface.</li>\n",
       "<li><strong>Frame and Suspension:</strong> The integration of electric components (wiring and possibly additional structural changes) may require minor adjustments to accommodate the motor and moving components, ensuring that system durability and shock absorption remain effective.</li>\n",
       "</ul>\n",
       "<h2>Functional Adjustments</h2>\n",
       "<ul>\n",
       "<li><strong>Logical Functions:</strong>\n",
       "<ul>\n",
       "<li><em>Accept Adjustment for Terrain:</em> This function will need modification to incorporate the new adjustment capabilities offered by the electric seat.</li>\n",
       "<li><em>Dampen Force from Wheels:</em> Adjustments may be necessary to balance the additional weight and electronic components, ensuring that their functionality is not compromised.</li>\n",
       "</ul>\n",
       "</li>\n",
       "<li><strong>Functional Chains:</strong>\n",
       "<ul>\n",
       "<li><em>Terrain Adjust:</em> This chain might require updates to reflect the enhanced capability of adjusting the seat electronically when the terrain changes.</li>\n",
       "</ul>\n",
       "</li>\n",
       "</ul>\n",
       "<h2>Potential System Requirements</h2>\n",
       "<p>In addition to the existing structural and operational components, new system requirements such as wiring pathways, motor cooling, and enhanced battery capacities should be anticipated and integrated. They will ensure the seamless functionality of the electric seat post adjustment.</p>\n",
       "<h2>Conclusion</h2>\n",
       "<p>The introduction of an electric seat post adjustment will both directly and indirectly impact several components of the mountain bike system. It requires careful consideration of existing functionalities to integrate effectively within the current architecture, ensuring compatibility, reliability, and performance of the mountain bike remains uncompromised.</p>\n",
       "</body>\n",
       "</html>\n",
       "```"
      ],
      "text/plain": [
       "<IPython.core.display.HTML object>"
      ]
     },
     "metadata": {},
     "output_type": "display_data"
    }
   ],
   "source": [
    "prompt = \"\"\"\n",
    "Please create a set of 20 system requirements for the Mountain Bike based on the its Involved Operation Capabilities noted on the {OCB_ Cruiser Ebike diagram. \n",
    "Format the requirement in the following way:\n",
    "1. Each requirement will have a heading and body.\n",
    "2. The heading should be limited to 5 words.\n",
    "3. The body should be written as a shall statement.\n",
    "4. The body to be clear, concise and testable.\n",
    "\"\"\"\n",
    "chatgpt_response = analyzer.get_response()\n",
    "\n",
    "# Step 3: Display the response in the notebook\n",
    "#print(\"ChatGPT Analysis:\\n\")\n",
    "display(Markdown(f\"\\n\\n**ChatGPT Analysis:**\\n\"))\n",
    "#print(chatgpt_response)\n",
    "display(HTML(chatgpt_response))"
   ]
  },
  {
   "cell_type": "markdown",
   "id": "614ada9b-367c-4929-badf-e27c7170b825",
   "metadata": {},
   "source": [
    "## 💬 Launch Interactive Chat on Structured Input\n",
    "\n",
    "### Purpose\n",
    "This cell launches an interactive chat session based on the structured input file, leveraging ARCADIA and Polarion terminology to ensure the analysis remains consistent with the modeling context.\n",
    "\n",
    "### Key Features\n",
    "- Uses the generated structured input file (e.g., `capella_model.yaml`) to guide the conversation.\n",
    "- Supports ARCADIA terms such as **functions**, **components**, **activities**, and **exchanges**.\n",
    "- Incorporates Polarion terms like **workitem**, **requirement**, and **traceability** for seamless integration with requirements management workflows.\n",
    "\n",
    "### How It Works\n",
    "1. The structured input file provides context for the chat session.\n",
    "2. You can interactively query details about the model elements, relationships, and dependencies.\n",
    "3. Responses are tailored using ARCADIA and Polarion terminology.\n",
    "\n",
    "### Example Prompts\n",
    "- **For ARCADIA:**\n",
    "  ```plaintext\n",
    "  What are the dependencies and exchanges for the selected function in the Logical Architecture phase?\n",
    "\n",
    "- **For Polarion:**\n",
    "  ```plaintext\n",
    "  Provide the traceability matrix for the workitem linked to this component.\n",
    "  ```\n",
    "### 🛠️ Instructions\n",
    "1. Ensure the `capella_model.yaml` file has been generated and is up-to-date.\n",
    "2. Run this cell to start the interactive chat session.\n",
    "3. Enter your queries using **ARCADIA** or **Polarion** terms for accurate and relevant responses.\n",
    "\n",
    "### 📝 Notes\n",
    "- The interactive chat dynamically adapts to the content in the structured input file.\n",
    "- Use precise and contextual queries to ensure the best results and insights.\n",
    "\n",
    "> 💡 **Tip:** If you're unfamiliar with ARCADIA or Polarion terminology, consult the respective documentation or glossary for guidance.\n",
    "\n"
   ]
  },
  {
   "cell_type": "code",
   "execution_count": null,
   "id": "ac1d370a-fcf4-4084-9064-f5e11a03a641",
   "metadata": {
    "jupyter": {
     "source_hidden": true
    }
   },
   "outputs": [
    {
     "name": "stdout",
     "output_type": "stream",
     "text": [
      "Starting interactive chat...\n"
     ]
    },
    {
     "data": {
      "application/vnd.jupyter.widget-view+json": {
       "model_id": "e3349e816d2642ca96a28be840f8178d",
       "version_major": 2,
       "version_minor": 0
      },
      "text/plain": [
       "Output()"
      ]
     },
     "metadata": {},
     "output_type": "display_data"
    },
    {
     "data": {
      "application/vnd.jupyter.widget-view+json": {
       "model_id": "8ceec9a952c140c2979ed6f23357bfbf",
       "version_major": 2,
       "version_minor": 0
      },
      "text/plain": [
       "Textarea(value='', layout=Layout(border_bottom='2px solid #4A90E2', border_left='2px solid #4A90E2', border_ri…"
      ]
     },
     "metadata": {},
     "output_type": "display_data"
    },
    {
     "data": {
      "application/vnd.jupyter.widget-view+json": {
       "model_id": "aa8c49d97442492cafd22b00da98552b",
       "version_major": 2,
       "version_minor": 0
      },
      "text/plain": [
       "HBox(children=(Button(button_style='primary', description='Execute', style=ButtonStyle()), Button(button_style…"
      ]
     },
     "metadata": {},
     "output_type": "display_data"
    },
    {
     "name": "stdout",
     "output_type": "stream",
     "text": [
      "Waiting for chat interactions...\n"
     ]
    }
   ],
   "source": [
    "analyzer.interactive_chat()\n"
   ]
  },
  {
   "cell_type": "code",
   "execution_count": null,
   "id": "57dea895-123c-4c7f-b386-89510fcfcd9d",
   "metadata": {
    "jupyter": {
     "source_hidden": true
    }
   },
   "outputs": [],
   "source": [
    "print(\"Done\")"
   ]
  },
  {
   "cell_type": "markdown",
   "id": "8fb2484d-c283-416d-b5ae-03289fc2a8a1",
   "metadata": {},
   "source": [
    "# "
   ]
  },
  {
   "cell_type": "code",
   "execution_count": null,
   "id": "a4c59542-ddf7-4047-9007-2613a7f96589",
   "metadata": {
    "collapsed": true,
    "jupyter": {
     "outputs_hidden": true,
     "source_hidden": true
    }
   },
   "outputs": [],
   "source": []
  },
  {
   "cell_type": "code",
   "execution_count": null,
   "id": "edddd2fe-aeef-43a8-94d2-4b7cac1ce700",
   "metadata": {
    "collapsed": true,
    "jupyter": {
     "outputs_hidden": true,
     "source_hidden": true
    }
   },
   "outputs": [],
   "source": []
  }
 ],
 "metadata": {
  "kernelspec": {
   "display_name": "Python 3 (ipykernel)",
   "language": "python",
   "name": "python3"
  },
  "language_info": {
   "codemirror_mode": {
    "name": "ipython",
    "version": 3
   },
   "file_extension": ".py",
   "mimetype": "text/x-python",
   "name": "python",
   "nbconvert_exporter": "python",
   "pygments_lexer": "ipython3",
   "version": "3.11.9"
  }
 },
 "nbformat": 4,
 "nbformat_minor": 5
}
