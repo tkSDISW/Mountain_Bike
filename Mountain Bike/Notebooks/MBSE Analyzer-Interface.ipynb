{
 "cells": [
  {
   "cell_type": "markdown",
   "id": "2ef785c9-a1c0-4ad7-a185-02a1569ca072",
   "metadata": {},
   "source": [
    "# Model Based System Engineering Assistant: \n",
    "## Leveraging AI for System Engineering models \n",
    "\n",
    "Welcome to the **MBSE Assistant Notebook**, a powerful tool designed to augment your ability to review, comprehend, and enhance system models with AI-driven support. This notebook integrates a variety of capabilities to assist with:\n",
    "\n",
    "1. **Model Review and Comprehension**:\n",
    "   - Gain deeper insights into the structure and behavior of your system model.\n",
    "   - Use AI to clarify relationships, dependencies, and interactions within the model.\n",
    "\n",
    "2. **Impact Analysis**:\n",
    "   - Explore the potential effects of component failures on the system.\n",
    "   - Simulate scenarios to identify vulnerabilities and design improvements.\n",
    "\n",
    "3. **Simulation Generation**:\n",
    "   - Automatically generate simulations based on the model's architecture and behaviors.\n",
    "   - Use simulations for validation, testing, and demonstration purposes.\n",
    "\n",
    "4. **Failure Analysis**:\n",
    "   - Assess the system's resilience under various failure conditions.\n",
    "   - Extract meaningful insights to strengthen reliability and performance.\n",
    "\n",
    "5. **Content Extraction for Downstream Domains**:\n",
    "   - Convert model data into formats suitable for use in other engineering domains.\n",
    "   - Facilitate seamless collaboration across teams and tools.\n",
    "\n",
    "This notebook serves as a comprehensive platform to bridge the gap between system models and actionable insights, empowering architects to make informed decisions and design robust solutions. Whether you're investigating enhancements, running failure simulations, or preparing data for external domains, this assistant streamlines the process with AI-enhanced guidance.\n",
    "\n",
    "Feel free to explore and adapt the prompts and models to suit your specific use case. Let’s dive in and unlock the potential of your system model!\n"
   ]
  },
  {
   "cell_type": "markdown",
   "id": "b5acc178-1a94-4014-b1f7-13c97a9ba4ec",
   "metadata": {},
   "source": [
    "### Model-Specific Code (Do Not Modify)\n",
    "\n",
    "This section contains code that is specific to the system model. It is updated only when the model is changed and should not require user modifications under normal circumstances.\n",
    "\n",
    "If a new model is introduced, ensure this section is reviewed and updated as needed.\n"
   ]
  },
  {
   "cell_type": "code",
   "execution_count": 1,
   "id": "c7ba8743-5dac-41be-9083-d44aa0199411",
   "metadata": {
    "scrolled": true
   },
   "outputs": [
    {
     "name": "stdout",
     "output_type": "stream",
     "text": [
      "Warning: File '../Mountain Bike.traceability' does not exist.\n"
     ]
    }
   ],
   "source": [
    "#!pip install --upgrade git+https://github.com/tkSDISW/Capella_Tools \n",
    "import capellambse.decl\n",
    "\n",
    "from capella_tools import capellambse_helper\n",
    "\n",
    "from IPython import display as diag_display\n",
    "\n",
    "resources = {\n",
    "    \"Mountain_Bike\": \"Mountain_Bike/Mountain Bike\",\n",
    "    \"Bike BrakeSystem Library\": {\"path\" : \"/home/simcenter/studio/Bike_BrakeSystem_Library/Bike BrakeSystem Library\"}\n",
    "}\n",
    "path_to_model = \"../Mountain Bike.aird\"\n",
    "model = capellambse.MelodyModel(path_to_model, resources=resources)\n",
    "from capella_tools import Pub4C\n",
    "# Instantiate the class with the traceability file\n",
    "traceability_store = Pub4C.Traceability_Store(\"../Mountain Bike.traceability\")\n"
   ]
  },
  {
   "cell_type": "code",
   "execution_count": null,
   "id": "5f73131d-3ba3-4c6f-8418-378d418156a6",
   "metadata": {
    "collapsed": true,
    "jupyter": {
     "outputs_hidden": true,
     "source_hidden": true
    }
   },
   "outputs": [],
   "source": []
  },
  {
   "cell_type": "markdown",
   "id": "98e07f65-caa7-4e20-9268-7c5df4783e36",
   "metadata": {},
   "source": [
    "## 🔄 Embedding Generation Process\n",
    "\n",
    "### Overview\n",
    "This section generates embeddings, which streamlines processing and analyzing the model. The embeddings provide a structured representation of the data that powers subsequent tasks and visualizations.\n",
    "\n",
    "### When is this step necessary?\n",
    "- **Initial Run:** If this notebook is being run for the first time, embeddings will need to be generated.\n",
    "- **Model Updates:** If the underlying model has been modified, regenerating embeddings ensures the data remains accurate and up-to-date.\n",
    "\n",
    "### Important Notes\n",
    "- **Duration:** This process may take **a minute or more** to complete, depending on the size and complexity of the model.\n",
    "- **Output:** Upon completion, embeddings will be ready for use in subsequent sections of the notebook.\n",
    "\n",
    "### Instructions\n",
    "1. Ensure the required model is loaded.\n",
    "2. Run the cell below to initiate the embedding generation process.\n",
    "3. Wait for the process to complete before proceeding.\n",
    "\n",
    "> 💡 **Tip:** You can monitor progress in the notebook's output cell. If any errors occur, check that the model is properly configured and accessible.\n",
    "\n",
    "---\n",
    "\n",
    "> ⚠️ **Warning:** Interrupting this step may result in incomplete or invalid embeddings. If interrupted, re-run the cell to restart the process.\n",
    "\n",
    "---\n",
    "\n",
    "Continue to the next cell to generate embeddings. 🚀\n"
   ]
  },
  {
   "cell_type": "code",
   "execution_count": 2,
   "id": "2c54cb77-76e8-4309-90e0-7da1d2a2d9f8",
   "metadata": {
    "jupyter": {
     "source_hidden": true
    }
   },
   "outputs": [
    {
     "name": "stdout",
     "output_type": "stream",
     "text": [
      "OpenAI API Key retrieved successfully.\n",
      "Loading embeddings\n",
      "embeddings loaded.\n"
     ]
    }
   ],
   "source": [
    "\n",
    "from capella_tools  import capella_embeddings_manager\n",
    "\n",
    "# Generate embeddings for all objects\n",
    "model_embedding_manager = capella_embeddings_manager.EmbeddingManager()\n",
    "\n",
    "embedding_file = \"embeddings.json\" \n",
    "model_embedding_manager.set_files( path_to_model , embedding_file)\n",
    "\n",
    "model_embedding_manager.create_model_embeddings(model)"
   ]
  },
  {
   "cell_type": "markdown",
   "id": "f671a45d-5335-463c-802a-156296f21ad4",
   "metadata": {},
   "source": [
    "## 🎯 Prompt for System Model Element Analysis\n",
    "\n",
    "### Purpose\n",
    "This cell accepts a prompt to identify and isolate the specific object(s) to be analyzed. Providing detailed and accurate information in the prompt will ensure the best performance during the analysis.\n",
    "\n",
    "### What to Include in Your Prompt\n",
    "For optimal results, specify the following details about the object(s):\n",
    "1. **Type of ARCADIA Object:** Clearly state the type of the object (e.g., Logical Component, Physical Component, Functional Exchange).\n",
    "2. **Name of the Object:** Provide the exact name of the object as defined in the model.\n",
    "3. **ARCADIA Phase:** Specify the phase associated with the object (e.g., Operational Analysis, System Analysis, Logical Architecture, Physical Architecture).\n",
    "4. **Related Objects:** Identify any objects connected via exchanges or dependencies.\n",
    "\n",
    "### Example Prompt\n",
    "Locate the Logical Component named Brake Pedal in the Logical phase and has a Driver supplying input.\n",
    "### ✅ Tips for Success\n",
    "- **Use precise terminology:** Ensure your prompt aligns with the model's structure and terminology.\n",
    "- **Include related objects:** Whenever possible, specify related objects to enhance context and improve analysis accuracy.\n",
    "- **Double-check details:** Verify object names and phases to ensure they match the model exactly.\n",
    "'''\n",
    "\n",
    "### 🚀 Next Steps\n",
    "1. Run the cell below.\n",
    "2. Enter your prompt, providing the necessary details as outlined above.\n",
    "3. Wait for the analysis to complete.\n",
    "4. Select the best index or indexes for analysis. (The last selection will drive selection of a prompt.)\n",
    "\n",
    "> 💡 **Tip:** If you're unsure about the model structure, review the documentation or refer to the model's diagrams for additional guidance.\n"
   ]
  },
  {
   "cell_type": "code",
   "execution_count": 3,
   "id": "31298768-f6da-4f27-9c76-50d02b7a0fe7",
   "metadata": {},
   "outputs": [
    {
     "name": "stdout",
     "output_type": "stream",
     "text": [
      "\n",
      "This is a list of ranked Objects Based on Query:\n",
      "Index: 0, Name: Right Hydraulic Brake Assembly, Similarity: 0.86, Type: PhysicalComponent-NODE, Phase: Physical Architecture PA, Source: , Target: \n"
     ]
    }
   ],
   "source": [
    "\n",
    "selected_objects = model_embedding_manager.query_and_select_top_objects(\"Right Hydraulic Brake Assembly Physical Architecture\", top_n=1)\n"
   ]
  },
  {
   "cell_type": "markdown",
   "id": "2dd4a6ad-39a9-4bc3-ae26-5d97c5fe394b",
   "metadata": {},
   "source": [
    "\n",
    "\n",
    "\n",
    "\n",
    "## 📝 Generate Structured Input File \n",
    "\n",
    "### Purpose\n",
    "This cell generates a structured structured input file, `capella_model.yaml`, which serves as input for prompts tailored to the object type of the last selected item. This ensures that the prompt aligns with the model's structure and provides accurate context for analysis.\n",
    "\n",
    "### What This Cell Does\n",
    "- Extracts data related to the elements selected.\n",
    "- Structures the data into a YAML format.\n",
    "- Saves the YAML file as `capella_model.yaml` for further use.\n",
    "\n",
    "### Key Features\n",
    "- The YAML file includes:\n",
    "  - **Object Type:** The type of the element.\n",
    "  - **Object Details:** Attributes, relationships, and associated exchanges.\n",
    "  - **Structured Input:** Designed to enhance prompt accuracy and model analysis.\n",
    "\n",
    "### Instructions\n",
    "1. Run this cell to create the `capella_model.yaml` file.\n",
    "2. Ensure the last selected item is correctly identified to avoid mismatched data.\n",
    "3. Use the generated YAML file as structured input for tailored prompts in subsequent steps.\n",
    "\n",
    "### Notes\n",
    "- The file will be saved in the current working directory.\n",
    "- If the selected object changes, re-run this cell to update the YAML file.\n",
    "\n",
    "> 💡 **Tip:** Review the contents of `capella_model.yaml` if needed to ensure accuracy and completeness.\n"
   ]
  },
  {
   "cell_type": "code",
   "execution_count": 4,
   "id": "4db8d5ea-0e49-4098-aedc-0914d956f286",
   "metadata": {},
   "outputs": [],
   "source": [
    "#Workflow\n",
    "from capella_tools import capellambse_yaml_manager\n",
    "yaml_handler = capellambse_yaml_manager.CapellaYAMLHandler()\n",
    "   \n",
    "#Generate YAML for the logical component and append to the file\n",
    "for object in  selected_objects : \n",
    "    yaml_handler.generate_yaml(model.by_uuid(object[\"uuid\"]))  \n",
    "\n",
    "\n",
    "\n",
    "\n",
    "yaml_handler.generate_traceability_related_objects(model,traceability_store)\n",
    "\n",
    "#yaml_handler.display()\n",
    "yaml_handler.generate_yaml_referenced_objects()\n",
    "#yaml_handler.display()\n",
    "\n",
    "yaml_handler.write_output_file()\n"
   ]
  },
  {
   "cell_type": "markdown",
   "id": "1113cb97-36e1-46b4-aec7-9713aea09a64",
   "metadata": {},
   "source": [
    "## 🖼️ Generate Contextual Diagram\n",
    "\n",
    "### Purpose\n",
    "This cell generates a **contextual diagram** for the selected object. The diagram visually represents the object's relationships and interactions, providing a clear and comprehensive view of its context within the model.\n",
    "\n",
    "### Supported Object Types\n",
    "This functionality works the following ARCADIA elements, including:\n",
    "- **Functions**\n",
    "- **Activities**\n",
    "- **Components**\n",
    "- **Entities**\n",
    "- **Exchanges and Interactions**\n",
    "- **Physical Links**\n",
    "\n",
    "### What This Cell Does\n",
    "- Identifies the selected object.\n",
    "- Extracts relevant relationships, exchanges, and dependencies.\n",
    "- Creates a contextual diagram based on the object's type and its connections.\n",
    "\n",
    "### Instructions\n",
    "1. Ensure the object is correctly selected in the previous step.\n",
    "2. Run this cell to generate the contextual diagram.\n",
    "3. Review the output to verify accuracy and completeness.\n",
    "\n",
    "### Key Benefits\n",
    "- **Clarity:** Visualizes how the selected object interacts with other model elements.\n",
    "- **Versatility:** Works seamlessly across ARCADIA functions, activities, components, and entities.\n",
    "- **Actionable Insight:** Helps identify key dependencies and relationships for analysis.\n",
    "\n",
    "### Notes\n",
    "- The diagram will be displayed below upon completion.\n",
    "- If the selected object changes, re-run this cell to update the contextual\n"
   ]
  },
  {
   "cell_type": "code",
   "execution_count": 5,
   "id": "6679d117-2c29-4dc1-9eac-b14e602b1cee",
   "metadata": {},
   "outputs": [
    {
     "data": {
      "image/png": "[encoded data removed]",
      "image/svg+xml": [
       "<svg baseProfile=\"full\" class=\"PhysicalArchitectureBlank\" font-family=\"'Open Sans','Segoe UI',Arial,sans-serif\" font-size=\"10px\" height=\"175\" shape-rendering=\"geometricPrecision\" version=\"1.1\" viewBox=\"2 2 907 175\" width=\"907\" xmlns=\"http://www.w3.org/2000/svg\" xmlns:ev=\"http://www.w3.org/2001/xml-events\" xmlns:xlink=\"http://www.w3.org/1999/xlink\"><defs><symbol id=\"PhysicalNodeComponentSymbol\" stroke=\"#000\" stroke-width=\"2\" viewBox=\"0 0 79 79\"><path d=\"M18 237h46v43H18z\" fill=\"#ffff00\" transform=\"translate(0 -218)\" /><path d=\"M12 247h11v8H12z\" fill=\"#ffff00\" transform=\"translate(0 -218)\" /><path d=\"M12 261h11v8H12z\" fill=\"#ffff00\" transform=\"translate(0 -218)\" /><path d=\"m 57.589299,33.276194 c 0,1.410473 -0.249326,2.72122 -0.747979,3.93224 -0.484407,1.19676 -1.168275,2.236807 -2.051603,3.12014 -1.097038,1.097033 -2.393538,1.923373 -3.889499,2.47902 -1.495959,0.541393 -3.383718,0.81209 -5.663277,0.81209 h -4.231429 v 11.86083 h -4.23143 v -31.82122 h 8.633826 c 1.909129,0 3.526191,0.163843 4.851185,0.49153 1.324993,0.31344 2.500391,0.812097 3.526192,1.49597 1.211016,0.812087 2.14421,1.82364 2.799583,3.03466 0.669621,1.211013 1.004431,2.742593 1.004431,4.59474 z m -4.402396,0.10687 c 0,-1.09704 -0.192339,-2.051607 -0.577016,-2.8637 -0.384675,-0.812093 -0.968811,-1.47459 -1.752408,-1.98749 -0.683868,-0.441667 -1.467467,-0.755107 -2.350798,-0.94032 -0.869079,-0.19946 -1.97324,-0.29919 -3.312483,-0.29919 h -4.188686 v 12.71566 h 3.568931 c 1.709669,0 3.098776,-0.149593 4.167321,-0.44878 1.068543,-0.31344 1.937623,-0.80497 2.607242,-1.47459 0.669621,-0.683867 1.139781,-1.403353 1.410478,-2.15846 0.284946,-0.7551 0.427419,-1.60281 0.427419,-2.54313 z\" fill=\"#000\" stroke-width=\"0.1\" /></symbol><linearGradient id=\"CustomGradient_FFFFDC_FFFCB7\" x1=\"0\" x2=\"0\" y1=\"0\" y2=\"1\"><stop offset=\"0.0\" stop-color=\"#FFFFDC\" stop-opacity=\"1\" /><stop offset=\"1.0\" stop-color=\"#FFFCB7\" stop-opacity=\"1\" /></linearGradient><symbol id=\"PhysicalLinkSymbol\" viewBox=\"0 0 40 30\"><linearGradient id=\"PhysicalLinkSymbol-gradient\" x1=\"0\" x2=\"1\" y1=\"0\" y2=\"1\"><stop offset=\"0.0\" stop-color=\"#DFDF00\" stop-opacity=\"1\" /><stop offset=\"1.0\" stop-color=\"#E8E809\" stop-opacity=\"1\" /></linearGradient><linearGradient id=\"PhysicalLinkSymbol-gradientreverse\" x1=\"0\" x2=\"1\" y1=\"0\" y2=\"1\"><stop offset=\"0.0\" stop-color=\"#E8E809\" stop-opacity=\"1\" /><stop offset=\"1.0\" stop-color=\"#DFDF00\" stop-opacity=\"1\" /></linearGradient><g stroke=\"#000\" stroke-width=\"2\"><path d=\"M 36.190065,5.0377724 V 24.962228 H 26.17482 V 5.0377724 Z\" fill=\"url(#PhysicalLinkSymbol-gradientreverse)\" /><path d=\"m 14.372107,10 h 12.622435 c 0.926189,0.585267 1.836022,1.274509 2.268178,5 -0.208657,2.812473 -0.954601,4.503809 -2.273297,5 H 14.296948\" fill=\"#F60A0A\" /><path d=\"M 3.9464908,5.0048246 V 24.995175 H 10.87518 C 12.433713,24.159139 15.158267,20.291241 15.313795,15 15.498614,11.583142 14.059659,6.6240913 10.87518,5.0048246 c -2.2179509,0 -4.5908341,0 -6.9286892,0 z\" fill=\"url(#PhysicalLinkSymbol-gradient)\" /></g></symbol></defs><rect fill=\"#fff\" height=\"175\" stroke=\"none\" width=\"907\" x=\"2\" y=\"2\" /><g class=\"Box PhysicalNodeComponent context-0782da30-160a-44f8-85f7-d750c59dcd50 context-131525eb-9475-4f0d-8965-28b24915330d context-19c3d3d0-5017-4ce4-b4de-38867f32beec context-33c4f69e-2fc3-4ac4-8676-b94802a1fcb6 context-553b0895-ac15-4b02-832e-e16895533544 context-61714212-1da3-4c8f-a53c-680974739432 context-66e0de5b-6ab0-4f65-9677-707c9af2bce6 context-7daafbae-a58c-4493-876c-e44da1d7f9f6 context-8eadfe98-61cc-4b8a-abd9-0c21f6a87312 context-9906acf1-5fc2-412c-bd40-8a4e1e0afd91 context-c269ecf4-0997-4f72-900b-38ebe55060e6 context-c8d99bc7-5e88-48aa-9fa3-788d1de84ee0 context-cb7727c0-6e5d-46fe-bdd7-52c3995566f2 context-e5d258f9-9f4d-49e8-a133-c321f0d25a1b\" id=\"8eadfe98-61cc-4b8a-abd9-0c21f6a87312\"><rect class=\"PhysicalNodeComponent\" fill=\"url(&quot;#CustomGradient_FFFFDC_FFFCB7&quot;)\" height=\"42\" stroke=\"#7B694F\" stroke-width=\"1\" width=\"143\" x=\"13.5\" y=\"125.5\" /><text class=\"PhysicalNodeComponent\" dominant-baseline=\"middle\" fill=\"#000000\" text-anchor=\"middle\" x=\"12\" y=\"137\"><tspan x=\"91.0\" xml:space=\"preserve\" y=\"147.85714285714286\">Rear Hydraulic Lines</tspan></text><use height=\"20\" width=\"20\" x=\"24.5\" xlink:href=\"#PhysicalNodeComponentSymbol\" y=\"137.85714285714286\" /></g><g class=\"Box PhysicalNodeComponent context-0782da30-160a-44f8-85f7-d750c59dcd50 context-131525eb-9475-4f0d-8965-28b24915330d context-19c3d3d0-5017-4ce4-b4de-38867f32beec context-33c4f69e-2fc3-4ac4-8676-b94802a1fcb6 context-553b0895-ac15-4b02-832e-e16895533544 context-61714212-1da3-4c8f-a53c-680974739432 context-66e0de5b-6ab0-4f65-9677-707c9af2bce6 context-7daafbae-a58c-4493-876c-e44da1d7f9f6 context-8eadfe98-61cc-4b8a-abd9-0c21f6a87312 context-9906acf1-5fc2-412c-bd40-8a4e1e0afd91 context-c269ecf4-0997-4f72-900b-38ebe55060e6 context-c8d99bc7-5e88-48aa-9fa3-788d1de84ee0 context-cb7727c0-6e5d-46fe-bdd7-52c3995566f2 context-e5d258f9-9f4d-49e8-a133-c321f0d25a1b\" id=\"61714212-1da3-4c8f-a53c-680974739432\"><rect class=\"PhysicalNodeComponent\" fill=\"url(&quot;#CustomGradient_FFFFDC_FFFCB7&quot;)\" height=\"42\" stroke=\"#7B694F\" stroke-width=\"1\" width=\"128\" x=\"15.5\" y=\"61.5\" /><text class=\"PhysicalNodeComponent\" dominant-baseline=\"middle\" fill=\"#000000\" text-anchor=\"middle\" x=\"14\" y=\"73\"><tspan x=\"85.5\" xml:space=\"preserve\" y=\"83.85714285714286\">Right Brake Lever</tspan></text><use height=\"20\" width=\"20\" x=\"25.5\" xlink:href=\"#PhysicalNodeComponentSymbol\" y=\"73.85714285714286\" /></g><g class=\"Box PhysicalNodeComponent context-0782da30-160a-44f8-85f7-d750c59dcd50 context-131525eb-9475-4f0d-8965-28b24915330d context-19c3d3d0-5017-4ce4-b4de-38867f32beec context-33c4f69e-2fc3-4ac4-8676-b94802a1fcb6 context-553b0895-ac15-4b02-832e-e16895533544 context-61714212-1da3-4c8f-a53c-680974739432 context-66e0de5b-6ab0-4f65-9677-707c9af2bce6 context-7daafbae-a58c-4493-876c-e44da1d7f9f6 context-8eadfe98-61cc-4b8a-abd9-0c21f6a87312 context-9906acf1-5fc2-412c-bd40-8a4e1e0afd91 context-c269ecf4-0997-4f72-900b-38ebe55060e6 context-c8d99bc7-5e88-48aa-9fa3-788d1de84ee0 context-cb7727c0-6e5d-46fe-bdd7-52c3995566f2 context-e5d258f9-9f4d-49e8-a133-c321f0d25a1b\" id=\"c269ecf4-0997-4f72-900b-38ebe55060e6\"><rect class=\"PhysicalNodeComponent\" fill=\"url(&quot;#CustomGradient_FFFFDC_FFFCB7&quot;)\" height=\"148\" stroke=\"#7B694F\" stroke-width=\"4\" width=\"546\" x=\"352.5\" y=\"12.5\" /><text class=\"PhysicalNodeComponent\" dominant-baseline=\"middle\" fill=\"#000000\" text-anchor=\"middle\" x=\"553\" y=\"17\"><tspan x=\"635.5\" xml:space=\"preserve\" y=\"27.857142857142858\">Right Hydraulic Brake Assembly</tspan></text><use height=\"20\" width=\"20\" x=\"542.5\" xlink:href=\"#PhysicalNodeComponentSymbol\" y=\"17.857142857142858\" /></g><g class=\"Box PhysicalNodeComponent context-0782da30-160a-44f8-85f7-d750c59dcd50 context-131525eb-9475-4f0d-8965-28b24915330d context-19c3d3d0-5017-4ce4-b4de-38867f32beec context-33c4f69e-2fc3-4ac4-8676-b94802a1fcb6 context-553b0895-ac15-4b02-832e-e16895533544 context-61714212-1da3-4c8f-a53c-680974739432 context-66e0de5b-6ab0-4f65-9677-707c9af2bce6 context-7daafbae-a58c-4493-876c-e44da1d7f9f6 context-8eadfe98-61cc-4b8a-abd9-0c21f6a87312 context-9906acf1-5fc2-412c-bd40-8a4e1e0afd91 context-c269ecf4-0997-4f72-900b-38ebe55060e6 context-c8d99bc7-5e88-48aa-9fa3-788d1de84ee0 context-cb7727c0-6e5d-46fe-bdd7-52c3995566f2 context-e5d258f9-9f4d-49e8-a133-c321f0d25a1b\" id=\"19c3d3d0-5017-4ce4-b4de-38867f32beec\"><rect class=\"PhysicalNodeComponent\" fill=\"url(&quot;#CustomGradient_FFFFDC_FFFCB7&quot;)\" height=\"42\" stroke=\"#7B694F\" stroke-width=\"1\" width=\"150\" x=\"364.5\" y=\"105.5\" /><text class=\"PhysicalNodeComponent\" dominant-baseline=\"middle\" fill=\"#000000\" text-anchor=\"middle\" x=\"381\" y=\"117\"><tspan x=\"446.0\" xml:space=\"preserve\" y=\"127.85714285714286\">Right Reservior</tspan></text><use height=\"20\" width=\"20\" x=\"392.0\" xlink:href=\"#PhysicalNodeComponentSymbol\" y=\"117.85714285714286\" /></g><g class=\"Box PhysicalNodeComponent context-0782da30-160a-44f8-85f7-d750c59dcd50 context-131525eb-9475-4f0d-8965-28b24915330d context-19c3d3d0-5017-4ce4-b4de-38867f32beec context-33c4f69e-2fc3-4ac4-8676-b94802a1fcb6 context-553b0895-ac15-4b02-832e-e16895533544 context-61714212-1da3-4c8f-a53c-680974739432 context-66e0de5b-6ab0-4f65-9677-707c9af2bce6 context-7daafbae-a58c-4493-876c-e44da1d7f9f6 context-8eadfe98-61cc-4b8a-abd9-0c21f6a87312 context-9906acf1-5fc2-412c-bd40-8a4e1e0afd91 context-c269ecf4-0997-4f72-900b-38ebe55060e6 context-c8d99bc7-5e88-48aa-9fa3-788d1de84ee0 context-cb7727c0-6e5d-46fe-bdd7-52c3995566f2 context-e5d258f9-9f4d-49e8-a133-c321f0d25a1b\" id=\"cb7727c0-6e5d-46fe-bdd7-52c3995566f2\"><rect class=\"PhysicalNodeComponent\" fill=\"url(&quot;#CustomGradient_FFFFDC_FFFCB7&quot;)\" height=\"79\" stroke=\"#7B694F\" stroke-width=\"1\" width=\"150\" x=\"736.5\" y=\"64.5\" /><text class=\"PhysicalNodeComponent\" dominant-baseline=\"middle\" fill=\"#000000\" text-anchor=\"middle\" x=\"770\" y=\"95\"><tspan x=\"826.0\" xml:space=\"preserve\" y=\"105.85714285714286\">Right Piston</tspan></text><use height=\"20\" width=\"20\" x=\"779.5\" xlink:href=\"#PhysicalNodeComponentSymbol\" y=\"95.85714285714286\" /></g><g class=\"Edge PhysicalLink context-0782da30-160a-44f8-85f7-d750c59dcd50 context-131525eb-9475-4f0d-8965-28b24915330d context-19c3d3d0-5017-4ce4-b4de-38867f32beec context-33c4f69e-2fc3-4ac4-8676-b94802a1fcb6 context-553b0895-ac15-4b02-832e-e16895533544 context-61714212-1da3-4c8f-a53c-680974739432 context-66e0de5b-6ab0-4f65-9677-707c9af2bce6 context-7daafbae-a58c-4493-876c-e44da1d7f9f6 context-8eadfe98-61cc-4b8a-abd9-0c21f6a87312 context-9906acf1-5fc2-412c-bd40-8a4e1e0afd91 context-c269ecf4-0997-4f72-900b-38ebe55060e6 context-c8d99bc7-5e88-48aa-9fa3-788d1de84ee0 context-cb7727c0-6e5d-46fe-bdd7-52c3995566f2 context-e5d258f9-9f4d-49e8-a133-c321f0d25a1b\" id=\"9906acf1-5fc2-412c-bd40-8a4e1e0afd91\"><path class=\"Edge\" d=\"M 158.5 146.5 337.5 146.5 337.5 94.5 347.5 94.5 660.5 94.5 660.5 104.5 734.5 104.5\" fill=\"none\" stroke=\"#EF2929\" stroke-width=\"2\" /><text class=\"Annotation\" dominant-baseline=\"middle\" fill=\"#EF2929\" text-anchor=\"middle\" x=\"219.5\" y=\"149\"><tspan x=\"290.0\" xml:space=\"preserve\" y=\"157.71428571428572\">H-Brake Line</tspan></text><use height=\"20\" width=\"20\" x=\"240.0\" xlink:href=\"#PhysicalLinkSymbol\" y=\"147.71428571428572\" /></g><g class=\"Edge PhysicalLink context-0782da30-160a-44f8-85f7-d750c59dcd50 context-131525eb-9475-4f0d-8965-28b24915330d context-19c3d3d0-5017-4ce4-b4de-38867f32beec context-33c4f69e-2fc3-4ac4-8676-b94802a1fcb6 context-553b0895-ac15-4b02-832e-e16895533544 context-61714212-1da3-4c8f-a53c-680974739432 context-66e0de5b-6ab0-4f65-9677-707c9af2bce6 context-7daafbae-a58c-4493-876c-e44da1d7f9f6 context-8eadfe98-61cc-4b8a-abd9-0c21f6a87312 context-9906acf1-5fc2-412c-bd40-8a4e1e0afd91 context-c269ecf4-0997-4f72-900b-38ebe55060e6 context-c8d99bc7-5e88-48aa-9fa3-788d1de84ee0 context-cb7727c0-6e5d-46fe-bdd7-52c3995566f2 context-e5d258f9-9f4d-49e8-a133-c321f0d25a1b\" id=\"e5d258f9-9f4d-49e8-a133-c321f0d25a1b\"><path class=\"Edge\" d=\"M 146.5 82.5 347.5 82.5 734.5 82.5\" fill=\"none\" stroke=\"#EF2929\" stroke-width=\"2\" /><text class=\"Annotation\" dominant-baseline=\"middle\" fill=\"#EF2929\" text-anchor=\"middle\" x=\"243.5\" y=\"85\"><tspan x=\"290.5\" xml:space=\"preserve\" y=\"95.14285714285714\">M_3</tspan></text><use height=\"20\" width=\"20\" x=\"261.0\" xlink:href=\"#PhysicalLinkSymbol\" y=\"85.14285714285714\" /></g><g class=\"Edge PhysicalLink context-0782da30-160a-44f8-85f7-d750c59dcd50 context-131525eb-9475-4f0d-8965-28b24915330d context-19c3d3d0-5017-4ce4-b4de-38867f32beec context-33c4f69e-2fc3-4ac4-8676-b94802a1fcb6 context-553b0895-ac15-4b02-832e-e16895533544 context-61714212-1da3-4c8f-a53c-680974739432 context-66e0de5b-6ab0-4f65-9677-707c9af2bce6 context-7daafbae-a58c-4493-876c-e44da1d7f9f6 context-8eadfe98-61cc-4b8a-abd9-0c21f6a87312 context-9906acf1-5fc2-412c-bd40-8a4e1e0afd91 context-c269ecf4-0997-4f72-900b-38ebe55060e6 context-c8d99bc7-5e88-48aa-9fa3-788d1de84ee0 context-cb7727c0-6e5d-46fe-bdd7-52c3995566f2 context-e5d258f9-9f4d-49e8-a133-c321f0d25a1b\" id=\"7daafbae-a58c-4493-876c-e44da1d7f9f6\"><path class=\"Edge\" d=\"M 516.5 126.5 734.5 126.5\" fill=\"none\" stroke=\"#EF2929\" stroke-width=\"2\" /><text class=\"Annotation\" dominant-baseline=\"middle\" fill=\"#EF2929\" text-anchor=\"middle\" x=\"590.5\" y=\"129\"><tspan x=\"637.0\" xml:space=\"preserve\" y=\"139.14285714285714\">H_3</tspan></text><use height=\"20\" width=\"20\" x=\"608.0\" xlink:href=\"#PhysicalLinkSymbol\" y=\"129.14285714285714\" /></g><g class=\"Box PP context-0782da30-160a-44f8-85f7-d750c59dcd50 context-131525eb-9475-4f0d-8965-28b24915330d context-19c3d3d0-5017-4ce4-b4de-38867f32beec context-33c4f69e-2fc3-4ac4-8676-b94802a1fcb6 context-553b0895-ac15-4b02-832e-e16895533544 context-61714212-1da3-4c8f-a53c-680974739432 context-66e0de5b-6ab0-4f65-9677-707c9af2bce6 context-7daafbae-a58c-4493-876c-e44da1d7f9f6 context-8eadfe98-61cc-4b8a-abd9-0c21f6a87312 context-9906acf1-5fc2-412c-bd40-8a4e1e0afd91 context-c269ecf4-0997-4f72-900b-38ebe55060e6 context-c8d99bc7-5e88-48aa-9fa3-788d1de84ee0 context-cb7727c0-6e5d-46fe-bdd7-52c3995566f2 context-e5d258f9-9f4d-49e8-a133-c321f0d25a1b\" id=\"33c4f69e-2fc3-4ac4-8676-b94802a1fcb6\"><rect class=\"PP\" fill=\"#FFF477\" height=\"10\" stroke=\"#7B694F\" stroke-width=\"1\" transform=\"rotate(-90 153.5 146.5)\" width=\"10\" x=\"148.5\" y=\"141.5\" /><text dominant-baseline=\"middle\" text-anchor=\"middle\" x=\"143\" y=\"152\"><tspan x=\"168.5\" xml:space=\"preserve\" y=\"157.71428571428572\">PP 1</tspan></text></g><g class=\"Box PP context-0782da30-160a-44f8-85f7-d750c59dcd50 context-131525eb-9475-4f0d-8965-28b24915330d context-19c3d3d0-5017-4ce4-b4de-38867f32beec context-33c4f69e-2fc3-4ac4-8676-b94802a1fcb6 context-553b0895-ac15-4b02-832e-e16895533544 context-61714212-1da3-4c8f-a53c-680974739432 context-66e0de5b-6ab0-4f65-9677-707c9af2bce6 context-7daafbae-a58c-4493-876c-e44da1d7f9f6 context-8eadfe98-61cc-4b8a-abd9-0c21f6a87312 context-9906acf1-5fc2-412c-bd40-8a4e1e0afd91 context-c269ecf4-0997-4f72-900b-38ebe55060e6 context-c8d99bc7-5e88-48aa-9fa3-788d1de84ee0 context-cb7727c0-6e5d-46fe-bdd7-52c3995566f2 context-e5d258f9-9f4d-49e8-a133-c321f0d25a1b\" id=\"c8d99bc7-5e88-48aa-9fa3-788d1de84ee0\"><rect class=\"PP\" fill=\"#FFF477\" height=\"10\" stroke=\"#7B694F\" stroke-width=\"1\" transform=\"rotate(-90 141.5 82.5)\" width=\"10\" x=\"136.5\" y=\"77.5\" /><text dominant-baseline=\"middle\" text-anchor=\"middle\" x=\"131\" y=\"88\"><tspan x=\"163.0\" xml:space=\"preserve\" y=\"95.14285714285714\">PP 1_3</tspan></text></g><g class=\"Box PP context-0782da30-160a-44f8-85f7-d750c59dcd50 context-131525eb-9475-4f0d-8965-28b24915330d context-19c3d3d0-5017-4ce4-b4de-38867f32beec context-33c4f69e-2fc3-4ac4-8676-b94802a1fcb6 context-553b0895-ac15-4b02-832e-e16895533544 context-61714212-1da3-4c8f-a53c-680974739432 context-66e0de5b-6ab0-4f65-9677-707c9af2bce6 context-7daafbae-a58c-4493-876c-e44da1d7f9f6 context-8eadfe98-61cc-4b8a-abd9-0c21f6a87312 context-9906acf1-5fc2-412c-bd40-8a4e1e0afd91 context-c269ecf4-0997-4f72-900b-38ebe55060e6 context-c8d99bc7-5e88-48aa-9fa3-788d1de84ee0 context-cb7727c0-6e5d-46fe-bdd7-52c3995566f2 context-e5d258f9-9f4d-49e8-a133-c321f0d25a1b\" id=\"131525eb-9475-4f0d-8965-28b24915330d\"><rect class=\"PP\" fill=\"#FFF477\" height=\"10\" stroke=\"#7B694F\" stroke-width=\"1\" transform=\"rotate(-90 511.5 126.5)\" width=\"10\" x=\"506.5\" y=\"121.5\" /><text dominant-baseline=\"middle\" text-anchor=\"middle\" x=\"501\" y=\"132\"><tspan x=\"533.0\" xml:space=\"preserve\" y=\"139.14285714285714\">PP 1_3</tspan></text></g><g class=\"Box PP context-0782da30-160a-44f8-85f7-d750c59dcd50 context-131525eb-9475-4f0d-8965-28b24915330d context-19c3d3d0-5017-4ce4-b4de-38867f32beec context-33c4f69e-2fc3-4ac4-8676-b94802a1fcb6 context-553b0895-ac15-4b02-832e-e16895533544 context-61714212-1da3-4c8f-a53c-680974739432 context-66e0de5b-6ab0-4f65-9677-707c9af2bce6 context-7daafbae-a58c-4493-876c-e44da1d7f9f6 context-8eadfe98-61cc-4b8a-abd9-0c21f6a87312 context-9906acf1-5fc2-412c-bd40-8a4e1e0afd91 context-c269ecf4-0997-4f72-900b-38ebe55060e6 context-c8d99bc7-5e88-48aa-9fa3-788d1de84ee0 context-cb7727c0-6e5d-46fe-bdd7-52c3995566f2 context-e5d258f9-9f4d-49e8-a133-c321f0d25a1b\" id=\"66e0de5b-6ab0-4f65-9677-707c9af2bce6\"><rect class=\"PP\" fill=\"#FFF477\" height=\"10\" stroke=\"#7B694F\" stroke-width=\"1\" transform=\"rotate(90 739.5 126.5)\" width=\"10\" x=\"734.5\" y=\"121.5\" /><text dominant-baseline=\"middle\" text-anchor=\"middle\" x=\"688\" y=\"132\"><tspan x=\"720.0\" xml:space=\"preserve\" y=\"139.14285714285714\">PP 2_3</tspan></text></g><g class=\"Box PP context-0782da30-160a-44f8-85f7-d750c59dcd50 context-131525eb-9475-4f0d-8965-28b24915330d context-19c3d3d0-5017-4ce4-b4de-38867f32beec context-33c4f69e-2fc3-4ac4-8676-b94802a1fcb6 context-553b0895-ac15-4b02-832e-e16895533544 context-61714212-1da3-4c8f-a53c-680974739432 context-66e0de5b-6ab0-4f65-9677-707c9af2bce6 context-7daafbae-a58c-4493-876c-e44da1d7f9f6 context-8eadfe98-61cc-4b8a-abd9-0c21f6a87312 context-9906acf1-5fc2-412c-bd40-8a4e1e0afd91 context-c269ecf4-0997-4f72-900b-38ebe55060e6 context-c8d99bc7-5e88-48aa-9fa3-788d1de84ee0 context-cb7727c0-6e5d-46fe-bdd7-52c3995566f2 context-e5d258f9-9f4d-49e8-a133-c321f0d25a1b\" id=\"553b0895-ac15-4b02-832e-e16895533544\"><rect class=\"PP\" fill=\"#FFF477\" height=\"10\" stroke=\"#7B694F\" stroke-width=\"1\" transform=\"rotate(90 739.5 104.5)\" width=\"10\" x=\"734.5\" y=\"99.5\" /><text dominant-baseline=\"middle\" text-anchor=\"middle\" x=\"688\" y=\"110\"><tspan x=\"720.0\" xml:space=\"preserve\" y=\"117.14285714285714\">PP 3_3</tspan></text></g><g class=\"Box PP context-0782da30-160a-44f8-85f7-d750c59dcd50 context-131525eb-9475-4f0d-8965-28b24915330d context-19c3d3d0-5017-4ce4-b4de-38867f32beec context-33c4f69e-2fc3-4ac4-8676-b94802a1fcb6 context-553b0895-ac15-4b02-832e-e16895533544 context-61714212-1da3-4c8f-a53c-680974739432 context-66e0de5b-6ab0-4f65-9677-707c9af2bce6 context-7daafbae-a58c-4493-876c-e44da1d7f9f6 context-8eadfe98-61cc-4b8a-abd9-0c21f6a87312 context-9906acf1-5fc2-412c-bd40-8a4e1e0afd91 context-c269ecf4-0997-4f72-900b-38ebe55060e6 context-c8d99bc7-5e88-48aa-9fa3-788d1de84ee0 context-cb7727c0-6e5d-46fe-bdd7-52c3995566f2 context-e5d258f9-9f4d-49e8-a133-c321f0d25a1b\" id=\"0782da30-160a-44f8-85f7-d750c59dcd50\"><rect class=\"PP\" fill=\"#FFF477\" height=\"10\" stroke=\"#7B694F\" stroke-width=\"1\" transform=\"rotate(90 739.5 82.5)\" width=\"10\" x=\"734.5\" y=\"77.5\" /><text dominant-baseline=\"middle\" text-anchor=\"middle\" x=\"688\" y=\"88\"><tspan x=\"720.0\" xml:space=\"preserve\" y=\"95.14285714285714\">PP 1_3</tspan></text></g></svg>"
      ],
      "text/plain": [
       "<Diagram 'Context of Right Hydraulic Brake Assembly'>"
      ]
     },
     "metadata": {},
     "output_type": "display_data"
    }
   ],
   "source": [
    "for object in  selected_objects : \n",
    "    #print(object)\n",
    "    if object[\"type\"] == \"Diagram\" :\n",
    "        diagram = model.by_uuid(object[\"uuid\"])\n",
    "        #display(diagram)\n",
    "    else:\n",
    "        obj = model.by_uuid(object[\"uuid\"])\n",
    "        capellambse_helper.display_context_diagram(obj)"
   ]
  },
  {
   "cell_type": "markdown",
   "id": "a1ed6cc0-6c32-4f80-8a39-1dccfaca5eb5",
   "metadata": {},
   "source": [
    "## 💬 Predefined Prompts for Analysis\n",
    "\n",
    "### Purpose\n",
    "This cell contains predefined prompts for analyzing different types of ARCADIA elements, including components, functions, operational processes, and a default prompt. You can use these as-is or tailor them to suit your specific needs.\n",
    "\n",
    "\n",
    "### Instructions\n",
    "1. The appropriate prompt will be used for your analysis needs.\n",
    "2. Modify the prompt to include additional details or requirements, if necessary.\n",
    "\n",
    "### Notes\n",
    "- Predefined prompts are designed to guide analysis and ensure consistency.\n",
    "- Tailoring the prompts allows you to focus on specific aspects of the model relevant to your use case.\n",
    "\n",
    "> 💡 **Tip:** Save your tailored prompts for reuse in similar analyses or workflows.\n"
   ]
  },
  {
   "cell_type": "code",
   "execution_count": 6,
   "id": "24590371-907b-4e64-898f-99c5e9499460",
   "metadata": {},
   "outputs": [],
   "source": [
    "component_prompt = \"\"\"\n",
    "Please analyze the yaml file and display the result as .html and specifically provide insights on:\n",
    "1. The purpose of the component.\n",
    "2. Any components that make it up.\n",
    "3. A list of allocated functions and their potential roles.\n",
    "4. How the ports relate to the functions.\n",
    "5. Any traceabilty artifacts linked to the component and the artifacts url.\n",
    "6. Suggestions for improving the component description.\n",
    "7. Create a tabular table with columns for the component and its ports and the port interfaces, the interface souce and the interface target.\n",
    "8. List any property values and the related model element.\n",
    "9. A summary of any related state machines.\n",
    "\"\"\"\n",
    "function_prompt = \"\"\"\n",
    "Please analyze the yaml file and display the result as .html specifically provide insights on:\n",
    "1. The purpose of the function.\n",
    "2. Its owning component.\n",
    "4. Any ports relate to the functions.\n",
    "5. Any traceabilty artifacts linked to the component and the artifacts url.\n",
    "6. Suggestions for improving the function description.\n",
    "7. Create a tabular table with columns for the owning component, this function, its ports and the functional exchanges.\n",
    "\"\"\"\n",
    "activity_prompt = \"\"\"\n",
    "Please analyze the yaml file and display the result as .html specifically provide insights on:\n",
    "1. The purpose of the activity.\n",
    "2. Its actor or entiry.\n",
    "4. Any traceabilty artifacts linked to the component and the artifacts url.\n",
    "7. Suggestions for improving the activity description.\n",
    "7. Create a tabular table with columns for the owning entity or actor, this activity, its exchanges.\n",
    "\"\"\"\n",
    "functional_chain_prompt = \"\"\"\n",
    "Please analyze the YAML file and display the result as .html specifically provide insights on:\n",
    "1. The purpose of the functional chain.\n",
    "2. A table with first column being the owning component, the second being a function, last column being involved functional exchange, organized by involved functional exchanges.\n",
    "3. Any traceabilty artifacts linked to functional chain, functions, owning component and the traceability artifacts url.\n",
    "4. List any property values and the related model element.\n",
    "Please format the analysis in .html suitable for Juypter Notbook display operation.\n",
    "\"\"\"\n",
    "operational_process_prompt = \"\"\"\n",
    "Please analyze the YAML file and display the result as .html specifically provide insights on:\n",
    "1. The purpose of the operation process.\n",
    "2. A table with first column being the owning component, the second being a activities, last column being involved activity exchange, organized by involved activity exchanges.\n",
    "3. Any traceabilty artifacts linked to the operational process chain, activities, owning component and the traceability artifacts url.\n",
    "4. List any property values and the related model element.\n",
    "Please format the analysis in .html suitable for Juypter Notbook display operation.\n",
    "\"\"\"\n",
    "diagram_prompt = \"\"\"\n",
    "Please analyze the YAML file and display the result as .html specifically provide insights on:\n",
    "1. The purpose of the diagram based on its related nodes.\n",
    "2. Describe what the nodes represent in the ARCADIA method and what the diagram is describing.\n",
    "Please format the analysis in .html suitable for Juypter Notbook display operation.\n",
    "\"\"\"\n",
    "default_prompt = \"\"\"\n",
    "Please analyze the YAML file and display the result as .html specifically provide insights on:\n",
    "1. The purpose of the primary component listed first in the yaml file.=.\n",
    "2. List any property values and the related model element.\n",
    "Please format the analysis in .html suitable for Juypter Notbook display operation.\n",
    "\"\"\"\n",
    "\n"
   ]
  },
  {
   "cell_type": "markdown",
   "id": "4a3e82f3-a07b-404e-a230-7ebcf690e3e4",
   "metadata": {},
   "source": [
    "## ⚙️ Execute Default Prompts\n",
    "\n",
    "### Purpose\n",
    "This cell executes the **default prompts** defined for analyzing the model. These prompts are designed to provide general insights and overviews when specific object types or contexts are not explicitly defined.\n",
    "\n",
    "### What This Cell Does\n",
    "- Reads the structured input file (e.g., `capella_model.yaml`).\n",
    "- Uses the default prompts to query key details about the selected object(s).\n",
    "- Outputs the results directly in the notebook.\n",
    "\n",
    "### 🛠️ Instructions\n",
    "1. Ensure the `capella_model.yaml` file is generated and up-to-date.\n",
    "2. Run this cell to execute the default prompts.\n",
    "3. Review the output to verify the accuracy and relevance of the analysis.\n",
    "\n",
    "### 📝 Notes\n",
    "- The default prompts are **general-purpose** and may not capture all details specific to certain object types.\n",
    "- For more tailored analysis, consider using prompts designed for specific ARCADIA elements.\n",
    "\n",
    "> 💡 **Tip:** Use the default prompts as a starting point, then refine or modify them based on your analysis needs.\n"
   ]
  },
  {
   "cell_type": "code",
   "execution_count": 7,
   "id": "8cf53953-bfae-4677-9f45-906e72aa93e1",
   "metadata": {},
   "outputs": [
    {
     "name": "stdout",
     "output_type": "stream",
     "text": [
      "Warning: When  cdn_resources is 'local' jupyter notebook has issues displaying graphics on chrome/safari. Use cdn_resources='in_line' or cdn_resources='remote' if you have issues viewing graphics in a notebook.\n",
      "Chat session ended. Moving to the next cell.\n"
     ]
    },
    {
     "data": {
      "text/markdown": [
       "# The architecture is analyzed by ChatGPT with following prompt.\n",
       " \n",
       "Please analyze the yaml file and display the result as .html and specifically provide insights on:\n",
       "1. The purpose of the component.\n",
       "2. Any components that make it up.\n",
       "3. A list of allocated functions and their potential roles.\n",
       "4. How the ports relate to the functions.\n",
       "5. Any traceabilty artifacts linked to the component and the artifacts url.\n",
       "6. Suggestions for improving the component description.\n",
       "7. Create a tabular table with columns for the component and its ports and the port interfaces, the interface souce and the interface target.\n",
       "8. List any property values and the related model element.\n",
       "9. A summary of any related state machines.\n",
       "\n"
      ],
      "text/plain": [
       "<IPython.core.display.Markdown object>"
      ]
     },
     "metadata": {},
     "output_type": "display_data"
    },
    {
     "name": "stdout",
     "output_type": "stream",
     "text": [
      "OpenAI API Key retrieved successfully.\n"
     ]
    },
    {
     "data": {
      "text/markdown": [
       "\n",
       "\n",
       "**ChatGPT Analysis:**\n"
      ],
      "text/plain": [
       "<IPython.core.display.Markdown object>"
      ]
     },
     "metadata": {},
     "output_type": "display_data"
    },
    {
     "data": {
      "text/html": [
       "```html\n",
       "<!DOCTYPE html>\n",
       "\n",
       "<html lang=\"en\">\n",
       "<head>\n",
       "<meta charset=\"utf-8\"/>\n",
       "<meta content=\"width=device-width, initial-scale=1.0\" name=\"viewport\"/>\n",
       "<title>YAML File Analysis Report</title>\n",
       "\n",
       "</head>\n",
       "<body>\n",
       "<h1>YAML File Analysis Report</h1>\n",
       "<h2>1. Purpose of the Component</h2>\n",
       "<p>The purpose of each component, such as the Right Hydraulic Brake Assembly, is to function as part of a larger system, in this case, hydraulic brake system components that manage and apply braking in a mechanical system. These components ensure reliable transmission of force from handlebar inputs to the braking mechanism.</p>\n",
       "<h2>2. Components Making It Up</h2>\n",
       "<p>Each component is made up of sub-components. For instance, the \"Right Hydraulic Brake Assembly\" includes:</p>\n",
       "<ul>\n",
       "<li>Support Right</li>\n",
       "<li>Right Piston</li>\n",
       "<li>Right Reservior</li>\n",
       "</ul>\n",
       "<h2>3. Allocated Functions and Their Potential Roles</h2>\n",
       "<p>Most components currently do not specify allocated functions clearly. These functions would typically relate to their mechanical roles, such as transferring force, managing fluid flow, or providing structural support.</p>\n",
       "<h2>4. Ports and Their Relation to Functions</h2>\n",
       "<p>Ports such as \"CP 1\", \"PP 1_3\", and others serve as connection points for the transmission of mechanical forces or hydraulic flows. These ports enable the interaction between components, ensuring the proper functioning of mechanical operations.</p>\n",
       "<h2>5. Traceability Artifacts and Links</h2>\n",
       "<p>No explicit traceability artifacts with URLs are mentioned in the YAML file. In a complete system model, artifacts such as CAD drawings or simulation results could be linked with URLs.</p>\n",
       "<h2>6. Suggestions for Improving Component Descriptions</h2>\n",
       "<p>Descriptions can be enhanced by specifying the role and use-case of each component. For instance, instead of leaving \"description:\" field blank, describe what each component does in the system: \"This component is responsible for converting hydraulic pressure into mechanical motion to apply the brake.\"</p>\n",
       "<h2>7. Component and Port Interface Table</h2>\n",
       "<table>\n",
       "<tr>\n",
       "<th>Component</th>\n",
       "<th>Port Name</th>\n",
       "<th>Port Interface</th>\n",
       "<th>Interface Source</th>\n",
       "<th>Interface Target</th>\n",
       "</tr>\n",
       "<tr>\n",
       "<td>Right Piston</td>\n",
       "<td>PP 1_3</td>\n",
       "<td>M_3</td>\n",
       "<td>Right Brake Lever</td>\n",
       "<td>Right Piston</td>\n",
       "</tr>\n",
       "<tr>\n",
       "<td>Right Reservior</td>\n",
       "<td>PP 1_3</td>\n",
       "<td>H_3</td>\n",
       "<td>Right Reservior</td>\n",
       "<td>Right Piston</td>\n",
       "</tr>\n",
       "<tr>\n",
       "<td>Right Piston</td>\n",
       "<td>PP 3_3</td>\n",
       "<td>H-Brake Line</td>\n",
       "<td>Right Piston</td>\n",
       "<td>Rear Hydraulic Lines</td>\n",
       "</tr>\n",
       "</table>\n",
       "<h2>8. Property Values and Related Model Elements</h2>\n",
       "<p>Property values are mainly related to the weight of components, with properties like \"Mass\", \"Units\" (g), and \"Max Value\" (6.0 or 7.0). These are generally used for evaluating the mechanical load and design efficiency.</p>\n",
       "<h2>9. Summary of Related State Machines</h2>\n",
       "<p>No state machines are explicitly mentioned in the YAML file. However, related state machines would probably control the transition states in the assembly process or operation phases, such as engaging and disengaging the hydraulic brake.</p>\n",
       "</body>\n",
       "</html>\n",
       "```"
      ],
      "text/plain": [
       "<IPython.core.display.HTML object>"
      ]
     },
     "metadata": {},
     "output_type": "display_data"
    }
   ],
   "source": [
    "import os\n",
    "from openai import OpenAI\n",
    "from IPython.core.display import HTML\n",
    "from IPython.display import display, clear_output, Markdown\n",
    "#from capella_tools  import Open_AI_RAG_manager\n",
    "\n",
    "from capella_tools import Open_AI_RAG_manager\n",
    "#print(object)\n",
    "if object[\"type\"] ==  \"LogicalComponent\" or object[\"type\"] ==  \"SystemComponent\" or object[\"type\"] ==  \"PhysicalComponent-BEHAVIOR\"  or object[\"type\"] ==  \"PhysicalComponent-NODE\" :\n",
    "    prompt = component_prompt\n",
    "elif object[\"type\"] ==  \"FunctionalChain\" :  \n",
    "    prompt = functional_chain_prompt\n",
    "elif object[\"type\"] ==  \"OperationalProcess\":  \n",
    "    prompt = functional_chain_prompt\n",
    "elif object[\"type\"] ==  \"SystemFuntion\" or object[\"type\"] ==  \"LogicalFunction\" or object[\"type\"] ==  \"PhysicalFunction\":\n",
    "    prompt = function_prompt\n",
    "elif object[\"type\"] ==  \"OperationalActivity\" : \n",
    "    prompt = activity_prompt\n",
    "elif object[\"type\"] ==  \"Diagram\" : \n",
    "    prompt = diagram_prompt\n",
    "else :\n",
    "    prompt = default_prompt    \n",
    "# Display Prompt\n",
    "display(Markdown(f\"# The architecture is analyzed by ChatGPT with following prompt.\\n {prompt}\\n\"))\n",
    "\n",
    "# Step 1: Get YAML content\n",
    "yaml_content = yaml_handler.get_yaml_content()\n",
    "\n",
    "# Step 2: Invoke ChatGPT for analysis\n",
    "analyzer = Open_AI_RAG_manager.ChatGPTAnalyzer(yaml_content)\n",
    "analyzer.initial_prompt(prompt)\n",
    "chatgpt_response = analyzer.get_response()\n",
    "\n",
    "# Step 3: Display the response in the notebook\n",
    "#print(\"ChatGPT Analysis:\\n\")\n",
    "display(Markdown(f\"\\n\\n**ChatGPT Analysis:**\\n\"))\n",
    "#print(chatgpt_response)\n",
    "display(HTML(chatgpt_response))"
   ]
  },
  {
   "cell_type": "markdown",
   "id": "0ab07e0f-6cdb-4b16-9c5b-0acd3e7944cd",
   "metadata": {},
   "source": [
    "## ⚙️ Execute Followup Prompts\n",
    "\n",
    "### Purpose\n",
    "This cell executes the **follow up prompts** defined for analyzing the model. These prompts can be added by the note book user in addition to the default prompts\n",
    "\n",
    "### What This Cell Does\n",
    "- Use the structured input file (e.g., `capella_model.yaml`).\n",
    "- Excutes the prompt defined in the cell.\n",
    "- Outputs the results directly in the notebook.\n",
    "\n",
    "### 🛠️ Instructions\n",
    "1. Ensure the `capella_model.yaml` file is generated and up-to-date.\n",
    "2. Run this cell to execute the default prompts.\n",
    "3. Review the output to verify the accuracy and relevance of the analysis.\n",
    "\n",
    "> 💡 **Tip:** Modify the promt to your needs."
   ]
  },
  {
   "cell_type": "code",
   "execution_count": 8,
   "id": "fab94bcf-5ea3-4d7d-89e8-508dcd603d71",
   "metadata": {},
   "outputs": [
    {
     "data": {
      "text/markdown": [
       "\n",
       "\n",
       "**ChatGPT Analysis:**\n"
      ],
      "text/plain": [
       "<IPython.core.display.Markdown object>"
      ]
     },
     "metadata": {},
     "output_type": "display_data"
    },
    {
     "data": {
      "text/html": [
       "```html\n",
       "<!DOCTYPE html>\n",
       "\n",
       "<html lang=\"en\">\n",
       "<head>\n",
       "<meta charset=\"utf-8\"/>\n",
       "<meta content=\"width=device-width, initial-scale=1.0\" name=\"viewport\"/>\n",
       "<title>Interface Control Report for Physical Node Component</title>\n",
       "\n",
       "</head>\n",
       "<body>\n",
       "<h1>Interface Control Report for Physical Node Component</h1>\n",
       "<h2>1. Description of the Node Component</h2>\n",
       "<p>In the context of our YAML file, a Physical Node Component serves as a critical element within a system that directly interacts with physical entities. These nodes typically encompass parts like pistons, reservoirs, or chassis assemblies in a mechanical or hydraulic context. Their primary design is to perform specific physical functions, collaboratively working with other nodes for overall system efficacy.</p>\n",
       "<h2>2. Report for Physical Nodes and Respective Physical Links</h2>\n",
       "<p>The following physical nodes are described within the YAML file along with their associated physical links and component exchanges:</p>\n",
       "    \n",
       "    - **Right Piston Node**:\n",
       "      - **Physical Links**:\n",
       "        - <strong>M_3</strong>: Interconnects <em>Right Brake Lever</em> and <em>Right Piston</em>.\n",
       "        - <strong>H_3</strong>: Connects <em>Right Reservior</em> and <em>Right Piston</em>.\n",
       "        - <strong>H-Brake Line</strong>: Connects <em>Right Piston</em> and <em>Rear Hydraulic Lines</em>.\n",
       "      - **Allocated Component and Functional Ports**:\n",
       "        - **PP 1_3**: Interfaces with M_3 for mechanical force or pressure transference.\n",
       "        - **PP 2_3**: Facilitates the exchange of hydraulic fluid through H_3.\n",
       "        - **PP 3_3**: Engages with H-Brake Line to transmit force to rear brakes.\n",
       "      - **Component Exchanges**:\n",
       "        - <em>C 3</em> and <em>C 4</em>: Define interaction protocols between pistons via hydraulic links.\n",
       "\n",
       "    - **Right Reservoir Node**:\n",
       "      - **Physical Links**:\n",
       "        - <strong>H_3</strong>: Provides passage of fluid from <em>Right Reservior</em> to <em>Right Piston</em>.\n",
       "      - **Allocated Component and Functional Ports**:\n",
       "        - **CP 1**: Acts as the entry or exit point for hydraulic fluid exchange.\n",
       "      \n",
       "    <h2>3. Table Defining the Deployed Physical Node Dependent on Physical Port</h2>\n",
       "<table>\n",
       "<tr>\n",
       "<th>Physical Node</th>\n",
       "<th>Physical Port</th>\n",
       "<th>Function</th>\n",
       "<th>Dependent Element</th>\n",
       "</tr>\n",
       "<tr>\n",
       "<td>Right Piston</td>\n",
       "<td>PP 1_3</td>\n",
       "<td>Transmits Mechanical Pressure</td>\n",
       "<td>Right Brake Lever</td>\n",
       "</tr>\n",
       "<tr>\n",
       "<td>Right Piston</td>\n",
       "<td>PP 2_3</td>\n",
       "<td>Facilitates Hydraulic Fluid Flow</td>\n",
       "<td>Right Reservoir</td>\n",
       "</tr>\n",
       "<tr>\n",
       "<td>Right Piston</td>\n",
       "<td>PP 3_3</td>\n",
       "<td>Transfers Force to Rear Brakes</td>\n",
       "<td>Rear Hydraulic Lines</td>\n",
       "</tr>\n",
       "<tr>\n",
       "<td>Right Reservoir</td>\n",
       "<td>CP 1</td>\n",
       "<td>Exchange of Hydraulic Fluid</td>\n",
       "<td>Right Piston</td>\n",
       "</tr>\n",
       "</table>\n",
       "</body>\n",
       "</html>\n",
       "```"
      ],
      "text/plain": [
       "<IPython.core.display.HTML object>"
      ]
     },
     "metadata": {},
     "output_type": "display_data"
    }
   ],
   "source": [
    "prompt = \"\"\"\n",
    "Please and interface control report for the  Physical Node Component.:\n",
    "1. A Description of the Node Compopnent\n",
    "2. A Report for the Physical Nodes and Respective Physical Links including its allocated Component and Functional Ports and Exchanges.\n",
    "3. A Table the defines and function of the deployed physical node dependent on the Phyical Port.\n",
    "\"\"\"\n",
    "analyzer.follow_up_prompt(prompt)\n",
    "chatgpt_response = analyzer.get_response()\n",
    "\n",
    "# Step 3: Display the response in the notebook\n",
    "#print(\"ChatGPT Analysis:\\n\")\n",
    "display(Markdown(f\"\\n\\n**ChatGPT Analysis:**\\n\"))\n",
    "#print(chatgpt_response)\n",
    "display(HTML(chatgpt_response))"
   ]
  },
  {
   "cell_type": "code",
   "execution_count": 9,
   "id": "3ce75a4b-f27a-4a6b-a11b-c44a7eec4444",
   "metadata": {},
   "outputs": [
    {
     "data": {
      "text/markdown": [
       "\n",
       "\n",
       "**ChatGPT Analysis:**\n"
      ],
      "text/plain": [
       "<IPython.core.display.Markdown object>"
      ]
     },
     "metadata": {},
     "output_type": "display_data"
    },
    {
     "data": {
      "text/html": [
       "```html\n",
       "<!DOCTYPE html>\n",
       "\n",
       "<html lang=\"en\">\n",
       "<head>\n",
       "<meta charset=\"utf-8\"/>\n",
       "<meta content=\"width=device-width, initial-scale=1.0\" name=\"viewport\"/>\n",
       "<title>Impact Report on Loss of Physical Interface H_3</title>\n",
       "\n",
       "</head>\n",
       "<body>\n",
       "<h1>Impact Report on Loss of Physical Interface H_3</h1>\n",
       "<h2>1. Description of the Physical Interface H_3</h2>\n",
       "<p>The Physical Interface H_3 serves as a critical hydraulic link between the Right Reservoir and the Right Piston. Its primary function is to facilitate the transmission of hydraulic fluid required for actuating the piston in the braking system.</p>\n",
       "<h2>2. Impact of Loss of H_3 on Functional Chains</h2>\n",
       "<p>The loss of the H_3 interface would impact the following functional chains:</p>\n",
       "<ul>\n",
       "<li><strong>Hydraulic Fluid Transmission Chain</strong>: This chain involves transferring hydraulic fluid necessary for the braking mechanism. The loss of H_3 interrupts the fluid circuit, potentially leading to brake failure at the right-hand side piston.</li>\n",
       "<li><strong>Brake Force Application Chain</strong>: This chain involves converting hydraulic pressure into mechanical force applied by the Right Piston. With H_3 out of operation, the right braking force diminishes, increasing stopping distance or potential brake failure.</li>\n",
       "</ul>\n",
       "<h2>3. Rider's Experience and Observations</h2>\n",
       "<p>The rider may notice the following issues during operation:</p>\n",
       "<ul>\n",
       "<li>Significant reduction in braking capability on the right side, leading to uneven braking force.</li>\n",
       "<li>Delayed response when applying the brake lever, as the pressure fails to actuate the braking mechanism efficiently.</li>\n",
       "<li>Possible spongy or ineffective feel on the brake lever due to the lack of hydraulic pressure.</li>\n",
       "</ul>\n",
       "<h3>Recommended Actions for Safe Ride Home</h3>\n",
       "<p>In the event of an H_3 interface failure, the rider should:</p>\n",
       "<ul>\n",
       "<li><strong>Reduce Speed:</strong> Immediately reduce speed and avoid sudden braking.</li>\n",
       "<li><strong>Utilize Rear Brakes:</strong> Rely more on rear brakes for stopping, ensuring they are in optimal working condition.</li>\n",
       "<li><strong>Plan Route:</strong> Plan a shorter, less traffic-intensive route back home to minimize braking needs.</li>\n",
       "<li><strong>Inspect for Leaks:</strong> Check for any visible hydraulic fluid leaks under the vehicle that could indicate a full system issue.</li>\n",
       "<li><strong>Seek Professional Help:</strong> Once home safely, seek professional mechanical repair to restore the brake system's integrity before the next ride.</li>\n",
       "</ul>\n",
       "</body>\n",
       "</html>\n",
       "```"
      ],
      "text/plain": [
       "<IPython.core.display.HTML object>"
      ]
     },
     "metadata": {},
     "output_type": "display_data"
    }
   ],
   "source": [
    "prompt = \"\"\"\n",
    "Please write an report on the impact of the loss of Physical interface H_3. \n",
    "Denote all functional chains impacted.\n",
    "Decribe with the rider may notice and recommended actions the rider should take in order to get home safe on a ride.\n",
    "\"\"\"\n",
    "analyzer.follow_up_prompt(prompt)\n",
    "chatgpt_response = analyzer.get_response()\n",
    "\n",
    "# Step 3: Display the response in the notebook\n",
    "#print(\"ChatGPT Analysis:\\n\")\n",
    "display(Markdown(f\"\\n\\n**ChatGPT Analysis:**\\n\"))\n",
    "#print(chatgpt_response)\n",
    "display(HTML(chatgpt_response))"
   ]
  },
  {
   "cell_type": "markdown",
   "id": "614ada9b-367c-4929-badf-e27c7170b825",
   "metadata": {},
   "source": [
    "## 💬 Launch Interactive Chat on Structured Input\n",
    "\n",
    "### Purpose\n",
    "This cell launches an interactive chat session based on the structured input file, leveraging ARCADIA and Polarion terminology to ensure the analysis remains consistent with the modeling context.\n",
    "\n",
    "### Key Features\n",
    "- Uses the generated structured input file (e.g., `capella_model.yaml`) to guide the conversation.\n",
    "- Supports ARCADIA terms such as **functions**, **components**, **activities**, and **exchanges**.\n",
    "- Incorporates Polarion terms like **workitem**, **requirement**, and **traceability** for seamless integration with requirements management workflows.\n",
    "\n",
    "### How It Works\n",
    "1. The structured input file provides context for the chat session.\n",
    "2. You can interactively query details about the model elements, relationships, and dependencies.\n",
    "3. Responses are tailored using ARCADIA and Polarion terminology.\n",
    "\n",
    "### Example Prompts\n",
    "- **For ARCADIA:**\n",
    "  ```plaintext\n",
    "  What are the dependencies and exchanges for the selected function in the Logical Architecture phase?\n",
    "\n",
    "- **For Polarion:**\n",
    "  ```plaintext\n",
    "  Provide the traceability matrix for the workitem linked to this component.\n",
    "  ```\n",
    "### 🛠️ Instructions\n",
    "1. Ensure the `capella_model.yaml` file has been generated and is up-to-date.\n",
    "2. Run this cell to start the interactive chat session.\n",
    "3. Enter your queries using **ARCADIA** or **Polarion** terms for accurate and relevant responses.\n",
    "\n",
    "### 📝 Notes\n",
    "- The interactive chat dynamically adapts to the content in the structured input file.\n",
    "- Use precise and contextual queries to ensure the best results and insights.\n",
    "\n",
    "> 💡 **Tip:** If you're unfamiliar with ARCADIA or Polarion terminology, consult the respective documentation or glossary for guidance.\n",
    "\n"
   ]
  },
  {
   "cell_type": "code",
   "execution_count": null,
   "id": "ac1d370a-fcf4-4084-9064-f5e11a03a641",
   "metadata": {
    "jupyter": {
     "source_hidden": true
    }
   },
   "outputs": [
    {
     "name": "stdout",
     "output_type": "stream",
     "text": [
      "Starting interactive chat...\n"
     ]
    },
    {
     "data": {
      "application/vnd.jupyter.widget-view+json": {
       "model_id": "1d6b999b88c247b092b4954c84d82c51",
       "version_major": 2,
       "version_minor": 0
      },
      "text/plain": [
       "Output()"
      ]
     },
     "metadata": {},
     "output_type": "display_data"
    },
    {
     "data": {
      "application/vnd.jupyter.widget-view+json": {
       "model_id": "40084fe108f44024b666c2a77a95cb89",
       "version_major": 2,
       "version_minor": 0
      },
      "text/plain": [
       "Textarea(value='', layout=Layout(border_bottom='2px solid #4A90E2', border_left='2px solid #4A90E2', border_ri…"
      ]
     },
     "metadata": {},
     "output_type": "display_data"
    },
    {
     "data": {
      "application/vnd.jupyter.widget-view+json": {
       "model_id": "d34227c69d834fd1888019ddbdb9ee40",
       "version_major": 2,
       "version_minor": 0
      },
      "text/plain": [
       "HBox(children=(Button(button_style='primary', description='Execute', style=ButtonStyle()), Button(button_style…"
      ]
     },
     "metadata": {},
     "output_type": "display_data"
    },
    {
     "data": {
      "application/vnd.jupyter.widget-view+json": {
       "model_id": "ea6dc2f359be41ff97c11b82a2f7829e",
       "version_major": 2,
       "version_minor": 0
      },
      "text/plain": [
       "Dropdown(description='Load file:', layout=Layout(width='auto'), options=('', 'embeddings.json', 'capella_model…"
      ]
     },
     "metadata": {},
     "output_type": "display_data"
    },
    {
     "name": "stdout",
     "output_type": "stream",
     "text": [
      "Waiting for chat interactions...\n"
     ]
    }
   ],
   "source": [
    "analyzer.interactive_chat()\n"
   ]
  },
  {
   "cell_type": "code",
   "execution_count": null,
   "id": "57dea895-123c-4c7f-b386-89510fcfcd9d",
   "metadata": {
    "jupyter": {
     "source_hidden": true
    }
   },
   "outputs": [],
   "source": [
    "print(\"Done\")"
   ]
  },
  {
   "cell_type": "markdown",
   "id": "8fb2484d-c283-416d-b5ae-03289fc2a8a1",
   "metadata": {},
   "source": [
    "# "
   ]
  },
  {
   "cell_type": "code",
   "execution_count": null,
   "id": "a4c59542-ddf7-4047-9007-2613a7f96589",
   "metadata": {
    "collapsed": true,
    "jupyter": {
     "outputs_hidden": true,
     "source_hidden": true
    }
   },
   "outputs": [],
   "source": []
  },
  {
   "cell_type": "code",
   "execution_count": null,
   "id": "edddd2fe-aeef-43a8-94d2-4b7cac1ce700",
   "metadata": {
    "collapsed": true,
    "jupyter": {
     "outputs_hidden": true,
     "source_hidden": true
    }
   },
   "outputs": [],
   "source": []
  }
 ],
 "metadata": {
  "kernelspec": {
   "display_name": "Python 3 (ipykernel)",
   "language": "python",
   "name": "python3"
  },
  "language_info": {
   "codemirror_mode": {
    "name": "ipython",
    "version": 3
   },
   "file_extension": ".py",
   "mimetype": "text/x-python",
   "name": "python",
   "nbconvert_exporter": "python",
   "pygments_lexer": "ipython3",
   "version": "3.11.9"
  }
 },
 "nbformat": 4,
 "nbformat_minor": 5
}
