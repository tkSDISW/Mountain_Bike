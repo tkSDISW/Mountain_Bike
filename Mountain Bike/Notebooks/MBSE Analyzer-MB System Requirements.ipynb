{
 "cells": [
  {
   "cell_type": "markdown",
   "id": "2ef785c9-a1c0-4ad7-a185-02a1569ca072",
   "metadata": {},
   "source": [
    "# Model Based System Engineering Assistant: \n",
    "## Leveraging AI for System Engineering models \n",
    "\n",
    "Welcome to the **MBSE Assistant Notebook**, a powerful tool designed to augment your ability to review, comprehend, and enhance system models with AI-driven support. This notebook integrates a variety of capabilities to assist with:\n",
    "\n",
    "1. **Model Review and Comprehension**:\n",
    "   - Gain deeper insights into the structure and behavior of your system model.\n",
    "   - Use AI to clarify relationships, dependencies, and interactions within the model.\n",
    "\n",
    "2. **Impact Analysis**:\n",
    "   - Explore the potential effects of component failures on the system.\n",
    "   - Simulate scenarios to identify vulnerabilities and design improvements.\n",
    "\n",
    "3. **Simulation Generation**:\n",
    "   - Automatically generate simulations based on the model's architecture and behaviors.\n",
    "   - Use simulations for validation, testing, and demonstration purposes.\n",
    "\n",
    "4. **Failure Analysis**:\n",
    "   - Assess the system's resilience under various failure conditions.\n",
    "   - Extract meaningful insights to strengthen reliability and performance.\n",
    "\n",
    "5. **Content Extraction for Downstream Domains**:\n",
    "   - Convert model data into formats suitable for use in other engineering domains.\n",
    "   - Facilitate seamless collaboration across teams and tools.\n",
    "\n",
    "This notebook serves as a comprehensive platform to bridge the gap between system models and actionable insights, empowering architects to make informed decisions and design robust solutions. Whether you're investigating enhancements, running failure simulations, or preparing data for external domains, this assistant streamlines the process with AI-enhanced guidance.\n",
    "\n",
    "Feel free to explore and adapt the prompts and models to suit your specific use case. Let’s dive in and unlock the potential of your system model!\n"
   ]
  },
  {
   "cell_type": "markdown",
   "id": "b5acc178-1a94-4014-b1f7-13c97a9ba4ec",
   "metadata": {},
   "source": [
    "### Model-Specific Code (Do Not Modify)\n",
    "\n",
    "This section contains code that is specific to the system model. It is updated only when the model is changed and should not require user modifications under normal circumstances.\n",
    "\n",
    "If a new model is introduced, ensure this section is reviewed and updated as needed.\n"
   ]
  },
  {
   "cell_type": "code",
   "execution_count": 1,
   "id": "c7ba8743-5dac-41be-9083-d44aa0199411",
   "metadata": {
    "jupyter": {
     "source_hidden": true
    },
    "scrolled": true
   },
   "outputs": [
    {
     "name": "stdout",
     "output_type": "stream",
     "text": [
      "Warning: File '../Mountain Bike.traceability' does not exist.\n"
     ]
    }
   ],
   "source": [
    "#!pip install --upgrade git+https://github.com/tkSDISW/Capella_Tools \n",
    "import capellambse.decl\n",
    "\n",
    "from capella_tools import capellambse_helper\n",
    "\n",
    "from IPython import display as diag_display\n",
    "from IPython import display as diag_display\n",
    "resources = {\n",
    "    \"Mountain_Bike\": \"Mountain_Bike/Mountain Bike\",\n",
    "}\n",
    "path_to_model = \"../Mountain Bike.aird\"\n",
    "model = capellambse.MelodyModel(path_to_model, resources=resources)\n",
    "from capella_tools import Pub4C\n",
    "# Instantiate the class with the traceability file\n",
    "traceability_store = Pub4C.Traceability_Store(\"../Mountain Bike.traceability\")\n"
   ]
  },
  {
   "cell_type": "code",
   "execution_count": null,
   "id": "5f73131d-3ba3-4c6f-8418-378d418156a6",
   "metadata": {
    "collapsed": true,
    "jupyter": {
     "outputs_hidden": true,
     "source_hidden": true
    }
   },
   "outputs": [],
   "source": []
  },
  {
   "cell_type": "markdown",
   "id": "98e07f65-caa7-4e20-9268-7c5df4783e36",
   "metadata": {},
   "source": [
    "## 🔄 Embedding Generation Process\n",
    "\n",
    "### Overview\n",
    "This section generates embeddings, which streamlines processing and analyzing the model. The embeddings provide a structured representation of the data that powers subsequent tasks and visualizations.\n",
    "\n",
    "### When is this step necessary?\n",
    "- **Initial Run:** If this notebook is being run for the first time, embeddings will need to be generated.\n",
    "- **Model Updates:** If the underlying model has been modified, regenerating embeddings ensures the data remains accurate and up-to-date.\n",
    "\n",
    "### Important Notes\n",
    "- **Duration:** This process may take **a minute or more** to complete, depending on the size and complexity of the model.\n",
    "- **Output:** Upon completion, embeddings will be ready for use in subsequent sections of the notebook.\n",
    "\n",
    "### Instructions\n",
    "1. Ensure the required model is loaded.\n",
    "2. Run the cell below to initiate the embedding generation process.\n",
    "3. Wait for the process to complete before proceeding.\n",
    "\n",
    "> 💡 **Tip:** You can monitor progress in the notebook's output cell. If any errors occur, check that the model is properly configured and accessible.\n",
    "\n",
    "---\n",
    "\n",
    "> ⚠️ **Warning:** Interrupting this step may result in incomplete or invalid embeddings. If interrupted, re-run the cell to restart the process.\n",
    "\n",
    "---\n",
    "\n",
    "Continue to the next cell to generate embeddings. 🚀\n"
   ]
  },
  {
   "cell_type": "code",
   "execution_count": 2,
   "id": "2c54cb77-76e8-4309-90e0-7da1d2a2d9f8",
   "metadata": {
    "jupyter": {
     "source_hidden": true
    }
   },
   "outputs": [
    {
     "name": "stdout",
     "output_type": "stream",
     "text": [
      "OpenAI API Key retrieved successfully.\n",
      "Loading embeddings\n",
      "embeddings loaded.\n"
     ]
    }
   ],
   "source": [
    "\n",
    "from capella_tools  import capella_embeddings_manager\n",
    "\n",
    "# Generate embeddings for all objects\n",
    "model_embedding_manager = capella_embeddings_manager.EmbeddingManager()\n",
    "\n",
    "embedding_file = \"embeddings.json\" \n",
    "model_embedding_manager.set_files( path_to_model , embedding_file)\n",
    "\n",
    "model_embedding_manager.create_model_embeddings(model)"
   ]
  },
  {
   "cell_type": "markdown",
   "id": "f671a45d-5335-463c-802a-156296f21ad4",
   "metadata": {},
   "source": [
    "## 🎯 Prompt for System Model Element Analysis\n",
    "\n",
    "### Purpose\n",
    "This cell accepts a prompt to identify and isolate the specific object(s) to be analyzed. Providing detailed and accurate information in the prompt will ensure the best performance during the analysis.\n",
    "\n",
    "### What to Include in Your Prompt\n",
    "For optimal results, specify the following details about the object(s):\n",
    "1. **Type of ARCADIA Object:** Clearly state the type of the object (e.g., Logical Component, Physical Component, Functional Exchange).\n",
    "2. **Name of the Object:** Provide the exact name of the object as defined in the model.\n",
    "3. **ARCADIA Phase:** Specify the phase associated with the object (e.g., Operational Analysis, System Analysis, Logical Architecture, Physical Architecture).\n",
    "4. **Related Objects:** Identify any objects connected via exchanges or dependencies.\n",
    "\n",
    "### Example Prompt\n",
    "Locate the Logical Component named Brake Pedal in the Logical phase and has a Driver supplying input.\n",
    "### ✅ Tips for Success\n",
    "- **Use precise terminology:** Ensure your prompt aligns with the model's structure and terminology.\n",
    "- **Include related objects:** Whenever possible, specify related objects to enhance context and improve analysis accuracy.\n",
    "- **Double-check details:** Verify object names and phases to ensure they match the model exactly.\n",
    "'''\n",
    "\n",
    "### 🚀 Next Steps\n",
    "1. Run the cell below.\n",
    "2. Enter your prompt, providing the necessary details as outlined above.\n",
    "3. Wait for the analysis to complete.\n",
    "4. Select the best index or indexes for analysis. (The last selection will drive selection of a prompt.)\n",
    "\n",
    "> 💡 **Tip:** If you're unsure about the model structure, review the documentation or refer to the model's diagrams for additional guidance.\n"
   ]
  },
  {
   "cell_type": "code",
   "execution_count": 3,
   "id": "31298768-f6da-4f27-9c76-50d02b7a0fe7",
   "metadata": {},
   "outputs": [
    {
     "name": "stdout",
     "output_type": "stream",
     "text": [
      "\n",
      "This is a list of ranked Objects Based on Query:\n",
      "Index: 0, Name: [LAB] Mountain Bike All (Messy), Similarity: 0.87, Type: Diagram, Phase: Logical Architecture LA, Source: , Target: \n"
     ]
    }
   ],
   "source": [
    "\n",
    "selected_objects = model_embedding_manager.query_and_select_top_objects(\"[LAB] Mountain Bike All diagram\", top_n=1)\n"
   ]
  },
  {
   "cell_type": "markdown",
   "id": "2dd4a6ad-39a9-4bc3-ae26-5d97c5fe394b",
   "metadata": {},
   "source": [
    "\n",
    "\n",
    "\n",
    "\n",
    "## 📝 Generate Structured Input File \n",
    "\n",
    "### Purpose\n",
    "This cell generates a structured structured input file, `capella_model.yaml`, which serves as input for prompts tailored to the object type of the last selected item. This ensures that the prompt aligns with the model's structure and provides accurate context for analysis.\n",
    "\n",
    "### What This Cell Does\n",
    "- Extracts data related to the elements selected.\n",
    "- Structures the data into a YAML format.\n",
    "- Saves the YAML file as `capella_model.yaml` for further use.\n",
    "\n",
    "### Key Features\n",
    "- The YAML file includes:\n",
    "  - **Object Type:** The type of the element.\n",
    "  - **Object Details:** Attributes, relationships, and associated exchanges.\n",
    "  - **Structured Input:** Designed to enhance prompt accuracy and model analysis.\n",
    "\n",
    "### Instructions\n",
    "1. Run this cell to create the `capella_model.yaml` file.\n",
    "2. Ensure the last selected item is correctly identified to avoid mismatched data.\n",
    "3. Use the generated YAML file as structured input for tailored prompts in subsequent steps.\n",
    "\n",
    "### Notes\n",
    "- The file will be saved in the current working directory.\n",
    "- If the selected object changes, re-run this cell to update the YAML file.\n",
    "\n",
    "> 💡 **Tip:** Review the contents of `capella_model.yaml` if needed to ensure accuracy and completeness.\n"
   ]
  },
  {
   "cell_type": "code",
   "execution_count": 4,
   "id": "4db8d5ea-0e49-4098-aedc-0914d956f286",
   "metadata": {
    "jupyter": {
     "source_hidden": true
    }
   },
   "outputs": [],
   "source": [
    "#Workflow\n",
    "from capella_tools import capellambse_yaml_manager\n",
    "yaml_handler = capellambse_yaml_manager.CapellaYAMLHandler()\n",
    "   \n",
    "#Generate YAML for the logical component and append to the file\n",
    "for object in  selected_objects : \n",
    "    if object[\"type\"] == \"Diagram\" :\n",
    "        yaml_handler.generate_yaml(model.by_uuid(object[\"uuid\"]))  \n",
    "    else:\n",
    "        yaml_handler.generate_yaml( model.search(object[\"type\"]).by_uuid(object[\"uuid\"]))\n",
    "\n",
    "\n",
    "yaml_handler.generate_traceability_related_objects(model,traceability_store)\n",
    "\n",
    "#yaml_handler.display()\n",
    "yaml_handler.generate_yaml_referenced_objects()\n",
    "#yaml_handler.display()\n",
    "\n",
    "yaml_handler.write_output_file()\n"
   ]
  },
  {
   "cell_type": "markdown",
   "id": "1113cb97-36e1-46b4-aec7-9713aea09a64",
   "metadata": {},
   "source": [
    "## 🖼️ Generate Contextual Diagram\n",
    "\n",
    "### Purpose\n",
    "This cell generates a **contextual diagram** for the selected object. The diagram visually represents the object's relationships and interactions, providing a clear and comprehensive view of its context within the model.\n",
    "\n",
    "### Supported Object Types\n",
    "This functionality works the following ARCADIA elements, including:\n",
    "- **Functions**\n",
    "- **Activities**\n",
    "- **Components**\n",
    "- **Entities**\n",
    "- **Exchanges and Interactions**\n",
    "- **Physical Links**\n",
    "\n",
    "### What This Cell Does\n",
    "- Identifies the selected object.\n",
    "- Extracts relevant relationships, exchanges, and dependencies.\n",
    "- Creates a contextual diagram based on the object's type and its connections.\n",
    "\n",
    "### Instructions\n",
    "1. Ensure the object is correctly selected in the previous step.\n",
    "2. Run this cell to generate the contextual diagram.\n",
    "3. Review the output to verify accuracy and completeness.\n",
    "\n",
    "### Key Benefits\n",
    "- **Clarity:** Visualizes how the selected object interacts with other model elements.\n",
    "- **Versatility:** Works seamlessly across ARCADIA functions, activities, components, and entities.\n",
    "- **Actionable Insight:** Helps identify key dependencies and relationships for analysis.\n",
    "\n",
    "### Notes\n",
    "- The diagram will be displayed below upon completion.\n",
    "- If the selected object changes, re-run this cell to update the contextual\n"
   ]
  },
  {
   "cell_type": "code",
   "execution_count": 5,
   "id": "6679d117-2c29-4dc1-9eac-b14e602b1cee",
   "metadata": {
    "jupyter": {
     "source_hidden": true
    }
   },
   "outputs": [],
   "source": [
    "for object in  selected_objects : \n",
    "    #print(object)\n",
    "    if object[\"type\"] == \"Diagram\" :\n",
    "        diagram = model.by_uuid(object[\"uuid\"])\n",
    "        #display(diagram)\n",
    "    else:\n",
    "        obj = model.search(object[\"type\"]).by_uuid(object[\"uuid\"])\n",
    "        capellambse_helper.display_context_diagram(obj)"
   ]
  },
  {
   "cell_type": "markdown",
   "id": "a1ed6cc0-6c32-4f80-8a39-1dccfaca5eb5",
   "metadata": {},
   "source": [
    "## 💬 Predefined Prompts for Analysis\n",
    "\n",
    "### Purpose\n",
    "This cell contains predefined prompts for analyzing different types of ARCADIA elements, including components, functions, operational processes, and a default prompt. You can use these as-is or tailor them to suit your specific needs.\n",
    "\n",
    "\n",
    "### Instructions\n",
    "1. The appropriate prompt will be used for your analysis needs.\n",
    "2. Modify the prompt to include additional details or requirements, if necessary.\n",
    "\n",
    "### Notes\n",
    "- Predefined prompts are designed to guide analysis and ensure consistency.\n",
    "- Tailoring the prompts allows you to focus on specific aspects of the model relevant to your use case.\n",
    "\n",
    "> 💡 **Tip:** Save your tailored prompts for reuse in similar analyses or workflows.\n"
   ]
  },
  {
   "cell_type": "code",
   "execution_count": 6,
   "id": "24590371-907b-4e64-898f-99c5e9499460",
   "metadata": {},
   "outputs": [],
   "source": [
    "component_prompt = \"\"\"\n",
    "Please analyze the yaml file and display the result as .html and specifically provide insights on:\n",
    "1. The purpose of the component.\n",
    "2. Any components that make it up.\n",
    "3. A list of allocated functions and their potential roles.\n",
    "4. How the ports relate to the functions.\n",
    "5. Any traceabilty artifacts linked to the component and the artifacts url.\n",
    "6. Suggestions for improving the component description.\n",
    "7. Create a tabular table with columns for the component and its ports and the port interfaces, the interface souce and the interface target.\n",
    "8. List any property values and the related model element.\n",
    "9. A summary of any related state machines.\n",
    "\"\"\"\n",
    "function_prompt = \"\"\"\n",
    "Please analyze the yaml file and display the result as .html specifically provide insights on:\n",
    "1. The purpose of the function.\n",
    "2. Its owning component.\n",
    "4. Any ports relate to the functions.\n",
    "5. Any traceabilty artifacts linked to the component and the artifacts url.\n",
    "6. Suggestions for improving the function description.\n",
    "7. Create a tabular table with columns for the owning component, this function, its ports and the functional exchanges.\n",
    "\"\"\"\n",
    "activity_prompt = \"\"\"\n",
    "Please analyze the yaml file and display the result as .html specifically provide insights on:\n",
    "1. The purpose of the activity.\n",
    "2. Its actor or entiry.\n",
    "4. Any traceabilty artifacts linked to the component and the artifacts url.\n",
    "7. Suggestions for improving the activity description.\n",
    "7. Create a tabular table with columns for the owning entity or actor, this activity, its exchanges.\n",
    "\"\"\"\n",
    "functional_chain_prompt = \"\"\"\n",
    "Please analyze the YAML file and display the result as .html specifically provide insights on:\n",
    "1. The purpose of the functional chain.\n",
    "2. A table with first column being the owning component, the second being a function, last column being involved functional exchange, organized by involved functional exchanges.\n",
    "3. Any traceabilty artifacts linked to functional chain, functions, owning component and the traceability artifacts url.\n",
    "4. List any property values and the related model element.\n",
    "Please format the analysis in .html suitable for Juypter Notbook display operation.\n",
    "\"\"\"\n",
    "operational_process_prompt = \"\"\"\n",
    "Please analyze the YAML file and display the result as .html specifically provide insights on:\n",
    "1. The purpose of the operation process.\n",
    "2. A table with first column being the owning component, the second being a activities, last column being involved activity exchange, organized by involved activity exchanges.\n",
    "3. Any traceabilty artifacts linked to the operational process chain, activities, owning component and the traceability artifacts url.\n",
    "4. List any property values and the related model element.\n",
    "Please format the analysis in .html suitable for Juypter Notbook display operation.\n",
    "\"\"\"\n",
    "diagram_prompt = \"\"\"\n",
    "Please analyze the YAML file and display the result as .html specifically provide insights on:\n",
    "1. The purpose of the diagram based on its related nodes.\n",
    "2. Describe what the nodes represent in the ARCADIA method and what the diagram is describing.\n",
    "Please format the analysis in .html suitable for Juypter Notbook display operation.\n",
    "\"\"\"\n",
    "default_prompt = \"\"\"\n",
    "Please analyze the YAML file and display the result as .html specifically provide insights on:\n",
    "1. The purpose of the primary component listed first in the yaml file.=.\n",
    "2. List any property values and the related model element.\n",
    "Please format the analysis in .html suitable for Juypter Notbook display operation.\n",
    "\"\"\"\n",
    "\n"
   ]
  },
  {
   "cell_type": "markdown",
   "id": "4a3e82f3-a07b-404e-a230-7ebcf690e3e4",
   "metadata": {},
   "source": [
    "## ⚙️ Execute Default Prompts\n",
    "\n",
    "### Purpose\n",
    "This cell executes the **default prompts** defined for analyzing the model. These prompts are designed to provide general insights and overviews when specific object types or contexts are not explicitly defined.\n",
    "\n",
    "### What This Cell Does\n",
    "- Reads the structured input file (e.g., `capella_model.yaml`).\n",
    "- Uses the default prompts to query key details about the selected object(s).\n",
    "- Outputs the results directly in the notebook.\n",
    "\n",
    "### 🛠️ Instructions\n",
    "1. Ensure the `capella_model.yaml` file is generated and up-to-date.\n",
    "2. Run this cell to execute the default prompts.\n",
    "3. Review the output to verify the accuracy and relevance of the analysis.\n",
    "\n",
    "### 📝 Notes\n",
    "- The default prompts are **general-purpose** and may not capture all details specific to certain object types.\n",
    "- For more tailored analysis, consider using prompts designed for specific ARCADIA elements.\n",
    "\n",
    "> 💡 **Tip:** Use the default prompts as a starting point, then refine or modify them based on your analysis needs.\n"
   ]
  },
  {
   "cell_type": "code",
   "execution_count": 7,
   "id": "8cf53953-bfae-4677-9f45-906e72aa93e1",
   "metadata": {},
   "outputs": [
    {
     "data": {
      "text/markdown": [
       "# The architecture is analyzed by ChatGPT with following prompt.\n",
       " \n",
       "Please analyze the YAML file and display the result as .html specifically provide insights on:\n",
       "1. The purpose of the diagram based on its related nodes.\n",
       "2. Describe what the nodes represent in the ARCADIA method and what the diagram is describing.\n",
       "Please format the analysis in .html suitable for Juypter Notbook display operation.\n",
       "\n"
      ],
      "text/plain": [
       "<IPython.core.display.Markdown object>"
      ]
     },
     "metadata": {},
     "output_type": "display_data"
    },
    {
     "name": "stdout",
     "output_type": "stream",
     "text": [
      "OpenAI API Key retrieved successfully.\n"
     ]
    },
    {
     "data": {
      "text/markdown": [
       "\n",
       "\n",
       "**ChatGPT Analysis:**\n"
      ],
      "text/plain": [
       "<IPython.core.display.Markdown object>"
      ]
     },
     "metadata": {},
     "output_type": "display_data"
    },
    {
     "data": {
      "text/html": [
       "```html\n",
       "<!DOCTYPE html>\n",
       "\n",
       "<html lang=\"en\">\n",
       "<head>\n",
       "<meta charset=\"utf-8\"/>\n",
       "<title>YAML File Analysis</title>\n",
       "\n",
       "</head>\n",
       "<body>\n",
       "<h1>YAML File Analysis</h1>\n",
       "<h2>1. Purpose of the Diagram</h2>\n",
       "<p>\n",
       "        The diagram titled <strong>[LAB] Mountain Bike All (Messy)</strong> serves as a comprehensive illustration of a mountain bike system model. It organizes and depicts the relationships and interactions among various components involved in a mountain biking experience. The diagram's purpose is to provide an overview of how different elements of the system, such as trails, terrain, bike components, and biking actions, are interconnected to ensure a successful biking adventure.\n",
       "    </p>\n",
       "<p>\n",
       "        The related nodes in the diagram emphasize various aspects relevant to mountain biking, like \"Mountain Trails\", \"Rugged Terrain\", \"Obstacles\", and specific biking operations like \"Prep for Ride\", \"Ride\", and \"Execute Ride\". These components all interplay to address the broader aims of maximizing performance, comfort, and safety during mountain bike rides.\n",
       "    </p>\n",
       "<h2>2. Nodes Representation in ARCADIA and Description of the Diagram</h2>\n",
       "<p>\n",
       "        In the ARCADIA method, nodes like those presented in this YAML document are analyzed as follows:\n",
       "    </p>\n",
       "<ul>\n",
       "<li><strong>Logical Components:</strong> Components such as <em>Mountain Trails</em>, <em>Mountain Bike</em>, including its parts like <em>Frame and Suspension</em>, <em>Drive Train</em>, etc., represent structural elements and subsystems in the bike's architecture.</li>\n",
       "<li><strong>Logical Functions:</strong> The nodes labelled as logical functions (like <em>Rugged Terrain</em>, <em>Dampen Force from Wheels</em>) illustrate the actions or processes that these components are supposed to execute.</li>\n",
       "<li><strong>Functional Exchanges:</strong> Illustrate the information flow between the functions and components, for instance, conveying interactions such as <em>Observations</em> or <em>Transfer Force from rider to wheel</em>.</li>\n",
       "<li><strong>Functional Chains:</strong> Group of logical functions and exchanges that together encapsulate a specific behavior or capability, like <em>Comfort</em>, <em>Handling</em>, etc.</li>\n",
       "</ul>\n",
       "<p>\n",
       "        The overall diagram is an architectural view capturing how a mountain bike's components interact with mountainous environments and how they cater to the rider's requirements, aiming for an efficient and enjoyable ride. At its core, this diagram is describing the interactions and dependencies among physical and logical components of a mountain biking system, mapping out how energy and control are transferred across different subsystems, and how adjustments like terrain and rider input impact performance.\n",
       "    </p>\n",
       "</body>\n",
       "</html>\n",
       "```"
      ],
      "text/plain": [
       "<IPython.core.display.HTML object>"
      ]
     },
     "metadata": {},
     "output_type": "display_data"
    }
   ],
   "source": [
    "import os\n",
    "from openai import OpenAI\n",
    "from IPython.core.display import HTML\n",
    "from IPython.display import display, clear_output, Markdown\n",
    "#from capella_tools  import Open_AI_RAG_manager\n",
    "\n",
    "from capella_tools import Open_AI_RAG_manager\n",
    "#print(object)\n",
    "if object[\"type\"] ==  \"LogicalComponent\" or object[\"type\"] ==  \"SystemComponent\" or object[\"type\"] ==  \"PhysicalComponent-BEHAVIOR\"  or object[\"type\"] ==  \"PhysicalComponent-NODE\" :\n",
    "    prompt = component_prompt\n",
    "elif object[\"type\"] ==  \"FunctionalChain\" :  \n",
    "    prompt = functional_chain_prompt\n",
    "elif object[\"type\"] ==  \"OperationalProcess\":  \n",
    "    prompt = functional_chain_prompt\n",
    "elif object[\"type\"] ==  \"SystemFuntion\" or object[\"type\"] ==  \"LogicalFunction\" or object[\"type\"] ==  \"PhysicalFunction\":\n",
    "    prompt = function_prompt\n",
    "elif object[\"type\"] ==  \"OperationalActivity\" : \n",
    "    prompt = activity_prompt\n",
    "elif object[\"type\"] ==  \"Diagram\" : \n",
    "    prompt = diagram_prompt\n",
    "else :\n",
    "    prompt = default_prompt    \n",
    "# Display Prompt\n",
    "display(Markdown(f\"# The architecture is analyzed by ChatGPT with following prompt.\\n {prompt}\\n\"))\n",
    "\n",
    "# Step 1: Get YAML content\n",
    "yaml_content = yaml_handler.get_yaml_content()\n",
    "\n",
    "# Step 2: Invoke ChatGPT for analysis\n",
    "analyzer = Open_AI_RAG_manager.ChatGPTAnalyzer(yaml_content)\n",
    "analyzer.initial_prompt(prompt)\n",
    "chatgpt_response = analyzer.get_response()\n",
    "\n",
    "# Step 3: Display the response in the notebook\n",
    "#print(\"ChatGPT Analysis:\\n\")\n",
    "display(Markdown(f\"\\n\\n**ChatGPT Analysis:**\\n\"))\n",
    "#print(chatgpt_response)\n",
    "display(HTML(chatgpt_response))"
   ]
  },
  {
   "cell_type": "markdown",
   "id": "0ab07e0f-6cdb-4b16-9c5b-0acd3e7944cd",
   "metadata": {},
   "source": [
    "## ⚙️ Execute Followup Prompts\n",
    "\n",
    "### Purpose\n",
    "This cell executes the **follow up prompts** defined for analyzing the model. These prompts can be added by the note book user in addition to the default prompts\n",
    "\n",
    "### What This Cell Does\n",
    "- Use the structured input file (e.g., `capella_model.yaml`).\n",
    "- Excutes the prompt defined in the cell.\n",
    "- Outputs the results directly in the notebook.\n",
    "\n",
    "### 🛠️ Instructions\n",
    "1. Ensure the `capella_model.yaml` file is generated and up-to-date.\n",
    "2. Run this cell to execute the default prompts.\n",
    "3. Review the output to verify the accuracy and relevance of the analysis.\n",
    "\n",
    "> 💡 **Tip:** Modify the promt to your needs."
   ]
  },
  {
   "cell_type": "code",
   "execution_count": 8,
   "id": "fab94bcf-5ea3-4d7d-89e8-508dcd603d71",
   "metadata": {},
   "outputs": [
    {
     "data": {
      "text/markdown": [
       "\n",
       "\n",
       "**ChatGPT Analysis:**\n"
      ],
      "text/plain": [
       "<IPython.core.display.Markdown object>"
      ]
     },
     "metadata": {},
     "output_type": "display_data"
    },
    {
     "data": {
      "text/html": [
       "```html\n",
       "<!DOCTYPE html>\n",
       "\n",
       "<html lang=\"en\">\n",
       "<head>\n",
       "<meta charset=\"utf-8\"/>\n",
       "<title>Mountain Bike Performance Requirements</title>\n",
       "\n",
       "</head>\n",
       "<body>\n",
       "<h1>Mountain Bike Performance Requirements</h1>\n",
       "<div class=\"requirement\">\n",
       "<h2>Frame Durability</h2>\n",
       "<p>The Mountain Bike shall withstand a minimum load of 300 lbs without deformation.</p>\n",
       "<p class=\"rationale\"><strong>Rationale:</strong> Ensures that the frame can handle various rider weights and withstand stresses associated with rugged terrains.</p>\n",
       "</div>\n",
       "<div class=\"requirement\">\n",
       "<h2>Suspension Travel Range</h2>\n",
       "<p>The suspension system shall provide a travel distance of at least 160mm.</p>\n",
       "<p class=\"rationale\"><strong>Rationale:</strong> Provides the ability to absorb shocks and maintain comfort on rough and uneven terrains.</p>\n",
       "</div>\n",
       "<div class=\"requirement\">\n",
       "<h2>Brake Stopping Distance</h2>\n",
       "<p>The braking system shall stop the bike within 5 meters from a speed of 30 km/h on dry terrain.</p>\n",
       "<p class=\"rationale\"><strong>Rationale:</strong> Ensures rider safety by providing a reliable and efficient means of slowing down or stopping quickly.</p>\n",
       "</div>\n",
       "<div class=\"requirement\">\n",
       "<h2>Tire Traction</h2>\n",
       "<p>The tires shall maintain traction at a minimum incline of 30 degrees on loose gravel.</p>\n",
       "<p class=\"rationale\"><strong>Rationale:</strong> Necessary for maintaining control when navigating steep and slippery slopes.</p>\n",
       "</div>\n",
       "<div class=\"requirement\">\n",
       "<h2>Gear Shifting Efficiency</h2>\n",
       "<p>The bike shall shift between gears within one second under standard riding conditions.</p>\n",
       "<p class=\"rationale\"><strong>Rationale:</strong> Facilitates smooth transitions in varying terrain, improving ride quality and control.</p>\n",
       "</div>\n",
       "<div class=\"requirement\">\n",
       "<h2>Pedaling Efficiency</h2>\n",
       "<p>The drivetrain shall convert no less than 90% of rider effort into forward motion.</p>\n",
       "<p class=\"rationale\"><strong>Rationale:</strong> Ensures that effort exerted by the rider is effectively transmitted to moving the bike forward, optimizing energy use.</p>\n",
       "</div>\n",
       "<div class=\"requirement\">\n",
       "<h2>Handlebar Control</h2>\n",
       "<p>The handlebars shall allow the rider to achieve a full 45-degree turn angle on either side.</p>\n",
       "<p class=\"rationale\"><strong>Rationale:</strong> Ensures that the bike can maneuver as required to handle tight turns found on narrow trails.</p>\n",
       "</div>\n",
       "<div class=\"requirement\">\n",
       "<h2>Tire Pressure Range</h2>\n",
       "<p>The tires shall operate effectively at pressures between 20 to 65 psi.</p>\n",
       "<p class=\"rationale\"><strong>Rationale:</strong> Provides versatility for different trail conditions, including soft sand and hard-packed surfaces.</p>\n",
       "</div>\n",
       "<div class=\"requirement\">\n",
       "<h2>Frame Weight</h2>\n",
       "<p>The bike frame shall weigh no more than 2.5 kg.</p>\n",
       "<p class=\"rationale\"><strong>Rationale:</strong> Maintains overall bike weight manageable for uphill climbing while retaining strength.</p>\n",
       "</div>\n",
       "<div class=\"requirement\">\n",
       "<h2>Component Modularity</h2>\n",
       "<p>The bike shall allow quick detachment and replacement of components in less than 5 minutes.</p>\n",
       "<p class=\"rationale\"><strong>Rationale:</strong> Ensures ease of maintenance and customization, promoting user adaptation to different terrains and purposes.</p>\n",
       "</div>\n",
       "<div class=\"requirement\">\n",
       "<h2>Chain Durability</h2>\n",
       "<p>The chain shall withstand at least 200,000 cycles without breaking.</p>\n",
       "<p class=\"rationale\"><strong>Rationale:</strong> Provides longevity and reliability to the gear and drivetrain system, reducing maintenance costs.</p>\n",
       "</div>\n",
       "<div class=\"requirement\">\n",
       "<h2>Rider Comfort</h2>\n",
       "<p>The bike shall provide adjustable seat and handlebar alignments to suit different riding positions.</p>\n",
       "<p class=\"rationale\"><strong>Rationale:</strong> Enhances rider comfort and ergonomics, supporting prolonged rides without discomfort.</p>\n",
       "</div>\n",
       "<div class=\"requirement\">\n",
       "<h2>Saddle Support</h2>\n",
       "<p>The saddle shall distribute weight evenly, reducing pressure points, and enhancing comfort.</p>\n",
       "<p class=\"rationale\"><strong>Rationale:</strong> Critical for minimizing discomfort and potential injury during long rides on rough terrains.</p>\n",
       "</div>\n",
       "<div class=\"requirement\">\n",
       "<h2>Water Resistance</h2>\n",
       "<p>The bike's moving components shall continue to function without degradation after 2 hours of exposure to water spray.</p>\n",
       "<p class=\"rationale\"><strong>Rationale:</strong> Ensures reliability in wet conditions and prolongs the lifespan of bike components.</p>\n",
       "</div>\n",
       "<div class=\"requirement\">\n",
       "<h2>Aerodynamic Design</h2>\n",
       "<p>The bike shall have a frame design minimizing drag at speeds up to 40 km/h.</p>\n",
       "<p class=\"rationale\"><strong>Rationale:</strong> Improves pedaling efficiency and speed, important for performance riding.</p>\n",
       "</div>\n",
       "<div class=\"requirement\">\n",
       "<h2>Temperature Operating Range</h2>\n",
       "<p>The bike shall function optimally in temperatures ranging from -10°C to 40°C.</p>\n",
       "<p class=\"rationale\"><strong>Rationale:</strong> Allows use in diverse global conditions, from winter sports to tropical climates.</p>\n",
       "</div>\n",
       "<div class=\"requirement\">\n",
       "<h2>Rear Rack Load Capacity</h2>\n",
       "<p>The rear rack shall support loads up to 25 kg.</p>\n",
       "<p class=\"rationale\"><strong>Rationale:</strong> Facilitates carrying essential gear for long trips, enhancing bike utility.</p>\n",
       "</div>\n",
       "<div class=\"requirement\">\n",
       "<h2>Brake Noise Level</h2>\n",
       "<p>Brake noise shall not exceed 70 dB during operation.</p>\n",
       "<p class=\"rationale\"><strong>Rationale:</strong> Reduces noise pollution, providing a more pleasant ride experience and avoiding disturbance to wildlife.</p>\n",
       "</div>\n",
       "<div class=\"requirement\">\n",
       "<h2>Battery Life (If Electric)</h2>\n",
       "<p>The battery shall provide at least 50 km of assistance on a single charge.</p>\n",
       "<p class=\"rationale\"><strong>Rationale:</strong> Ensures the bike is practical for extended travel without frequent recharging breaks.</p>\n",
       "</div>\n",
       "<div class=\"requirement\">\n",
       "<h2>Lighting Visibility</h2>\n",
       "<p>The bike's lighting system shall be visible from at least 300 meters away in the dark.</p>\n",
       "<p class=\"rationale\"><strong>Rationale:</strong> Provides essential visibility to enhance rider safety in low light conditions.</p>\n",
       "</div>\n",
       "</body>\n",
       "</html>\n",
       "```"
      ],
      "text/plain": [
       "<IPython.core.display.HTML object>"
      ]
     },
     "metadata": {},
     "output_type": "display_data"
    }
   ],
   "source": [
    "prompt = \"\"\"\n",
    "Please create a set of 20 performance requirements for the Mountain Bike. \n",
    "Format the requirement in the following way:\n",
    "1. Each requirement will have a heading, body and rationale.\n",
    "2. The heading should be limited to 5 words.\n",
    "3. The body should be written as a shall statement.\n",
    "4. The body to be clear, concise and testable.\n",
    "5. Provide a rationale for the requirement.\n",
    "\"\"\"\n",
    "analyzer.follow_up_prompt(prompt)\n",
    "chatgpt_response = analyzer.get_response()\n",
    "\n",
    "# Step 3: Display the response in the notebook\n",
    "#print(\"ChatGPT Analysis:\\n\")\n",
    "display(Markdown(f\"\\n\\n**ChatGPT Analysis:**\\n\"))\n",
    "#print(chatgpt_response)\n",
    "display(HTML(chatgpt_response))"
   ]
  },
  {
   "cell_type": "code",
   "execution_count": 9,
   "id": "ca8d9c5e-e88e-4ba8-bbc7-f04a0afb245f",
   "metadata": {},
   "outputs": [
    {
     "data": {
      "text/markdown": [
       "\n",
       "\n",
       "**ChatGPT Analysis:**\n"
      ],
      "text/plain": [
       "<IPython.core.display.Markdown object>"
      ]
     },
     "metadata": {},
     "output_type": "display_data"
    },
    {
     "data": {
      "text/html": [
       "```html\n",
       "<!DOCTYPE html>\n",
       "\n",
       "<html lang=\"en\">\n",
       "<head>\n",
       "<meta charset=\"utf-8\"/>\n",
       "<title>Mountain Bike Functional Requirements</title>\n",
       "\n",
       "</head>\n",
       "<body>\n",
       "<h1>Mountain Bike Functional Requirements</h1>\n",
       "<div class=\"requirement\">\n",
       "<h2>Provide Steering Control</h2>\n",
       "<p>The Mountain Bike shall allow precise steering adjustments through handlebar inputs.</p>\n",
       "<p class=\"reference\"><strong>Functional Chain:</strong> Steering</p>\n",
       "</div>\n",
       "<div class=\"requirement\">\n",
       "<h2>Ensure Comfort and Ergonomics</h2>\n",
       "<p>The Mountain Bike shall offer seat adjustments for rider comfort and posture alignment.</p>\n",
       "<p class=\"reference\"><strong>Functional Chain:</strong> Provide Comfort</p>\n",
       "</div>\n",
       "<div class=\"requirement\">\n",
       "<h2>Optimize Gear Shifting</h2>\n",
       "<p>The Mountain Bike shall facilitate smooth and rapid gear transitions during ride.</p>\n",
       "<p class=\"reference\"><strong>Functional Chain:</strong> Shifting</p>\n",
       "</div>\n",
       "<div class=\"requirement\">\n",
       "<h2>Enhance Braking Efficiency</h2>\n",
       "<p>The Mountain Bike shall provide responsive and effective braking on various terrains.</p>\n",
       "<p class=\"reference\"><strong>Functional Chain:</strong> Stopping</p>\n",
       "</div>\n",
       "<div class=\"requirement\">\n",
       "<h2>Efficient Force Transfer</h2>\n",
       "<p>The Mountain Bike shall efficiently transfer rider input force to propulsion and stopping.</p>\n",
       "<p class=\"reference\"><strong>Functional Chain:</strong> Powering</p>\n",
       "</div>\n",
       "<div class=\"requirement\">\n",
       "<h2>Manage Terrain Adaptability</h2>\n",
       "<p>The Mountain Bike shall adjust suspension settings based on terrain type.</p>\n",
       "<p class=\"reference\"><strong>Functional Chain:</strong> Terrain Handling</p>\n",
       "</div>\n",
       "<div class=\"requirement\">\n",
       "<h2>Promote Stability on Trails</h2>\n",
       "<p>The Mountain Bike shall maintain balance and control on uneven trail surfaces.</p>\n",
       "<p class=\"reference\"><strong>Functional Chain:</strong> Terrain Handling</p>\n",
       "</div>\n",
       "<div class=\"requirement\">\n",
       "<h2>Facilitate Smooth Pedal Motion</h2>\n",
       "<p>The Mountain Bike shall ensure a seamless pedaling experience under load.</p>\n",
       "<p class=\"reference\"><strong>Functional Chain:</strong> Powering</p>\n",
       "</div>\n",
       "<div class=\"requirement\">\n",
       "<h2>Effectively Dampen Impacts</h2>\n",
       "<p>The Mountain Bike shall absorb shocks from rough terrain to protect the rider.</p>\n",
       "<p class=\"reference\"><strong>Functional Chain:</strong> Provide Comfort</p>\n",
       "</div>\n",
       "<div class=\"requirement\">\n",
       "<h2>Monitor and Display Gear</h2>\n",
       "<p>The Mountain Bike shall inform the rider of current gear status during ride.</p>\n",
       "<p class=\"reference\"><strong>Functional Chain:</strong> Shifting</p>\n",
       "</div>\n",
       "</body>\n",
       "</html>\n",
       "```"
      ],
      "text/plain": [
       "<IPython.core.display.HTML object>"
      ]
     },
     "metadata": {},
     "output_type": "display_data"
    }
   ],
   "source": [
    "prompt = \"\"\"\n",
    "Please create a set of 10 functional requirements for the Mountain Bike related functional chains. \n",
    "Format the requirement in the following way:\n",
    "1. Each requirement will have a heading and body.\n",
    "2. The heading should be limited to 5 words.\n",
    "3. The body should be written as a shall statement.\n",
    "4. The body to be clear, concise and testable.\n",
    "5. Reference the functional chain.\n",
    "\"\"\"\n",
    "analyzer.follow_up_prompt(prompt)\n",
    "chatgpt_response = analyzer.get_response()\n",
    "\n",
    "# Step 3: Display the response in the notebook\n",
    "#print(\"ChatGPT Analysis:\\n\")\n",
    "display(Markdown(f\"\\n\\n**ChatGPT Analysis:**\\n\"))\n",
    "#print(chatgpt_response)\n",
    "display(HTML(chatgpt_response))"
   ]
  },
  {
   "cell_type": "markdown",
   "id": "614ada9b-367c-4929-badf-e27c7170b825",
   "metadata": {},
   "source": [
    "## 💬 Launch Interactive Chat on Structured Input\n",
    "\n",
    "### Purpose\n",
    "This cell launches an interactive chat session based on the structured input file, leveraging ARCADIA and Polarion terminology to ensure the analysis remains consistent with the modeling context.\n",
    "\n",
    "### Key Features\n",
    "- Uses the generated structured input file (e.g., `capella_model.yaml`) to guide the conversation.\n",
    "- Supports ARCADIA terms such as **functions**, **components**, **activities**, and **exchanges**.\n",
    "- Incorporates Polarion terms like **workitem**, **requirement**, and **traceability** for seamless integration with requirements management workflows.\n",
    "\n",
    "### How It Works\n",
    "1. The structured input file provides context for the chat session.\n",
    "2. You can interactively query details about the model elements, relationships, and dependencies.\n",
    "3. Responses are tailored using ARCADIA and Polarion terminology.\n",
    "\n",
    "### Example Prompts\n",
    "- **For ARCADIA:**\n",
    "  ```plaintext\n",
    "  What are the dependencies and exchanges for the selected function in the Logical Architecture phase?\n",
    "\n",
    "- **For Polarion:**\n",
    "  ```plaintext\n",
    "  Provide the traceability matrix for the workitem linked to this component.\n",
    "  ```\n",
    "### 🛠️ Instructions\n",
    "1. Ensure the `capella_model.yaml` file has been generated and is up-to-date.\n",
    "2. Run this cell to start the interactive chat session.\n",
    "3. Enter your queries using **ARCADIA** or **Polarion** terms for accurate and relevant responses.\n",
    "\n",
    "### 📝 Notes\n",
    "- The interactive chat dynamically adapts to the content in the structured input file.\n",
    "- Use precise and contextual queries to ensure the best results and insights.\n",
    "\n",
    "> 💡 **Tip:** If you're unfamiliar with ARCADIA or Polarion terminology, consult the respective documentation or glossary for guidance.\n",
    "\n"
   ]
  },
  {
   "cell_type": "code",
   "execution_count": null,
   "id": "ac1d370a-fcf4-4084-9064-f5e11a03a641",
   "metadata": {
    "jupyter": {
     "source_hidden": true
    }
   },
   "outputs": [
    {
     "name": "stdout",
     "output_type": "stream",
     "text": [
      "Starting interactive chat...\n"
     ]
    },
    {
     "data": {
      "application/vnd.jupyter.widget-view+json": {
       "model_id": "52b7ff5c2264475c8f0f9d9e171e87c3",
       "version_major": 2,
       "version_minor": 0
      },
      "text/plain": [
       "Output()"
      ]
     },
     "metadata": {},
     "output_type": "display_data"
    },
    {
     "data": {
      "application/vnd.jupyter.widget-view+json": {
       "model_id": "c17f4d0fa578490481b6905cf50629b1",
       "version_major": 2,
       "version_minor": 0
      },
      "text/plain": [
       "Textarea(value='', layout=Layout(border_bottom='2px solid #4A90E2', border_left='2px solid #4A90E2', border_ri…"
      ]
     },
     "metadata": {},
     "output_type": "display_data"
    },
    {
     "data": {
      "application/vnd.jupyter.widget-view+json": {
       "model_id": "f71934f7d72d425a950680818b5d623c",
       "version_major": 2,
       "version_minor": 0
      },
      "text/plain": [
       "HBox(children=(Button(button_style='primary', description='Execute', style=ButtonStyle()), Button(button_style…"
      ]
     },
     "metadata": {},
     "output_type": "display_data"
    },
    {
     "name": "stdout",
     "output_type": "stream",
     "text": [
      "Waiting for chat interactions...\n"
     ]
    }
   ],
   "source": [
    "analyzer.interactive_chat()\n"
   ]
  },
  {
   "cell_type": "code",
   "execution_count": null,
   "id": "57dea895-123c-4c7f-b386-89510fcfcd9d",
   "metadata": {
    "jupyter": {
     "source_hidden": true
    }
   },
   "outputs": [],
   "source": [
    "print(\"Done\")"
   ]
  },
  {
   "cell_type": "markdown",
   "id": "8fb2484d-c283-416d-b5ae-03289fc2a8a1",
   "metadata": {},
   "source": [
    "# "
   ]
  },
  {
   "cell_type": "code",
   "execution_count": null,
   "id": "a4c59542-ddf7-4047-9007-2613a7f96589",
   "metadata": {
    "collapsed": true,
    "jupyter": {
     "outputs_hidden": true,
     "source_hidden": true
    }
   },
   "outputs": [],
   "source": []
  },
  {
   "cell_type": "code",
   "execution_count": null,
   "id": "edddd2fe-aeef-43a8-94d2-4b7cac1ce700",
   "metadata": {
    "collapsed": true,
    "jupyter": {
     "outputs_hidden": true,
     "source_hidden": true
    }
   },
   "outputs": [],
   "source": []
  }
 ],
 "metadata": {
  "kernelspec": {
   "display_name": "Python 3 (ipykernel)",
   "language": "python",
   "name": "python3"
  },
  "language_info": {
   "codemirror_mode": {
    "name": "ipython",
    "version": 3
   },
   "file_extension": ".py",
   "mimetype": "text/x-python",
   "name": "python",
   "nbconvert_exporter": "python",
   "pygments_lexer": "ipython3",
   "version": "3.11.9"
  }
 },
 "nbformat": 4,
 "nbformat_minor": 5
}
