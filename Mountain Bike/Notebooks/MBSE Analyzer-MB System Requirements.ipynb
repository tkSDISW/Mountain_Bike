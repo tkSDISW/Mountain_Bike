{
 "cells": [
  {
   "cell_type": "markdown",
   "id": "2ef785c9-a1c0-4ad7-a185-02a1569ca072",
   "metadata": {},
   "source": [
    "# Model Based System Engineering Assistant: \n",
    "## Leveraging AI for System Engineering models \n",
    "\n",
    "Welcome to the **MBSE Assistant Notebook**, a powerful tool designed to augment your ability to review, comprehend, and enhance system models with AI-driven support. This notebook integrates a variety of capabilities to assist with:\n",
    "\n",
    "1. **Model Review and Comprehension**:\n",
    "   - Gain deeper insights into the structure and behavior of your system model.\n",
    "   - Use AI to clarify relationships, dependencies, and interactions within the model.\n",
    "\n",
    "2. **Impact Analysis**:\n",
    "   - Explore the potential effects of component failures on the system.\n",
    "   - Simulate scenarios to identify vulnerabilities and design improvements.\n",
    "\n",
    "3. **Simulation Generation**:\n",
    "   - Automatically generate simulations based on the model's architecture and behaviors.\n",
    "   - Use simulations for validation, testing, and demonstration purposes.\n",
    "\n",
    "4. **Failure Analysis**:\n",
    "   - Assess the system's resilience under various failure conditions.\n",
    "   - Extract meaningful insights to strengthen reliability and performance.\n",
    "\n",
    "5. **Content Extraction for Downstream Domains**:\n",
    "   - Convert model data into formats suitable for use in other engineering domains.\n",
    "   - Facilitate seamless collaboration across teams and tools.\n",
    "\n",
    "This notebook serves as a comprehensive platform to bridge the gap between system models and actionable insights, empowering architects to make informed decisions and design robust solutions. Whether you're investigating enhancements, running failure simulations, or preparing data for external domains, this assistant streamlines the process with AI-enhanced guidance.\n",
    "\n",
    "Feel free to explore and adapt the prompts and models to suit your specific use case. Let’s dive in and unlock the potential of your system model!\n"
   ]
  },
  {
   "cell_type": "markdown",
   "id": "b5acc178-1a94-4014-b1f7-13c97a9ba4ec",
   "metadata": {},
   "source": [
    "### Model-Specific Code (Do Not Modify)\n",
    "\n",
    "This section contains code that is specific to the system model. It is updated only when the model is changed and should not require user modifications under normal circumstances.\n",
    "\n",
    "If a new model is introduced, ensure this section is reviewed and updated as needed.\n"
   ]
  },
  {
   "cell_type": "code",
   "execution_count": 1,
   "id": "c7ba8743-5dac-41be-9083-d44aa0199411",
   "metadata": {
    "scrolled": true
   },
   "outputs": [
    {
     "name": "stdout",
     "output_type": "stream",
     "text": [
      "Warning: File '../Mountain Bike.traceability' does not exist.\n"
     ]
    }
   ],
   "source": [
    "#!pip install --upgrade git+https://github.com/tkSDISW/Capella_Tools \n",
    "import capellambse.decl\n",
    "\n",
    "from capella_tools import capellambse_helper\n",
    "\n",
    "from IPython import display as diag_display\n",
    "resources = {\n",
    "    \"Mountain_Bike\": \"Mountain_Bike/Mountain Bike\",\n",
    "    \"Bike BrakeSystem Library\": {\"path\" : \"/home/simcenter/studio/Bike_BrakeSystem_Library/Bike BrakeSystem Library\"}\n",
    "}\n",
    "path_to_model = \"../Mountain Bike.aird\"\n",
    "model = capellambse.MelodyModel(path_to_model, resources=resources)\n",
    "from capella_tools import Pub4C\n",
    "# Instantiate the class with the traceability file\n",
    "traceability_store = Pub4C.Traceability_Store(\"../Mountain Bike.traceability\")\n"
   ]
  },
  {
   "cell_type": "code",
   "execution_count": null,
   "id": "5f73131d-3ba3-4c6f-8418-378d418156a6",
   "metadata": {
    "collapsed": true,
    "jupyter": {
     "outputs_hidden": true
    }
   },
   "outputs": [],
   "source": []
  },
  {
   "cell_type": "markdown",
   "id": "98e07f65-caa7-4e20-9268-7c5df4783e36",
   "metadata": {},
   "source": [
    "## 🔄 Embedding Generation Process\n",
    "\n",
    "### Overview\n",
    "This section generates embeddings, which streamlines processing and analyzing the model. The embeddings provide a structured representation of the data that powers subsequent tasks and visualizations.\n",
    "\n",
    "### When is this step necessary?\n",
    "- **Initial Run:** If this notebook is being run for the first time, embeddings will need to be generated.\n",
    "- **Model Updates:** If the underlying model has been modified, regenerating embeddings ensures the data remains accurate and up-to-date.\n",
    "\n",
    "### Important Notes\n",
    "- **Duration:** This process may take **a minute or more** to complete, depending on the size and complexity of the model.\n",
    "- **Output:** Upon completion, embeddings will be ready for use in subsequent sections of the notebook.\n",
    "\n",
    "### Instructions\n",
    "1. Ensure the required model is loaded.\n",
    "2. Run the cell below to initiate the embedding generation process.\n",
    "3. Wait for the process to complete before proceeding.\n",
    "\n",
    "> 💡 **Tip:** You can monitor progress in the notebook's output cell. If any errors occur, check that the model is properly configured and accessible.\n",
    "\n",
    "---\n",
    "\n",
    "> ⚠️ **Warning:** Interrupting this step may result in incomplete or invalid embeddings. If interrupted, re-run the cell to restart the process.\n",
    "\n",
    "---\n",
    "\n",
    "Continue to the next cell to generate embeddings. 🚀\n"
   ]
  },
  {
   "cell_type": "code",
   "execution_count": 2,
   "id": "2c54cb77-76e8-4309-90e0-7da1d2a2d9f8",
   "metadata": {
    "jupyter": {
     "source_hidden": true
    }
   },
   "outputs": [
    {
     "name": "stdout",
     "output_type": "stream",
     "text": [
      "OpenAI API Key retrieved successfully.\n",
      "Loading embeddings\n",
      "embeddings loaded.\n"
     ]
    }
   ],
   "source": [
    "\n",
    "from capella_tools  import capella_embeddings_manager\n",
    "\n",
    "# Generate embeddings for all objects\n",
    "model_embedding_manager = capella_embeddings_manager.EmbeddingManager()\n",
    "\n",
    "embedding_file = \"embeddings.json\" \n",
    "model_embedding_manager.set_files( path_to_model , embedding_file)\n",
    "\n",
    "model_embedding_manager.create_model_embeddings(model)"
   ]
  },
  {
   "cell_type": "markdown",
   "id": "f671a45d-5335-463c-802a-156296f21ad4",
   "metadata": {},
   "source": [
    "## 🎯 Prompt for System Model Element Analysis\n",
    "\n",
    "### Purpose\n",
    "This cell accepts a prompt to identify and isolate the specific object(s) to be analyzed. Providing detailed and accurate information in the prompt will ensure the best performance during the analysis.\n",
    "\n",
    "### What to Include in Your Prompt\n",
    "For optimal results, specify the following details about the object(s):\n",
    "1. **Type of ARCADIA Object:** Clearly state the type of the object (e.g., Logical Component, Physical Component, Functional Exchange).\n",
    "2. **Name of the Object:** Provide the exact name of the object as defined in the model.\n",
    "3. **ARCADIA Phase:** Specify the phase associated with the object (e.g., Operational Analysis, System Analysis, Logical Architecture, Physical Architecture).\n",
    "4. **Related Objects:** Identify any objects connected via exchanges or dependencies.\n",
    "\n",
    "### Example Prompt\n",
    "Locate the Logical Component named Brake Pedal in the Logical phase and has a Driver supplying input.\n",
    "### ✅ Tips for Success\n",
    "- **Use precise terminology:** Ensure your prompt aligns with the model's structure and terminology.\n",
    "- **Include related objects:** Whenever possible, specify related objects to enhance context and improve analysis accuracy.\n",
    "- **Double-check details:** Verify object names and phases to ensure they match the model exactly.\n",
    "'''\n",
    "\n",
    "### 🚀 Next Steps\n",
    "1. Run the cell below.\n",
    "2. Enter your prompt, providing the necessary details as outlined above.\n",
    "3. Wait for the analysis to complete.\n",
    "4. Select the best index or indexes for analysis. (The last selection will drive selection of a prompt.)\n",
    "\n",
    "> 💡 **Tip:** If you're unsure about the model structure, review the documentation or refer to the model's diagrams for additional guidance.\n"
   ]
  },
  {
   "cell_type": "code",
   "execution_count": 3,
   "id": "31298768-f6da-4f27-9c76-50d02b7a0fe7",
   "metadata": {},
   "outputs": [
    {
     "name": "stdout",
     "output_type": "stream",
     "text": [
      "\n",
      "This is a list of ranked Objects Based on Query:\n",
      "Index: 0, Name: [LAB] Mountain Bike All (Messy), Similarity: 0.87, Type: Diagram, Phase: Logical Architecture LA, Source: , Target: \n"
     ]
    }
   ],
   "source": [
    "\n",
    "selected_objects = model_embedding_manager.query_and_select_top_objects(\"[LAB] Mountain Bike All diagram\", top_n=1)\n"
   ]
  },
  {
   "cell_type": "markdown",
   "id": "2dd4a6ad-39a9-4bc3-ae26-5d97c5fe394b",
   "metadata": {},
   "source": [
    "\n",
    "\n",
    "\n",
    "\n",
    "## 📝 Generate Structured Input File \n",
    "\n",
    "### Purpose\n",
    "This cell generates a structured structured input file, `capella_model.yaml`, which serves as input for prompts tailored to the object type of the last selected item. This ensures that the prompt aligns with the model's structure and provides accurate context for analysis.\n",
    "\n",
    "### What This Cell Does\n",
    "- Extracts data related to the elements selected.\n",
    "- Structures the data into a YAML format.\n",
    "- Saves the YAML file as `capella_model.yaml` for further use.\n",
    "\n",
    "### Key Features\n",
    "- The YAML file includes:\n",
    "  - **Object Type:** The type of the element.\n",
    "  - **Object Details:** Attributes, relationships, and associated exchanges.\n",
    "  - **Structured Input:** Designed to enhance prompt accuracy and model analysis.\n",
    "\n",
    "### Instructions\n",
    "1. Run this cell to create the `capella_model.yaml` file.\n",
    "2. Ensure the last selected item is correctly identified to avoid mismatched data.\n",
    "3. Use the generated YAML file as structured input for tailored prompts in subsequent steps.\n",
    "\n",
    "### Notes\n",
    "- The file will be saved in the current working directory.\n",
    "- If the selected object changes, re-run this cell to update the YAML file.\n",
    "\n",
    "> 💡 **Tip:** Review the contents of `capella_model.yaml` if needed to ensure accuracy and completeness.\n"
   ]
  },
  {
   "cell_type": "code",
   "execution_count": 4,
   "id": "4db8d5ea-0e49-4098-aedc-0914d956f286",
   "metadata": {},
   "outputs": [],
   "source": [
    "#Workflow\n",
    "from capella_tools import capellambse_yaml_manager\n",
    "yaml_handler = capellambse_yaml_manager.CapellaYAMLHandler()\n",
    "   \n",
    "#Generate YAML for the logical component and append to the file\n",
    "for object in  selected_objects : \n",
    "\n",
    "    yaml_handler.generate_yaml(model.by_uuid(object[\"uuid\"]))  \n",
    "\n",
    "\n",
    "\n",
    "yaml_handler.generate_traceability_related_objects(model,traceability_store)\n",
    "\n",
    "#yaml_handler.display()\n",
    "yaml_handler.generate_yaml_referenced_objects()\n",
    "#yaml_handler.display()\n",
    "\n",
    "yaml_handler.write_output_file()\n"
   ]
  },
  {
   "cell_type": "markdown",
   "id": "1113cb97-36e1-46b4-aec7-9713aea09a64",
   "metadata": {},
   "source": [
    "## 🖼️ Generate Contextual Diagram\n",
    "\n",
    "### Purpose\n",
    "This cell generates a **contextual diagram** for the selected object. The diagram visually represents the object's relationships and interactions, providing a clear and comprehensive view of its context within the model.\n",
    "\n",
    "### Supported Object Types\n",
    "This functionality works the following ARCADIA elements, including:\n",
    "- **Functions**\n",
    "- **Activities**\n",
    "- **Components**\n",
    "- **Entities**\n",
    "- **Exchanges and Interactions**\n",
    "- **Physical Links**\n",
    "\n",
    "### What This Cell Does\n",
    "- Identifies the selected object.\n",
    "- Extracts relevant relationships, exchanges, and dependencies.\n",
    "- Creates a contextual diagram based on the object's type and its connections.\n",
    "\n",
    "### Instructions\n",
    "1. Ensure the object is correctly selected in the previous step.\n",
    "2. Run this cell to generate the contextual diagram.\n",
    "3. Review the output to verify accuracy and completeness.\n",
    "\n",
    "### Key Benefits\n",
    "- **Clarity:** Visualizes how the selected object interacts with other model elements.\n",
    "- **Versatility:** Works seamlessly across ARCADIA functions, activities, components, and entities.\n",
    "- **Actionable Insight:** Helps identify key dependencies and relationships for analysis.\n",
    "\n",
    "### Notes\n",
    "- The diagram will be displayed below upon completion.\n",
    "- If the selected object changes, re-run this cell to update the contextual\n"
   ]
  },
  {
   "cell_type": "code",
   "execution_count": 5,
   "id": "6679d117-2c29-4dc1-9eac-b14e602b1cee",
   "metadata": {},
   "outputs": [],
   "source": [
    "for object in  selected_objects : \n",
    "    #print(object)\n",
    "    if object[\"type\"] == \"Diagram\" :\n",
    "        diagram = model.by_uuid(object[\"uuid\"])\n",
    "        #display(diagram)\n",
    "    else:\n",
    "        obj =  model.by_uuid(object[\"uuid\"])\n",
    "        capellambse_helper.display_context_diagram(obj)"
   ]
  },
  {
   "cell_type": "markdown",
   "id": "a1ed6cc0-6c32-4f80-8a39-1dccfaca5eb5",
   "metadata": {},
   "source": [
    "## 💬 Predefined Prompts for Analysis\n",
    "\n",
    "### Purpose\n",
    "This cell contains predefined prompts for analyzing different types of ARCADIA elements, including components, functions, operational processes, and a default prompt. You can use these as-is or tailor them to suit your specific needs.\n",
    "\n",
    "\n",
    "### Instructions\n",
    "1. The appropriate prompt will be used for your analysis needs.\n",
    "2. Modify the prompt to include additional details or requirements, if necessary.\n",
    "\n",
    "### Notes\n",
    "- Predefined prompts are designed to guide analysis and ensure consistency.\n",
    "- Tailoring the prompts allows you to focus on specific aspects of the model relevant to your use case.\n",
    "\n",
    "> 💡 **Tip:** Save your tailored prompts for reuse in similar analyses or workflows.\n"
   ]
  },
  {
   "cell_type": "code",
   "execution_count": 6,
   "id": "24590371-907b-4e64-898f-99c5e9499460",
   "metadata": {},
   "outputs": [],
   "source": [
    "component_prompt = \"\"\"\n",
    "Please analyze the yaml file and display the result as .html and specifically provide insights on:\n",
    "1. The purpose of the component.\n",
    "2. Any components that make it up.\n",
    "3. A list of allocated functions and their potential roles.\n",
    "4. How the ports relate to the functions.\n",
    "5. Any traceabilty artifacts linked to the component and the artifacts url.\n",
    "6. Suggestions for improving the component description.\n",
    "7. Create a tabular table with columns for the component and its ports and the port interfaces, the interface souce and the interface target.\n",
    "8. List any property values and the related model element.\n",
    "9. A summary of any related state machines.\n",
    "\"\"\"\n",
    "function_prompt = \"\"\"\n",
    "Please analyze the yaml file and display the result as .html specifically provide insights on:\n",
    "1. The purpose of the function.\n",
    "2. Its owning component.\n",
    "4. Any ports relate to the functions.\n",
    "5. Any traceabilty artifacts linked to the component and the artifacts url.\n",
    "6. Suggestions for improving the function description.\n",
    "7. Create a tabular table with columns for the owning component, this function, its ports and the functional exchanges.\n",
    "\"\"\"\n",
    "activity_prompt = \"\"\"\n",
    "Please analyze the yaml file and display the result as .html specifically provide insights on:\n",
    "1. The purpose of the activity.\n",
    "2. Its actor or entiry.\n",
    "4. Any traceabilty artifacts linked to the component and the artifacts url.\n",
    "7. Suggestions for improving the activity description.\n",
    "7. Create a tabular table with columns for the owning entity or actor, this activity, its exchanges.\n",
    "\"\"\"\n",
    "functional_chain_prompt = \"\"\"\n",
    "Please analyze the YAML file and display the result as .html specifically provide insights on:\n",
    "1. The purpose of the functional chain.\n",
    "2. A table with first column being the owning component, the second being a function, last column being involved functional exchange, organized by involved functional exchanges.\n",
    "3. Any traceabilty artifacts linked to functional chain, functions, owning component and the traceability artifacts url.\n",
    "4. List any property values and the related model element.\n",
    "Please format the analysis in .html suitable for Juypter Notbook display operation.\n",
    "\"\"\"\n",
    "operational_process_prompt = \"\"\"\n",
    "Please analyze the YAML file and display the result as .html specifically provide insights on:\n",
    "1. The purpose of the operation process.\n",
    "2. A table with first column being the owning component, the second being a activities, last column being involved activity exchange, organized by involved activity exchanges.\n",
    "3. Any traceabilty artifacts linked to the operational process chain, activities, owning component and the traceability artifacts url.\n",
    "4. List any property values and the related model element.\n",
    "Please format the analysis in .html suitable for Juypter Notbook display operation.\n",
    "\"\"\"\n",
    "diagram_prompt = \"\"\"\n",
    "Please analyze the YAML file and display the result as .html specifically provide insights on:\n",
    "1. The purpose of the diagram based on its related nodes.\n",
    "2. Describe what the nodes represent in the ARCADIA method and what the diagram is describing.\n",
    "Please format the analysis in .html suitable for Juypter Notbook display operation.\n",
    "\"\"\"\n",
    "default_prompt = \"\"\"\n",
    "Please analyze the YAML file and display the result as .html specifically provide insights on:\n",
    "1. The purpose of the primary component listed first in the yaml file.=.\n",
    "2. List any property values and the related model element.\n",
    "Please format the analysis in .html suitable for Juypter Notbook display operation.\n",
    "\"\"\"\n",
    "\n"
   ]
  },
  {
   "cell_type": "markdown",
   "id": "4a3e82f3-a07b-404e-a230-7ebcf690e3e4",
   "metadata": {},
   "source": [
    "## ⚙️ Execute Default Prompts\n",
    "\n",
    "### Purpose\n",
    "This cell executes the **default prompts** defined for analyzing the model. These prompts are designed to provide general insights and overviews when specific object types or contexts are not explicitly defined.\n",
    "\n",
    "### What This Cell Does\n",
    "- Reads the structured input file (e.g., `capella_model.yaml`).\n",
    "- Uses the default prompts to query key details about the selected object(s).\n",
    "- Outputs the results directly in the notebook.\n",
    "\n",
    "### 🛠️ Instructions\n",
    "1. Ensure the `capella_model.yaml` file is generated and up-to-date.\n",
    "2. Run this cell to execute the default prompts.\n",
    "3. Review the output to verify the accuracy and relevance of the analysis.\n",
    "\n",
    "### 📝 Notes\n",
    "- The default prompts are **general-purpose** and may not capture all details specific to certain object types.\n",
    "- For more tailored analysis, consider using prompts designed for specific ARCADIA elements.\n",
    "\n",
    "> 💡 **Tip:** Use the default prompts as a starting point, then refine or modify them based on your analysis needs.\n"
   ]
  },
  {
   "cell_type": "code",
   "execution_count": 7,
   "id": "8cf53953-bfae-4677-9f45-906e72aa93e1",
   "metadata": {},
   "outputs": [
    {
     "name": "stdout",
     "output_type": "stream",
     "text": [
      "Warning: When  cdn_resources is 'local' jupyter notebook has issues displaying graphics on chrome/safari. Use cdn_resources='in_line' or cdn_resources='remote' if you have issues viewing graphics in a notebook.\n",
      "OpenAI API Key retrieved successfully.\n"
     ]
    },
    {
     "data": {
      "text/markdown": [
       "**Your prompt:** \n",
       "Please analyze the YAML file and display the result as .html specifically provide insights on:\n",
       "1. The purpose of the diagram based on its related nodes.\n",
       "2. Describe what the nodes represent in the ARCADIA method and what the diagram is describing.\n",
       "Please format the analysis in .html suitable for Juypter Notbook display operation.\n",
       " Format the response in .html format."
      ],
      "text/plain": [
       "<IPython.core.display.Markdown object>"
      ]
     },
     "metadata": {},
     "output_type": "display_data"
    },
    {
     "data": {
      "text/html": [
       "\n",
       "<!DOCTYPE html>\n",
       "\n",
       "<html>\n",
       "<head>\n",
       "<title>YAML File Analysis</title>\n",
       "\n",
       "</head>\n",
       "<body>\n",
       "<h2>Analysis of the YAML File</h2>\n",
       "<h3>1. Purpose of the Diagram: [LAB] Mountain Bike All (Messy)</h3>\n",
       "<p>The diagram titled \"<strong>[LAB] Mountain Bike All (Messy)</strong>\" provides a detailed representation of a mountain bike system, depicting the interactions and allocations of various components and functions.</p>\n",
       "<p>It encompasses the following key nodes:</p>\n",
       "<ul>\n",
       "<li><strong>Mountain Trails:</strong> Representing the terrain or path layout.</li>\n",
       "<li><strong>Rugged Terrain:</strong> Illustrating the challenges in mountain trails.</li>\n",
       "<li><strong>Obstacles:</strong> Reflecting barriers or impediments within the trail.</li>\n",
       "<li><strong>Frame and Suspension:</strong> Detailing the structural support system of the bike.</li>\n",
       "<li><strong>Drive Train:</strong> Describing the mechanism responsible for propulsion.</li>\n",
       "<li><strong>Wheels and Tires:</strong> Highlighting the bike's interaction with the trail.</li>\n",
       "<li><strong>Braking System, Cockpit, Seat and Post:</strong> Components that provide control, comfort, and safety.</li>\n",
       "</ul>\n",
       "<p>This diagram intends to display the functional and structural interactions within a mountain bike system as a means to assess its design, performance, and capability in handling different mountain trail challenges.</p>\n",
       "<h3>2. Representation in ARCADIA Method</h3>\n",
       "<p>In the context of the ARCADIA (Architecture Analysis and Design Integrated Approach) method, each node within the diagram represents distinct concepts:</p>\n",
       "<ul>\n",
       "<li><strong>Logical Components:</strong> Nodes like \"Mountain Trails,\" \"Frame and Suspension,\" \"Drive Train,\" etc., signify the high-level architectural structures that incorporate associated logical functions.</li>\n",
       "<li><strong>Logical Functions:</strong> Nodes such as \"Rugged Terrain,\" \"Obstacles,\" \"Transfer Force from rider to wheel\" demonstrate the interactions between components, laying out processes or operations executed by the system.</li>\n",
       "<li><strong>Functional Exchanges:</strong> Nodes indicating interactions like \"Pedal Torque,\" \"Steering Forces,\" explain data and control flows between functions.</li>\n",
       "<li><strong>Functional Chains:</strong> Representations like \"Shifting,\" \"Powering,\" \"Terrain Handling\" demonstrate workflow sequences or capabilities within the system, showing how different functions could be combined to achieve system objectives.</li>\n",
       "</ul>\n",
       "<p>The diagram, therefore, models a complex system design using ARCADIA's structured approach, emphasizing logical functions and their integration into physical components. It visualizes the bike as a system of interacting parts with specific connections and processes that ensure efficient, coordinated functioning across varying trail conditions.</p>\n",
       "</body>\n",
       "</html>\n"
      ],
      "text/plain": [
       "<IPython.core.display.HTML object>"
      ]
     },
     "metadata": {},
     "output_type": "display_data"
    }
   ],
   "source": [
    "import os\n",
    "from openai import OpenAI\n",
    "from IPython.core.display import HTML\n",
    "from IPython.display import display, clear_output, Markdown\n",
    "#from capella_tools  import Open_AI_RAG_manager\n",
    "\n",
    "from capella_tools import Open_AI_RAG_manager\n",
    "#print(object)\n",
    "if object[\"type\"] ==  \"LogicalComponent\" or object[\"type\"] ==  \"SystemComponent\" or object[\"type\"] ==  \"PhysicalComponent-BEHAVIOR\"  or object[\"type\"] ==  \"PhysicalComponent-NODE\" :\n",
    "    prompt = component_prompt\n",
    "elif object[\"type\"] ==  \"FunctionalChain\" :  \n",
    "    prompt = functional_chain_prompt\n",
    "elif object[\"type\"] ==  \"OperationalProcess\":  \n",
    "    prompt = functional_chain_prompt\n",
    "elif object[\"type\"] ==  \"SystemFuntion\" or object[\"type\"] ==  \"LogicalFunction\" or object[\"type\"] ==  \"PhysicalFunction\":\n",
    "    prompt = function_prompt\n",
    "elif object[\"type\"] ==  \"OperationalActivity\" : \n",
    "    prompt = activity_prompt\n",
    "elif object[\"type\"] ==  \"Diagram\" : \n",
    "    prompt = diagram_prompt\n",
    "else :\n",
    "    prompt = default_prompt    \n",
    "\n",
    "# Step 1: Get YAML content\n",
    "yaml_content = yaml_handler.get_yaml_content()\n",
    "\n",
    "# Step 2: Invoke ChatGPT for analysis\n",
    "analyzer = Open_AI_RAG_manager.ChatGPTAnalyzer(yaml_content)\n",
    "analyzer.initial_prompt(prompt)\n",
    "chatgpt_response = analyzer.get_response()\n",
    "\n"
   ]
  },
  {
   "cell_type": "markdown",
   "id": "0ab07e0f-6cdb-4b16-9c5b-0acd3e7944cd",
   "metadata": {},
   "source": [
    "## ⚙️ Execute Followup Prompts\n",
    "\n",
    "### Purpose\n",
    "This cell executes the **follow up prompts** defined for analyzing the model. These prompts can be added by the note book user in addition to the default prompts\n",
    "\n",
    "### What This Cell Does\n",
    "- Use the structured input file (e.g., `capella_model.yaml`).\n",
    "- Excutes the prompt defined in the cell.\n",
    "- Outputs the results directly in the notebook.\n",
    "\n",
    "### 🛠️ Instructions\n",
    "1. Ensure the `capella_model.yaml` file is generated and up-to-date.\n",
    "2. Run this cell to execute the default prompts.\n",
    "3. Review the output to verify the accuracy and relevance of the analysis.\n",
    "\n",
    "> 💡 **Tip:** Modify the promt to your needs."
   ]
  },
  {
   "cell_type": "code",
   "execution_count": 8,
   "id": "fab94bcf-5ea3-4d7d-89e8-508dcd603d71",
   "metadata": {},
   "outputs": [
    {
     "data": {
      "text/markdown": [
       "**Your prompt:** \n",
       "Please create a set of 20 user requirements for the Mountain Bike based on \n",
       "Format the requirement in the following way:\n",
       "1. Each requirement will have a heading, body and rationale.\n",
       "2. The heading should be limited to 5 words.\n",
       "3. The body should be written as a shall statement.\n",
       "4. The body to be clear, concise and testable.\n",
       "5. Provide a rationale for the requirement.\n"
      ],
      "text/plain": [
       "<IPython.core.display.Markdown object>"
      ]
     },
     "metadata": {},
     "output_type": "display_data"
    },
    {
     "data": {
      "text/html": [
       "\n",
       "<!DOCTYPE html>\n",
       "\n",
       "<html>\n",
       "<head>\n",
       "<title>Mountain Bike User Requirements</title>\n",
       "\n",
       "</head>\n",
       "<body>\n",
       "<h2>Mountain Bike User Requirements</h2>\n",
       "<div class=\"requirement\">\n",
       "<h3>1. Durable Frame Construction</h3>\n",
       "<p><strong>Requirement:</strong> The mountain bike shall have a frame that can withstand rough terrain impacts.</p>\n",
       "<p><strong>Rationale:</strong> Ensures rider safety and longevity of the bike when navigating rugged trails.</p>\n",
       "</div>\n",
       "<div class=\"requirement\">\n",
       "<h3>2. Efficient Gear Shifting</h3>\n",
       "<p><strong>Requirement:</strong> The mountain bike shall provide smooth and quick gear changes under load.</p>\n",
       "<p><strong>Rationale:</strong> Facilitates maintaining momentum and adapting to varying trail conditions.</p>\n",
       "</div>\n",
       "<div class=\"requirement\">\n",
       "<h3>3. Effective Suspension System</h3>\n",
       "<p><strong>Requirement:</strong> The bike's suspension shall absorb shocks from obstacles effectively.</p>\n",
       "<p><strong>Rationale:</strong> Enhances ride comfort and control over rough and uneven surfaces.</p>\n",
       "</div>\n",
       "<div class=\"requirement\">\n",
       "<h3>4. Powerful Braking System</h3>\n",
       "<p><strong>Requirement:</strong> The bike shall offer a braking system capable of rapid stopping with precision.</p>\n",
       "<p><strong>Rationale:</strong> Necessary for safety, allowing quick stops in emergencies.</p>\n",
       "</div>\n",
       "<div class=\"requirement\">\n",
       "<h3>5. Lightweight Construction</h3>\n",
       "<p><strong>Requirement:</strong> The mountain bike shall weigh less than 15 kg for better maneuverability.</p>\n",
       "<p><strong>Rationale:</strong> Reduces physical exertion and enhances speed and control.</p>\n",
       "</div>\n",
       "<div class=\"requirement\">\n",
       "<h3>6. Robust Tire Traction</h3>\n",
       "<p><strong>Requirement:</strong> The tires shall provide high traction on both dry and wet terrains.</p>\n",
       "<p><strong>Rationale:</strong> Ensures rider safety by reducing slippage during diverse weather conditions.</p>\n",
       "</div>\n",
       "<div class=\"requirement\">\n",
       "<h3>7. Adjustable Seat Position</h3>\n",
       "<p><strong>Requirement:</strong> The bike shall have an easily adjustable seat height with secure locking.</p>\n",
       "<p><strong>Rationale:</strong> Provides ergonomic comfort and improved control for different rider sizes.</p>\n",
       "</div>\n",
       "<div class=\"requirement\">\n",
       "<h3>8. Strong Handlebar Grip</h3>\n",
       "<p><strong>Requirement:</strong> The mountain bike shall have handlebars with non-slip grips.</p>\n",
       "<p><strong>Rationale:</strong> Enhances control over the bike, especially in moist conditions.</p>\n",
       "</div>\n",
       "<div class=\"requirement\">\n",
       "<h3>9. Waterproof Components</h3>\n",
       "<p><strong>Requirement:</strong> All electronic components shall be waterproof to withstand rain.</p>\n",
       "<p><strong>Rationale:</strong> Protects electrical systems from damage, ensuring reliable function.</p>\n",
       "</div>\n",
       "<div class=\"requirement\">\n",
       "<h3>10. Efficient Energy Transfer</h3>\n",
       "<p><strong>Requirement:</strong> The drivetrain shall efficiently transfer rider energy to the wheels.</p>\n",
       "<p><strong>Rationale:</strong> Maximizes performance and speed, enhancing the biking experience.</p>\n",
       "</div>\n",
       "<div class=\"requirement\">\n",
       "<h3>11. Temperature Resilient Materials</h3>\n",
       "<p><strong>Requirement:</strong> The bike shall maintain structural integrity within -10°C to 40°C.</p>\n",
       "<p><strong>Rationale:</strong> Ensures the bike does not fail in extreme weather conditions.</p>\n",
       "</div>\n",
       "<div class=\"requirement\">\n",
       "<h3>12. Integrated GPS System</h3>\n",
       "<p><strong>Requirement:</strong> The bike shall include a GPS system for navigation and tracking.</p>\n",
       "<p><strong>Rationale:</strong> Provides real-time location tracking and aids navigation during rides.</p>\n",
       "</div>\n",
       "<div class=\"requirement\">\n",
       "<h3>13. Quick Release Tires</h3>\n",
       "<p><strong>Requirement:</strong> The tires shall be equipped with a quick-release mechanism for ease of maintenance.</p>\n",
       "<p><strong>Rationale:</strong> Facilitates rapid repair or replacement during trail rides.</p>\n",
       "</div>\n",
       "<div class=\"requirement\">\n",
       "<h3>14. Rider Weight Capacity</h3>\n",
       "<p><strong>Requirement:</strong> The bike shall support a minimum rider weight of 120 kg.</p>\n",
       "<p><strong>Rationale:</strong> Ensures usability for a wide range of riders, including those heavier than average.</p>\n",
       "</div>\n",
       "<div class=\"requirement\">\n",
       "<h3>15. Shock Absorption Handles</h3>\n",
       "<p><strong>Requirement:</strong> The handlebars shall have shock-absorbing properties to reduce arm fatigue.</p>\n",
       "<p><strong>Rationale:</strong> Enhances ride comfort by minimizing vibrations from rough trails.</p>\n",
       "</div>\n",
       "<div class=\"requirement\">\n",
       "<h3>16. Efficient Drivetrain Maintenance</h3>\n",
       "<p><strong>Requirement:</strong> The drivetrain shall be designed for easy maintenance and cleaning.</p>\n",
       "<p><strong>Rationale:</strong> Ensures longevity and optimal performance over time.</p>\n",
       "</div>\n",
       "<div class=\"requirement\">\n",
       "<h3>17. Durable Paint and Finish</h3>\n",
       "<p><strong>Requirement:</strong> The bike shall have a scratch-resistant and durable paint finish.</p>\n",
       "<p><strong>Rationale:</strong> Maintains aesthetic appeal and protects against minor damage.</p>\n",
       "</div>\n",
       "<div class=\"requirement\">\n",
       "<h3>18. Easy Component Upgrades</h3>\n",
       "<p><strong>Requirement:</strong> The bike shall allow for easy upgrades to key components.</p>\n",
       "<p><strong>Rationale:</strong> Offers flexibility for performance enhancements over time.</p>\n",
       "</div>\n",
       "<div class=\"requirement\">\n",
       "<h3>19. Environmental Impact Minimization</h3>\n",
       "<p><strong>Requirement:</strong> The bike shall utilize materials that minimize environmental impact.</p>\n",
       "<p><strong>Rationale:</strong> Supports eco-friendly practices and sustainable manufacturing.</p>\n",
       "</div>\n",
       "<div class=\"requirement\">\n",
       "<h3>20. Comprehensive User Manual</h3>\n",
       "<p><strong>Requirement:</strong> The mountain bike shall include a detailed user manual and maintenance guide.</p>\n",
       "<p><strong>Rationale:</strong> Provides users with essential information for operation and care.</p>\n",
       "</div>\n",
       "</body>\n",
       "</html>\n"
      ],
      "text/plain": [
       "<IPython.core.display.HTML object>"
      ]
     },
     "metadata": {},
     "output_type": "display_data"
    }
   ],
   "source": [
    "prompt = \"\"\"\n",
    "Please create a set of 20 user requirements for the Mountain Bike based on \n",
    "Format the requirement in the following way:\n",
    "1. Each requirement will have a heading, body and rationale.\n",
    "2. The heading should be limited to 5 words.\n",
    "3. The body should be written as a shall statement.\n",
    "4. The body to be clear, concise and testable.\n",
    "5. Provide a rationale for the requirement.\n",
    "\"\"\"\n",
    "analyzer.follow_up_prompt(prompt)\n",
    "chatgpt_response = analyzer.get_response()\n",
    "\n"
   ]
  },
  {
   "cell_type": "code",
   "execution_count": 9,
   "id": "4abf65f3-5b49-48e8-bd9d-35b12ef31ba8",
   "metadata": {},
   "outputs": [
    {
     "data": {
      "text/markdown": [
       "**Your prompt:** \n",
       "Please create a set of 20 performance requirements for the Mountain Bike. \n",
       "Format the requirement in the following way:\n",
       "1. Each requirement will have a heading, body and rationale.\n",
       "2. The heading should be limited to 5 words.\n",
       "3. The body should be written as a shall statement.\n",
       "4. The body to be clear, concise and testable.\n",
       "5. Provide a rationale for the requirement.\n"
      ],
      "text/plain": [
       "<IPython.core.display.Markdown object>"
      ]
     },
     "metadata": {},
     "output_type": "display_data"
    },
    {
     "data": {
      "text/html": [
       "\n",
       "<!DOCTYPE html>\n",
       "\n",
       "<html>\n",
       "<head>\n",
       "<title>Mountain Bike Performance Requirements</title>\n",
       "\n",
       "</head>\n",
       "<body>\n",
       "<h2>Mountain Bike Performance Requirements</h2>\n",
       "<div class=\"requirement\">\n",
       "<h3>1. Top Speed Achievement</h3>\n",
       "<p><strong>Requirement:</strong> The mountain bike shall achieve a top speed of at least 35 km/h on flat terrain.</p>\n",
       "<p><strong>Rationale:</strong> Ensures competitiveness and performance in speed-focused scenarios.</p>\n",
       "</div>\n",
       "<div class=\"requirement\">\n",
       "<h3>2. Acceleration Capacity</h3>\n",
       "<p><strong>Requirement:</strong> The mountain bike shall reach 20 km/h from a standstill in under 5 seconds.</p>\n",
       "<p><strong>Rationale:</strong> Vital for quick starts and efficient energy use in racing or challenging trails.</p>\n",
       "</div>\n",
       "<div class=\"requirement\">\n",
       "<h3>3. Maximum Climb Angle</h3>\n",
       "<p><strong>Requirement:</strong> The bike shall efficiently climb slopes up to a 30-degree incline.</p>\n",
       "<p><strong>Rationale:</strong> Required for handling steep trails and maintaining momentum on climbs.</p>\n",
       "</div>\n",
       "<div class=\"requirement\">\n",
       "<h3>4. Minimum Stopping Distance</h3>\n",
       "<p><strong>Requirement:</strong> The bike shall stop within 5 meters from a speed of 25 km/h on dry terrain.</p>\n",
       "<p><strong>Rationale:</strong> Critical for rider safety, allowing for quick and controlled stopping.</p>\n",
       "</div>\n",
       "<div class=\"requirement\">\n",
       "<h3>5. Suspension Travel Range</h3>\n",
       "<p><strong>Requirement:</strong> The suspension shall have a travel of at least 150 mm on both front and rear.</p>\n",
       "<p><strong>Rationale:</strong> Provides shock absorption necessary for rough terrains and enhanced comfort.</p>\n",
       "</div>\n",
       "<div class=\"requirement\">\n",
       "<h3>6. Tire Pressure Retention</h3>\n",
       "<p><strong>Requirement:</strong> The tires shall maintain at least 90% of their pressure for 7 days without leakage.</p>\n",
       "<p><strong>Rationale:</strong> Reduces maintenance needs and ensures reliable performance over time.</p>\n",
       "</div>\n",
       "<div class=\"requirement\">\n",
       "<h3>7. Brake Response Time</h3>\n",
       "<p><strong>Requirement:</strong> The braking system shall engage fully within 0.3 seconds of activation.</p>\n",
       "<p><strong>Rationale:</strong> Essential for quick reaction times in emergencies and challenging downhills.</p>\n",
       "</div>\n",
       "<div class=\"requirement\">\n",
       "<h3>8. Gear Shifting Speed</h3>\n",
       "<p><strong>Requirement:</strong> The bike shall complete gear changes within 0.5 seconds under load.</p>\n",
       "<p><strong>Rationale:</strong> Ensures continuity in performance without disruptions during speed adjustments.</p>\n",
       "</div>\n",
       "<div class=\"requirement\">\n",
       "<h3>9. Water Resistance Level</h3>\n",
       "<p><strong>Requirement:</strong> The bike shall resist water ingress up to immersion depths of 1 meter.</p>\n",
       "<p><strong>Rationale:</strong> Maintains component integrity in wet environments or accidental submersions.</p>\n",
       "</div>\n",
       "<div class=\"requirement\">\n",
       "<h3>10. Weight Distribution Balance</h3>\n",
       "<p><strong>Requirement:</strong> The weight distribution shall not deviate more than 5% from front to rear.</p>\n",
       "<p><strong>Rationale:</strong> Ensures stable handling and balance across varied terrains.</p>\n",
       "</div>\n",
       "<div class=\"requirement\">\n",
       "<h3>11. Battery Life Duration</h3>\n",
       "<p><strong>Requirement:</strong> If equipped, the bike's electronics battery shall last a minimum of 8 hours of continuous use.</p>\n",
       "<p><strong>Rationale:</strong> Supports extended use on long rides or during competitions.</p>\n",
       "</div>\n",
       "<div class=\"requirement\">\n",
       "<h3>12. Noise Level Constraint</h3>\n",
       "<p><strong>Requirement:</strong> The operational noise of the bike shall not exceed 60 dB at speeds up to 25 km/h.</p>\n",
       "<p><strong>Rationale:</strong> Ensures a quiet ride, minimizing disturbances to nature or urban environments.</p>\n",
       "</div>\n",
       "<div class=\"requirement\">\n",
       "<h3>13. Corrosion Resistance</h3>\n",
       "<p><strong>Requirement:</strong> The bike components shall exhibit no visual corrosion after 48 hours of salt spray testing.</p>\n",
       "<p><strong>Rationale:</strong> Extends the life span of the bike in coastal or high-humidity areas.</p>\n",
       "</div>\n",
       "<div class=\"requirement\">\n",
       "<h3>14. Chain Lubrication Retention</h3>\n",
       "<p><strong>Requirement:</strong> The chain shall retain effective lubrication properties over 100 km of riding.</p>\n",
       "<p><strong>Rationale:</strong> Minimizes wear and ensures efficient power transfer with reduced maintenance.</p>\n",
       "</div>\n",
       "<div class=\"requirement\">\n",
       "<h3>15. Saddle Comfort Rating</h3>\n",
       "<p><strong>Requirement:</strong> The saddle shall achieve a comfort score of at least 8 out of 10 in user trials.</p>\n",
       "<p><strong>Rationale:</strong> Provides satisfactory comfort for prolonged riding sessions.</p>\n",
       "</div>\n",
       "<div class=\"requirement\">\n",
       "<h3>16. Frame Stress Tolerance</h3>\n",
       "<p><strong>Requirement:</strong> The frame shall endure stress tests without structural compromise up to 15,000 cycles.</p>\n",
       "<p><strong>Rationale:</strong> Ensures long-term durability of the bike under repeated use conditions.</p>\n",
       "</div>\n",
       "<div class=\"requirement\">\n",
       "<h3>17. Front Fork Durability</h3>\n",
       "<p><strong>Requirement:</strong> The front fork shall sustain impacts of at least 500 N without deformation.</p>\n",
       "<p><strong>Rationale:</strong> Critical for maintaining steering integrity and rider safety during obstacles.</p>\n",
       "</div>\n",
       "<div class=\"requirement\">\n",
       "<h3>18. Temperature Operating Range</h3>\n",
       "<p><strong>Requirement:</strong> The bike shall operate effectively within a temperature range of -20°C to 50°C.</p>\n",
       "<p><strong>Rationale:</strong> Ensures reliable use across diverse environmental conditions.</p>\n",
       "</div>\n",
       "<div class=\"requirement\">\n",
       "<h3>19. Pedal Efficiency Factor</h3>\n",
       "<p><strong>Requirement:</strong> The pedals shall achieve an efficiency factor of at least 0.85 in power tests.</p>\n",
       "<p><strong>Rationale:</strong> Maximizes rider energy utilization for optimal performance.</p>\n",
       "</div>\n",
       "<div class=\"requirement\">\n",
       "<h3>20. Flexibility for Customization</h3>\n",
       "<p><strong>Requirement:</strong> The bike shall allow customization without affecting core performance metrics.</p>\n",
       "<p><strong>Rationale:</strong> Provides users with personalization options, maintaining a high-performance baseline.</p>\n",
       "</div>\n",
       "</body>\n",
       "</html>\n"
      ],
      "text/plain": [
       "<IPython.core.display.HTML object>"
      ]
     },
     "metadata": {},
     "output_type": "display_data"
    }
   ],
   "source": [
    "prompt = \"\"\"\n",
    "Please create a set of 20 performance requirements for the Mountain Bike. \n",
    "Format the requirement in the following way:\n",
    "1. Each requirement will have a heading, body and rationale.\n",
    "2. The heading should be limited to 5 words.\n",
    "3. The body should be written as a shall statement.\n",
    "4. The body to be clear, concise and testable.\n",
    "5. Provide a rationale for the requirement.\n",
    "\"\"\"\n",
    "analyzer.follow_up_prompt(prompt)\n",
    "chatgpt_response = analyzer.get_response()\n",
    "\n"
   ]
  },
  {
   "cell_type": "code",
   "execution_count": 10,
   "id": "ca8d9c5e-e88e-4ba8-bbc7-f04a0afb245f",
   "metadata": {},
   "outputs": [
    {
     "data": {
      "text/markdown": [
       "**Your prompt:** \n",
       "Please create a set of 10 functional requirements for the Mountain Bike related functional chains. \n",
       "Format the requirement in the following way:\n",
       "1. Each requirement will have a heading and body.\n",
       "2. The heading should be limited to 5 words.\n",
       "3. The body should be written as a shall statement.\n",
       "4. The body to be clear, concise and testable.\n",
       "5. Reference the functional chain.\n"
      ],
      "text/plain": [
       "<IPython.core.display.Markdown object>"
      ]
     },
     "metadata": {},
     "output_type": "display_data"
    },
    {
     "data": {
      "text/html": [
       "\n",
       "<!DOCTYPE html>\n",
       "\n",
       "<html>\n",
       "<head>\n",
       "<title>Mountain Bike Functional Requirements</title>\n",
       "\n",
       "</head>\n",
       "<body>\n",
       "<h2>Mountain Bike Functional Requirements</h2>\n",
       "<div class=\"requirement\">\n",
       "<h3>1. Gear Shifting Functionality</h3>\n",
       "<p><strong>Requirement:</strong> The mountain bike shall enable seamless gear shifting to adapt to changing terrains, referencing the Shifting functional chain.</p>\n",
       "</div>\n",
       "<div class=\"requirement\">\n",
       "<h3>2. Rider Comfort Assurance</h3>\n",
       "<p><strong>Requirement:</strong> The bike shall provide continuous feedback on comfort settings to optimize user experience, as outlined in the Provide Comfort functional chain.</p>\n",
       "</div>\n",
       "<div class=\"requirement\">\n",
       "<h3>3. Efficient Propulsion Transfer</h3>\n",
       "<p><strong>Requirement:</strong> The drivetrain shall efficiently transfer pedaling force to the wheels for effective acceleration, referencing the Powering functional chain.</p>\n",
       "</div>\n",
       "<div class=\"requirement\">\n",
       "<h3>4. Responsive Steering Input</h3>\n",
       "<p><strong>Requirement:</strong> The steering system shall provide immediate response to rider input for precise control, as specified in the Steering functional chain.</p>\n",
       "</div>\n",
       "<div class=\"requirement\">\n",
       "<h3>5. Terrain Handling Adaptability</h3>\n",
       "<p><strong>Requirement:</strong> The suspension system shall adjust dynamically to uneven terrain surfaces, consistent with the Terrain Handling functional chain.</p>\n",
       "</div>\n",
       "<div class=\"requirement\">\n",
       "<h3>6. Effective Braking Integration</h3>\n",
       "<p><strong>Requirement:</strong> The braking system shall integrate with propulsion control to ensure safe stopping, as covered in the Stopping functional chain.</p>\n",
       "</div>\n",
       "<div class=\"requirement\">\n",
       "<h3>7. User Feedback Mechanism</h3>\n",
       "<p><strong>Requirement:</strong> The bike's cockpit shall display real-time gear and control feedback, following the Display Gear Selection functional chain.</p>\n",
       "</div>\n",
       "<div class=\"requirement\">\n",
       "<h3>8. Friction Management System</h3>\n",
       "<p><strong>Requirement:</strong> The tires shall maintain optimal friction with varied terrain to prevent slips, in line with the Provide Friction to Terrain functional chain.</p>\n",
       "</div>\n",
       "<div class=\"requirement\">\n",
       "<h3>9. Force Dampening Effectiveness</h3>\n",
       "<p><strong>Requirement:</strong> The frame shall dampen impact forces from rough terrains without compromising structural integrity, related to the Dampen Force from Wheels functional chain.</p>\n",
       "</div>\n",
       "<div class=\"requirement\">\n",
       "<h3>10. Configuration Flexibility</h3>\n",
       "<p><strong>Requirement:</strong> The bike's components shall be easily adjustable to suit various rider requirements, as defined in the Accept Adjustment for Terrain functional chain.</p>\n",
       "</div>\n",
       "</body>\n",
       "</html>\n"
      ],
      "text/plain": [
       "<IPython.core.display.HTML object>"
      ]
     },
     "metadata": {},
     "output_type": "display_data"
    }
   ],
   "source": [
    "prompt = \"\"\"\n",
    "Please create a set of 10 functional requirements for the Mountain Bike related functional chains. \n",
    "Format the requirement in the following way:\n",
    "1. Each requirement will have a heading and body.\n",
    "2. The heading should be limited to 5 words.\n",
    "3. The body should be written as a shall statement.\n",
    "4. The body to be clear, concise and testable.\n",
    "5. Reference the functional chain.\n",
    "\"\"\"\n",
    "analyzer.follow_up_prompt(prompt)\n",
    "chatgpt_response = analyzer.get_response()\n"
   ]
  },
  {
   "cell_type": "markdown",
   "id": "614ada9b-367c-4929-badf-e27c7170b825",
   "metadata": {},
   "source": [
    "## 💬 Launch Interactive Chat on Structured Input\n",
    "\n",
    "### Purpose\n",
    "This cell launches an interactive chat session based on the structured input file, leveraging ARCADIA and Polarion terminology to ensure the analysis remains consistent with the modeling context.\n",
    "\n",
    "### Key Features\n",
    "- Uses the generated structured input file (e.g., `capella_model.yaml`) to guide the conversation.\n",
    "- Supports ARCADIA terms such as **functions**, **components**, **activities**, and **exchanges**.\n",
    "- Incorporates Polarion terms like **workitem**, **requirement**, and **traceability** for seamless integration with requirements management workflows.\n",
    "\n",
    "### How It Works\n",
    "1. The structured input file provides context for the chat session.\n",
    "2. You can interactively query details about the model elements, relationships, and dependencies.\n",
    "3. Responses are tailored using ARCADIA and Polarion terminology.\n",
    "\n",
    "### Example Prompts\n",
    "- **For ARCADIA:**\n",
    "  ```plaintext\n",
    "  What are the dependencies and exchanges for the selected function in the Logical Architecture phase?\n",
    "\n",
    "- **For Polarion:**\n",
    "  ```plaintext\n",
    "  Provide the traceability matrix for the workitem linked to this component.\n",
    "  ```\n",
    "### 🛠️ Instructions\n",
    "1. Ensure the `capella_model.yaml` file has been generated and is up-to-date.\n",
    "2. Run this cell to start the interactive chat session.\n",
    "3. Enter your queries using **ARCADIA** or **Polarion** terms for accurate and relevant responses.\n",
    "\n",
    "### 📝 Notes\n",
    "- The interactive chat dynamically adapts to the content in the structured input file.\n",
    "- Use precise and contextual queries to ensure the best results and insights.\n",
    "\n",
    "> 💡 **Tip:** If you're unfamiliar with ARCADIA or Polarion terminology, consult the respective documentation or glossary for guidance.\n",
    "\n"
   ]
  },
  {
   "cell_type": "code",
   "execution_count": 11,
   "id": "ac1d370a-fcf4-4084-9064-f5e11a03a641",
   "metadata": {
    "jupyter": {
     "source_hidden": true
    }
   },
   "outputs": [
    {
     "name": "stdout",
     "output_type": "stream",
     "text": [
      "Starting interactive chat...\n"
     ]
    },
    {
     "data": {
      "application/vnd.jupyter.widget-view+json": {
       "model_id": "798cc2d80a8c43fd865faba025385d2b",
       "version_major": 2,
       "version_minor": 0
      },
      "text/plain": [
       "Output()"
      ]
     },
     "metadata": {},
     "output_type": "display_data"
    },
    {
     "data": {
      "application/vnd.jupyter.widget-view+json": {
       "model_id": "42a5b6d9c435426d978db8808c66dfd5",
       "version_major": 2,
       "version_minor": 0
      },
      "text/plain": [
       "Textarea(value='', layout=Layout(border_bottom='2px solid #4A90E2', border_left='2px solid #4A90E2', border_ri…"
      ]
     },
     "metadata": {},
     "output_type": "display_data"
    },
    {
     "data": {
      "application/vnd.jupyter.widget-view+json": {
       "model_id": "c6a06ca3907d4e0288ef8d453bcc8034",
       "version_major": 2,
       "version_minor": 0
      },
      "text/plain": [
       "HBox(children=(Button(button_style='primary', description='Execute', style=ButtonStyle()), Button(button_style…"
      ]
     },
     "metadata": {},
     "output_type": "display_data"
    },
    {
     "data": {
      "application/vnd.jupyter.widget-view+json": {
       "model_id": "5bff51cf009543ca92ee82aaa592905b",
       "version_major": 2,
       "version_minor": 0
      },
      "text/plain": [
       "Dropdown(description='Load file:', layout=Layout(width='auto'), options=('', 'embeddings.json', 'capella_model…"
      ]
     },
     "metadata": {},
     "output_type": "display_data"
    },
    {
     "name": "stdout",
     "output_type": "stream",
     "text": [
      "Waiting for chat interactions...\n"
     ]
    }
   ],
   "source": [
    "analyzer.interactive_chat()\n"
   ]
  },
  {
   "cell_type": "code",
   "execution_count": 12,
   "id": "57dea895-123c-4c7f-b386-89510fcfcd9d",
   "metadata": {
    "jupyter": {
     "source_hidden": true
    }
   },
   "outputs": [
    {
     "name": "stdout",
     "output_type": "stream",
     "text": [
      "Done\n"
     ]
    }
   ],
   "source": [
    "print(\"Done\")"
   ]
  },
  {
   "cell_type": "markdown",
   "id": "8fb2484d-c283-416d-b5ae-03289fc2a8a1",
   "metadata": {},
   "source": [
    "# "
   ]
  },
  {
   "cell_type": "code",
   "execution_count": null,
   "id": "a4c59542-ddf7-4047-9007-2613a7f96589",
   "metadata": {
    "collapsed": true,
    "jupyter": {
     "outputs_hidden": true,
     "source_hidden": true
    }
   },
   "outputs": [],
   "source": []
  },
  {
   "cell_type": "code",
   "execution_count": null,
   "id": "edddd2fe-aeef-43a8-94d2-4b7cac1ce700",
   "metadata": {
    "collapsed": true,
    "jupyter": {
     "outputs_hidden": true,
     "source_hidden": true
    }
   },
   "outputs": [],
   "source": []
  }
 ],
 "metadata": {
  "kernelspec": {
   "display_name": "Python 3 (ipykernel)",
   "language": "python",
   "name": "python3"
  },
  "language_info": {
   "codemirror_mode": {
    "name": "ipython",
    "version": 3
   },
   "file_extension": ".py",
   "mimetype": "text/x-python",
   "name": "python",
   "nbconvert_exporter": "python",
   "pygments_lexer": "ipython3",
   "version": "3.11.9"
  }
 },
 "nbformat": 4,
 "nbformat_minor": 5
}
