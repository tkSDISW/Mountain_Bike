{
 "cells": [
  {
   "cell_type": "markdown",
   "id": "2ef785c9-a1c0-4ad7-a185-02a1569ca072",
   "metadata": {},
   "source": [
    "# Model Based System Engineering Assistant: \n",
    "## Leveraging AI for System Engineering models \n",
    "\n",
    "Welcome to the **MBSE Assistant Notebook**, a powerful tool designed to augment your ability to review, comprehend, and enhance system models with AI-driven support. This notebook integrates a variety of capabilities to assist with:\n",
    "\n",
    "1. **Model Review and Comprehension**:\n",
    "   - Gain deeper insights into the structure and behavior of your system model.\n",
    "   - Use AI to clarify relationships, dependencies, and interactions within the model.\n",
    "\n",
    "2. **Impact Analysis**:\n",
    "   - Explore the potential effects of component failures on the system.\n",
    "   - Simulate scenarios to identify vulnerabilities and design improvements.\n",
    "\n",
    "3. **Simulation Generation**:\n",
    "   - Automatically generate simulations based on the model's architecture and behaviors.\n",
    "   - Use simulations for validation, testing, and demonstration purposes.\n",
    "\n",
    "4. **Failure Analysis**:\n",
    "   - Assess the system's resilience under various failure conditions.\n",
    "   - Extract meaningful insights to strengthen reliability and performance.\n",
    "\n",
    "5. **Content Extraction for Downstream Domains**:\n",
    "   - Convert model data into formats suitable for use in other engineering domains.\n",
    "   - Facilitate seamless collaboration across teams and tools.\n",
    "\n",
    "This notebook serves as a comprehensive platform to bridge the gap between system models and actionable insights, empowering architects to make informed decisions and design robust solutions. Whether you're investigating enhancements, running failure simulations, or preparing data for external domains, this assistant streamlines the process with AI-enhanced guidance.\n",
    "\n",
    "Feel free to explore and adapt the prompts and models to suit your specific use case. Let’s dive in and unlock the potential of your system model!\n"
   ]
  },
  {
   "cell_type": "markdown",
   "id": "b5acc178-1a94-4014-b1f7-13c97a9ba4ec",
   "metadata": {},
   "source": [
    "### Model-Specific Code (Do Not Modify)\n",
    "\n",
    "This section contains code that is specific to the system model. It is updated only when the model is changed and should not require user modifications under normal circumstances.\n",
    "\n",
    "If a new model is introduced, ensure this section is reviewed and updated as needed.\n"
   ]
  },
  {
   "cell_type": "code",
   "execution_count": 1,
   "id": "c7ba8743-5dac-41be-9083-d44aa0199411",
   "metadata": {
    "scrolled": true
   },
   "outputs": [
    {
     "name": "stdout",
     "output_type": "stream",
     "text": [
      "Warning: File '../Mountain Bike.traceability' does not exist.\n"
     ]
    }
   ],
   "source": [
    "#!pip install --upgrade git+https://github.com/tkSDISW/Capella_Tools \n",
    "import capellambse.decl\n",
    "\n",
    "from capella_tools import capellambse_helper\n",
    "\n",
    "from IPython import display as diag_display\n",
    "resources = {\n",
    "    \"Mountain_Bike\": \"Mountain_Bike/Mountain Bike\",\n",
    "    \"Bike BrakeSystem Library\": {\"path\" : \"/home/simcenter/studio/Bike_BrakeSystem_Library/Bike BrakeSystem Library\"}\n",
    "}\n",
    "path_to_model = \"../Mountain Bike.aird\"\n",
    "model = capellambse.MelodyModel(path_to_model, resources=resources)\n",
    "from capella_tools import Pub4C\n",
    "# Instantiate the class with the traceability file\n",
    "traceability_store = Pub4C.Traceability_Store(\"../Mountain Bike.traceability\")\n"
   ]
  },
  {
   "cell_type": "code",
   "execution_count": null,
   "id": "5f73131d-3ba3-4c6f-8418-378d418156a6",
   "metadata": {
    "collapsed": true,
    "jupyter": {
     "outputs_hidden": true
    }
   },
   "outputs": [],
   "source": []
  },
  {
   "cell_type": "markdown",
   "id": "98e07f65-caa7-4e20-9268-7c5df4783e36",
   "metadata": {},
   "source": [
    "## 🔄 Embedding Generation Process\n",
    "\n",
    "### Overview\n",
    "This section generates embeddings, which streamlines processing and analyzing the model. The embeddings provide a structured representation of the data that powers subsequent tasks and visualizations.\n",
    "\n",
    "### When is this step necessary?\n",
    "- **Initial Run:** If this notebook is being run for the first time, embeddings will need to be generated.\n",
    "- **Model Updates:** If the underlying model has been modified, regenerating embeddings ensures the data remains accurate and up-to-date.\n",
    "\n",
    "### Important Notes\n",
    "- **Duration:** This process may take **a minute or more** to complete, depending on the size and complexity of the model.\n",
    "- **Output:** Upon completion, embeddings will be ready for use in subsequent sections of the notebook.\n",
    "\n",
    "### Instructions\n",
    "1. Ensure the required model is loaded.\n",
    "2. Run the cell below to initiate the embedding generation process.\n",
    "3. Wait for the process to complete before proceeding.\n",
    "\n",
    "> 💡 **Tip:** You can monitor progress in the notebook's output cell. If any errors occur, check that the model is properly configured and accessible.\n",
    "\n",
    "---\n",
    "\n",
    "> ⚠️ **Warning:** Interrupting this step may result in incomplete or invalid embeddings. If interrupted, re-run the cell to restart the process.\n",
    "\n",
    "---\n",
    "\n",
    "Continue to the next cell to generate embeddings. 🚀\n"
   ]
  },
  {
   "cell_type": "code",
   "execution_count": 2,
   "id": "2c54cb77-76e8-4309-90e0-7da1d2a2d9f8",
   "metadata": {
    "jupyter": {
     "source_hidden": true
    }
   },
   "outputs": [
    {
     "name": "stdout",
     "output_type": "stream",
     "text": [
      "OpenAI API Key retrieved successfully.\n",
      "Loading embeddings\n",
      "embeddings loaded.\n"
     ]
    }
   ],
   "source": [
    "\n",
    "from capella_tools  import capella_embeddings_manager\n",
    "\n",
    "# Generate embeddings for all objects\n",
    "model_embedding_manager = capella_embeddings_manager.EmbeddingManager()\n",
    "\n",
    "embedding_file = \"embeddings.json\" \n",
    "model_embedding_manager.set_files( path_to_model , embedding_file)\n",
    "\n",
    "model_embedding_manager.create_model_embeddings(model)"
   ]
  },
  {
   "cell_type": "markdown",
   "id": "f671a45d-5335-463c-802a-156296f21ad4",
   "metadata": {},
   "source": [
    "## 🎯 Prompt for System Model Element Analysis\n",
    "\n",
    "### Purpose\n",
    "This cell accepts a prompt to identify and isolate the specific object(s) to be analyzed. Providing detailed and accurate information in the prompt will ensure the best performance during the analysis.\n",
    "\n",
    "### What to Include in Your Prompt\n",
    "For optimal results, specify the following details about the object(s):\n",
    "1. **Type of ARCADIA Object:** Clearly state the type of the object (e.g., Logical Component, Physical Component, Functional Exchange).\n",
    "2. **Name of the Object:** Provide the exact name of the object as defined in the model.\n",
    "3. **ARCADIA Phase:** Specify the phase associated with the object (e.g., Operational Analysis, System Analysis, Logical Architecture, Physical Architecture).\n",
    "4. **Related Objects:** Identify any objects connected via exchanges or dependencies.\n",
    "\n",
    "### Example Prompt\n",
    "Locate the Logical Component named Brake Pedal in the Logical phase and has a Driver supplying input.\n",
    "### ✅ Tips for Success\n",
    "- **Use precise terminology:** Ensure your prompt aligns with the model's structure and terminology.\n",
    "- **Include related objects:** Whenever possible, specify related objects to enhance context and improve analysis accuracy.\n",
    "- **Double-check details:** Verify object names and phases to ensure they match the model exactly.\n",
    "'''\n",
    "\n",
    "### 🚀 Next Steps\n",
    "1. Run the cell below.\n",
    "2. Enter your prompt, providing the necessary details as outlined above.\n",
    "3. Wait for the analysis to complete.\n",
    "4. Select the best index or indexes for analysis. (The last selection will drive selection of a prompt.)\n",
    "\n",
    "> 💡 **Tip:** If you're unsure about the model structure, review the documentation or refer to the model's diagrams for additional guidance.\n"
   ]
  },
  {
   "cell_type": "code",
   "execution_count": 3,
   "id": "31298768-f6da-4f27-9c76-50d02b7a0fe7",
   "metadata": {},
   "outputs": [
    {
     "name": "stdout",
     "output_type": "stream",
     "text": [
      "\n",
      "This is a list of ranked Objects Based on Query:\n",
      "Index: 0, Name: [LAB] Mountain Bike All (Messy), Similarity: 0.87, Type: Diagram, Phase: Logical Architecture LA, Source: , Target: \n"
     ]
    }
   ],
   "source": [
    "\n",
    "selected_objects = model_embedding_manager.query_and_select_top_objects(\"[LAB] Mountain Bike All diagram\", top_n=1)\n"
   ]
  },
  {
   "cell_type": "markdown",
   "id": "2dd4a6ad-39a9-4bc3-ae26-5d97c5fe394b",
   "metadata": {},
   "source": [
    "\n",
    "\n",
    "\n",
    "\n",
    "## 📝 Generate Structured Input File \n",
    "\n",
    "### Purpose\n",
    "This cell generates a structured structured input file, `capella_model.yaml`, which serves as input for prompts tailored to the object type of the last selected item. This ensures that the prompt aligns with the model's structure and provides accurate context for analysis.\n",
    "\n",
    "### What This Cell Does\n",
    "- Extracts data related to the elements selected.\n",
    "- Structures the data into a YAML format.\n",
    "- Saves the YAML file as `capella_model.yaml` for further use.\n",
    "\n",
    "### Key Features\n",
    "- The YAML file includes:\n",
    "  - **Object Type:** The type of the element.\n",
    "  - **Object Details:** Attributes, relationships, and associated exchanges.\n",
    "  - **Structured Input:** Designed to enhance prompt accuracy and model analysis.\n",
    "\n",
    "### Instructions\n",
    "1. Run this cell to create the `capella_model.yaml` file.\n",
    "2. Ensure the last selected item is correctly identified to avoid mismatched data.\n",
    "3. Use the generated YAML file as structured input for tailored prompts in subsequent steps.\n",
    "\n",
    "### Notes\n",
    "- The file will be saved in the current working directory.\n",
    "- If the selected object changes, re-run this cell to update the YAML file.\n",
    "\n",
    "> 💡 **Tip:** Review the contents of `capella_model.yaml` if needed to ensure accuracy and completeness.\n"
   ]
  },
  {
   "cell_type": "code",
   "execution_count": 4,
   "id": "4db8d5ea-0e49-4098-aedc-0914d956f286",
   "metadata": {},
   "outputs": [],
   "source": [
    "#Workflow\n",
    "from capella_tools import capellambse_yaml_manager\n",
    "yaml_handler = capellambse_yaml_manager.CapellaYAMLHandler()\n",
    "   \n",
    "#Generate YAML for the logical component and append to the file\n",
    "for object in  selected_objects : \n",
    "\n",
    "    yaml_handler.generate_yaml(model.by_uuid(object[\"uuid\"]))  \n",
    "\n",
    "\n",
    "\n",
    "yaml_handler.generate_traceability_related_objects(model,traceability_store)\n",
    "\n",
    "#yaml_handler.display()\n",
    "yaml_handler.generate_yaml_referenced_objects()\n",
    "#yaml_handler.display()\n",
    "\n",
    "yaml_handler.write_output_file()\n"
   ]
  },
  {
   "cell_type": "markdown",
   "id": "1113cb97-36e1-46b4-aec7-9713aea09a64",
   "metadata": {},
   "source": [
    "## 🖼️ Generate Contextual Diagram\n",
    "\n",
    "### Purpose\n",
    "This cell generates a **contextual diagram** for the selected object. The diagram visually represents the object's relationships and interactions, providing a clear and comprehensive view of its context within the model.\n",
    "\n",
    "### Supported Object Types\n",
    "This functionality works the following ARCADIA elements, including:\n",
    "- **Functions**\n",
    "- **Activities**\n",
    "- **Components**\n",
    "- **Entities**\n",
    "- **Exchanges and Interactions**\n",
    "- **Physical Links**\n",
    "\n",
    "### What This Cell Does\n",
    "- Identifies the selected object.\n",
    "- Extracts relevant relationships, exchanges, and dependencies.\n",
    "- Creates a contextual diagram based on the object's type and its connections.\n",
    "\n",
    "### Instructions\n",
    "1. Ensure the object is correctly selected in the previous step.\n",
    "2. Run this cell to generate the contextual diagram.\n",
    "3. Review the output to verify accuracy and completeness.\n",
    "\n",
    "### Key Benefits\n",
    "- **Clarity:** Visualizes how the selected object interacts with other model elements.\n",
    "- **Versatility:** Works seamlessly across ARCADIA functions, activities, components, and entities.\n",
    "- **Actionable Insight:** Helps identify key dependencies and relationships for analysis.\n",
    "\n",
    "### Notes\n",
    "- The diagram will be displayed below upon completion.\n",
    "- If the selected object changes, re-run this cell to update the contextual\n"
   ]
  },
  {
   "cell_type": "code",
   "execution_count": 5,
   "id": "6679d117-2c29-4dc1-9eac-b14e602b1cee",
   "metadata": {},
   "outputs": [],
   "source": [
    "for object in  selected_objects : \n",
    "    #print(object)\n",
    "    if object[\"type\"] == \"Diagram\" :\n",
    "        diagram = model.by_uuid(object[\"uuid\"])\n",
    "        #display(diagram)\n",
    "    else:\n",
    "        obj =  model.by_uuid(object[\"uuid\"])\n",
    "        capellambse_helper.display_context_diagram(obj)"
   ]
  },
  {
   "cell_type": "markdown",
   "id": "a1ed6cc0-6c32-4f80-8a39-1dccfaca5eb5",
   "metadata": {},
   "source": [
    "## 💬 Predefined Prompts for Analysis\n",
    "\n",
    "### Purpose\n",
    "This cell contains predefined prompts for analyzing different types of ARCADIA elements, including components, functions, operational processes, and a default prompt. You can use these as-is or tailor them to suit your specific needs.\n",
    "\n",
    "\n",
    "### Instructions\n",
    "1. The appropriate prompt will be used for your analysis needs.\n",
    "2. Modify the prompt to include additional details or requirements, if necessary.\n",
    "\n",
    "### Notes\n",
    "- Predefined prompts are designed to guide analysis and ensure consistency.\n",
    "- Tailoring the prompts allows you to focus on specific aspects of the model relevant to your use case.\n",
    "\n",
    "> 💡 **Tip:** Save your tailored prompts for reuse in similar analyses or workflows.\n"
   ]
  },
  {
   "cell_type": "code",
   "execution_count": 6,
   "id": "24590371-907b-4e64-898f-99c5e9499460",
   "metadata": {},
   "outputs": [],
   "source": [
    "component_prompt = \"\"\"\n",
    "Please analyze the yaml file and display the result as .html and specifically provide insights on:\n",
    "1. The purpose of the component.\n",
    "2. Any components that make it up.\n",
    "3. A list of allocated functions and their potential roles.\n",
    "4. How the ports relate to the functions.\n",
    "5. Any traceabilty artifacts linked to the component and the artifacts url.\n",
    "6. Suggestions for improving the component description.\n",
    "7. Create a tabular table with columns for the component and its ports and the port interfaces, the interface souce and the interface target.\n",
    "8. List any property values and the related model element.\n",
    "9. A summary of any related state machines.\n",
    "\"\"\"\n",
    "function_prompt = \"\"\"\n",
    "Please analyze the yaml file and display the result as .html specifically provide insights on:\n",
    "1. The purpose of the function.\n",
    "2. Its owning component.\n",
    "4. Any ports relate to the functions.\n",
    "5. Any traceabilty artifacts linked to the component and the artifacts url.\n",
    "6. Suggestions for improving the function description.\n",
    "7. Create a tabular table with columns for the owning component, this function, its ports and the functional exchanges.\n",
    "\"\"\"\n",
    "activity_prompt = \"\"\"\n",
    "Please analyze the yaml file and display the result as .html specifically provide insights on:\n",
    "1. The purpose of the activity.\n",
    "2. Its actor or entiry.\n",
    "4. Any traceabilty artifacts linked to the component and the artifacts url.\n",
    "7. Suggestions for improving the activity description.\n",
    "7. Create a tabular table with columns for the owning entity or actor, this activity, its exchanges.\n",
    "\"\"\"\n",
    "functional_chain_prompt = \"\"\"\n",
    "Please analyze the YAML file and display the result as .html specifically provide insights on:\n",
    "1. The purpose of the functional chain.\n",
    "2. A table with first column being the owning component, the second being a function, last column being involved functional exchange, organized by involved functional exchanges.\n",
    "3. Any traceabilty artifacts linked to functional chain, functions, owning component and the traceability artifacts url.\n",
    "4. List any property values and the related model element.\n",
    "Please format the analysis in .html suitable for Juypter Notbook display operation.\n",
    "\"\"\"\n",
    "operational_process_prompt = \"\"\"\n",
    "Please analyze the YAML file and display the result as .html specifically provide insights on:\n",
    "1. The purpose of the operation process.\n",
    "2. A table with first column being the owning component, the second being a activities, last column being involved activity exchange, organized by involved activity exchanges.\n",
    "3. Any traceabilty artifacts linked to the operational process chain, activities, owning component and the traceability artifacts url.\n",
    "4. List any property values and the related model element.\n",
    "Please format the analysis in .html suitable for Juypter Notbook display operation.\n",
    "\"\"\"\n",
    "diagram_prompt = \"\"\"\n",
    "Please analyze the YAML file and display the result as .html specifically provide insights on:\n",
    "1. The purpose of the diagram based on its related nodes.\n",
    "2. Describe what the nodes represent in the ARCADIA method and what the diagram is describing.\n",
    "Please format the analysis in .html suitable for Juypter Notbook display operation.\n",
    "\"\"\"\n",
    "default_prompt = \"\"\"\n",
    "Please analyze the YAML file and display the result as .html specifically provide insights on:\n",
    "1. The purpose of the primary component listed first in the yaml file.=.\n",
    "2. List any property values and the related model element.\n",
    "Please format the analysis in .html suitable for Juypter Notbook display operation.\n",
    "\"\"\"\n",
    "\n"
   ]
  },
  {
   "cell_type": "markdown",
   "id": "4a3e82f3-a07b-404e-a230-7ebcf690e3e4",
   "metadata": {},
   "source": [
    "## ⚙️ Execute Default Prompts\n",
    "\n",
    "### Purpose\n",
    "This cell executes the **default prompts** defined for analyzing the model. These prompts are designed to provide general insights and overviews when specific object types or contexts are not explicitly defined.\n",
    "\n",
    "### What This Cell Does\n",
    "- Reads the structured input file (e.g., `capella_model.yaml`).\n",
    "- Uses the default prompts to query key details about the selected object(s).\n",
    "- Outputs the results directly in the notebook.\n",
    "\n",
    "### 🛠️ Instructions\n",
    "1. Ensure the `capella_model.yaml` file is generated and up-to-date.\n",
    "2. Run this cell to execute the default prompts.\n",
    "3. Review the output to verify the accuracy and relevance of the analysis.\n",
    "\n",
    "### 📝 Notes\n",
    "- The default prompts are **general-purpose** and may not capture all details specific to certain object types.\n",
    "- For more tailored analysis, consider using prompts designed for specific ARCADIA elements.\n",
    "\n",
    "> 💡 **Tip:** Use the default prompts as a starting point, then refine or modify them based on your analysis needs.\n"
   ]
  },
  {
   "cell_type": "code",
   "execution_count": 7,
   "id": "8cf53953-bfae-4677-9f45-906e72aa93e1",
   "metadata": {},
   "outputs": [
    {
     "name": "stdout",
     "output_type": "stream",
     "text": [
      "Warning: When  cdn_resources is 'local' jupyter notebook has issues displaying graphics on chrome/safari. Use cdn_resources='in_line' or cdn_resources='remote' if you have issues viewing graphics in a notebook.\n",
      "Chat session ended. Moving to the next cell.\n"
     ]
    },
    {
     "data": {
      "text/markdown": [
       "# The architecture is analyzed by ChatGPT with following prompt.\n",
       " \n",
       "Please analyze the YAML file and display the result as .html specifically provide insights on:\n",
       "1. The purpose of the diagram based on its related nodes.\n",
       "2. Describe what the nodes represent in the ARCADIA method and what the diagram is describing.\n",
       "Please format the analysis in .html suitable for Juypter Notbook display operation.\n",
       "\n"
      ],
      "text/plain": [
       "<IPython.core.display.Markdown object>"
      ]
     },
     "metadata": {},
     "output_type": "display_data"
    },
    {
     "name": "stdout",
     "output_type": "stream",
     "text": [
      "OpenAI API Key retrieved successfully.\n"
     ]
    },
    {
     "data": {
      "text/markdown": [
       "\n",
       "\n",
       "**ChatGPT Analysis:**\n"
      ],
      "text/plain": [
       "<IPython.core.display.Markdown object>"
      ]
     },
     "metadata": {},
     "output_type": "display_data"
    },
    {
     "data": {
      "text/html": [
       "```html\n",
       "<!DOCTYPE html>\n",
       "\n",
       "<html lang=\"en\">\n",
       "<head>\n",
       "<meta charset=\"utf-8\"/>\n",
       "<meta content=\"width=device-width, initial-scale=1.0\" name=\"viewport\"/>\n",
       "<title>YAML File Analysis</title>\n",
       "\n",
       "</head>\n",
       "<body>\n",
       "<h2>Analysis of the YAML File for System Model Relationships</h2>\n",
       "<h3>1. Purpose of the Diagram</h3>\n",
       "<p>The diagram named \"[LAB] Mountain Bike All (Messy)\" is intended to represent a comprehensive system model of a mountain bike and its interaction with various components and terrains. The purpose of this diagram is to capture an intricate and detailed depiction of how the mountain biking system operates, incorporating multiple logical functions, parts, and exchanges that are interrelated to describe the behavior and interactions within the system.</p>\n",
       "<p>By analyzing its related nodes and components, this diagram serves to demonstrate a robust and systematic design model representing real-world interactions and functionalities in mountain biking. This includes capturing aspects like force transmission, terrain interaction, braking, comfort provisions, and more, which are vital for understanding and improving mountain biking dynamics.</p>\n",
       "<h3>2. Nodes Representation in ARCADIA Method</h3>\n",
       "<p>In the ARCADIA (Architecture Analysis &amp; Design Integrated Approach) method, the diagram utilizes several key concepts that include:</p>\n",
       "<ul>\n",
       "<li><strong>Logical Functions:</strong> Such nodes as \"Transfer Force from rider to wheel,\" \"Provide Comfort,\" and \"Convert Pedal Force to Wheels\" represent the functional aspects of the mountain bike system. They illustrate how different actions and processes are executed in the system.</li>\n",
       "<li><strong>Functional Exchanges:</strong> Nodes like \"FunctionalExchange 1\" and \"Gear Selection\" denote exchanges between functions, showcasing the flow of information or energy between different parts of the system.</li>\n",
       "<li><strong>Parts:</strong> Components such as \"Mountain Bike,\" \"Wheels and Tires,\" and \"Drive Train\" represent the physical elements of the mountain bike. In ARCADIA, these elements are critical as they provide context for how systemic functions are carried out in the physical domain.</li>\n",
       "<li><strong>Logical Components:</strong> Nodes representing larger subsystems or logical groupings of parts and functions, such as \"Mountain Trails\" and \"Mountain Bike,\" encapsulate complete sets of interactions and allocations which are, in essence, blueprints for how the system functions together holistically.</li>\n",
       "<li><strong>Constraints:</strong> Though sparse in this YAML file, constraints provide restrictions or conditions within which the system operates.</li>\n",
       "</ul>\n",
       "<h3>3. Diagram's Description</h3>\n",
       "<p>The diagram systematically models the interaction of forces and control elements as a mountain biker traverses various terrains. It captures essential operations of a mountain bike, from receiving inputs like pedal force or steering adjustments to managing outputs such as speed and friction control. The ARCADIA method effectively breaks down complex components and functions into manageable and analyzable interactions, revealing potential areas for design improvement or optimization in bike performance over different types of trails.</p>\n",
       "<p>Overall, this diagram within the context of ARCADIA method provides a structured insight to architects, engineers, and designers aiming to optimize the design for enhanced performance and rider control.</p>\n",
       "</body>\n",
       "</html>\n",
       "```"
      ],
      "text/plain": [
       "<IPython.core.display.HTML object>"
      ]
     },
     "metadata": {},
     "output_type": "display_data"
    }
   ],
   "source": [
    "import os\n",
    "from openai import OpenAI\n",
    "from IPython.core.display import HTML\n",
    "from IPython.display import display, clear_output, Markdown\n",
    "#from capella_tools  import Open_AI_RAG_manager\n",
    "\n",
    "from capella_tools import Open_AI_RAG_manager\n",
    "#print(object)\n",
    "if object[\"type\"] ==  \"LogicalComponent\" or object[\"type\"] ==  \"SystemComponent\" or object[\"type\"] ==  \"PhysicalComponent-BEHAVIOR\"  or object[\"type\"] ==  \"PhysicalComponent-NODE\" :\n",
    "    prompt = component_prompt\n",
    "elif object[\"type\"] ==  \"FunctionalChain\" :  \n",
    "    prompt = functional_chain_prompt\n",
    "elif object[\"type\"] ==  \"OperationalProcess\":  \n",
    "    prompt = functional_chain_prompt\n",
    "elif object[\"type\"] ==  \"SystemFuntion\" or object[\"type\"] ==  \"LogicalFunction\" or object[\"type\"] ==  \"PhysicalFunction\":\n",
    "    prompt = function_prompt\n",
    "elif object[\"type\"] ==  \"OperationalActivity\" : \n",
    "    prompt = activity_prompt\n",
    "elif object[\"type\"] ==  \"Diagram\" : \n",
    "    prompt = diagram_prompt\n",
    "else :\n",
    "    prompt = default_prompt    \n",
    "# Display Prompt\n",
    "display(Markdown(f\"# The architecture is analyzed by ChatGPT with following prompt.\\n {prompt}\\n\"))\n",
    "\n",
    "# Step 1: Get YAML content\n",
    "yaml_content = yaml_handler.get_yaml_content()\n",
    "\n",
    "# Step 2: Invoke ChatGPT for analysis\n",
    "analyzer = Open_AI_RAG_manager.ChatGPTAnalyzer(yaml_content)\n",
    "analyzer.initial_prompt(prompt)\n",
    "chatgpt_response = analyzer.get_response()\n",
    "\n",
    "# Step 3: Display the response in the notebook\n",
    "#print(\"ChatGPT Analysis:\\n\")\n",
    "display(Markdown(f\"\\n\\n**ChatGPT Analysis:**\\n\"))\n",
    "#print(chatgpt_response)\n",
    "display(HTML(chatgpt_response))"
   ]
  },
  {
   "cell_type": "markdown",
   "id": "0ab07e0f-6cdb-4b16-9c5b-0acd3e7944cd",
   "metadata": {},
   "source": [
    "## ⚙️ Execute Followup Prompts\n",
    "\n",
    "### Purpose\n",
    "This cell executes the **follow up prompts** defined for analyzing the model. These prompts can be added by the note book user in addition to the default prompts\n",
    "\n",
    "### What This Cell Does\n",
    "- Use the structured input file (e.g., `capella_model.yaml`).\n",
    "- Excutes the prompt defined in the cell.\n",
    "- Outputs the results directly in the notebook.\n",
    "\n",
    "### 🛠️ Instructions\n",
    "1. Ensure the `capella_model.yaml` file is generated and up-to-date.\n",
    "2. Run this cell to execute the default prompts.\n",
    "3. Review the output to verify the accuracy and relevance of the analysis.\n",
    "\n",
    "> 💡 **Tip:** Modify the promt to your needs."
   ]
  },
  {
   "cell_type": "code",
   "execution_count": 8,
   "id": "fab94bcf-5ea3-4d7d-89e8-508dcd603d71",
   "metadata": {},
   "outputs": [
    {
     "data": {
      "text/markdown": [
       "\n",
       "\n",
       "**ChatGPT Analysis:**\n"
      ],
      "text/plain": [
       "<IPython.core.display.Markdown object>"
      ]
     },
     "metadata": {},
     "output_type": "display_data"
    },
    {
     "data": {
      "text/html": [
       "```html\n",
       "<!DOCTYPE html>\n",
       "\n",
       "<html lang=\"en\">\n",
       "<head>\n",
       "<meta charset=\"utf-8\"/>\n",
       "<meta content=\"width=device-width, initial-scale=1.0\" name=\"viewport\"/>\n",
       "<title>Mountain Bike User Requirements</title>\n",
       "\n",
       "</head>\n",
       "<body>\n",
       "<h2>Mountain Bike User Requirements</h2>\n",
       "<div class=\"requirement\">\n",
       "<h3>1. Lightweight Frame</h3>\n",
       "<p><strong>Body:</strong> The mountain bike shall have a frame weight not exceeding 2 kg.</p>\n",
       "<p><strong>Rationale:</strong> A lightweight frame enhances agility and control, making the bike easier to handle on diverse terrains, which is crucial for mountain biking.</p>\n",
       "</div>\n",
       "<div class=\"requirement\">\n",
       "<h3>2. Durable Suspension System</h3>\n",
       "<p><strong>Body:</strong> The suspension system shall withstand impacts up to 5000 N.</p>\n",
       "<p><strong>Rationale:</strong> Mountain biking involves rough terrains; a durable suspension ensures rider comfort and prolongs the bike's lifespan.</p>\n",
       "</div>\n",
       "<div class=\"requirement\">\n",
       "<h3>3. Efficient Braking System</h3>\n",
       "<p><strong>Body:</strong> The bike shall stop within 3 meters from a speed of 20 km/h.</p>\n",
       "<p><strong>Rationale:</strong> Ensures rider safety by providing effective stopping power under different conditions.</p>\n",
       "</div>\n",
       "<div class=\"requirement\">\n",
       "<h3>4. Adjustable Handlebar Position</h3>\n",
       "<p><strong>Body:</strong> The handlebar position shall be adjustable by 10 cm vertically.</p>\n",
       "<p><strong>Rationale:</strong> Customizing the handlebar position improves ergonomics and rider comfort.</p>\n",
       "</div>\n",
       "<div class=\"requirement\">\n",
       "<h3>5. Smooth Gear Transition</h3>\n",
       "<p><strong>Body:</strong> The gear system shall transition between gears within 1 second.</p>\n",
       "<p><strong>Rationale:</strong> Quick gear transitions enhance performance and rider control on varying inclines.</p>\n",
       "</div>\n",
       "<div class=\"requirement\">\n",
       "<h3>6. Enhanced Terrain Traction</h3>\n",
       "<p><strong>Body:</strong> The tires shall provide consistent traction on slopes up to 30 degrees.</p>\n",
       "<p><strong>Rationale:</strong> Reliable traction is essential for safety and maneuverability on steep and slippery trails.</p>\n",
       "</div>\n",
       "<div class=\"requirement\">\n",
       "<h3>7. Waterproof Components</h3>\n",
       "<p><strong>Body:</strong> All electronic components of the bike shall withstand immersion in water up to 0.5 meters for 30 minutes.</p>\n",
       "<p><strong>Rationale:</strong> Waterproof components ensure functionality in wet conditions, increasing reliability.</p>\n",
       "</div>\n",
       "<div class=\"requirement\">\n",
       "<h3>8. Comfortable Seat Design</h3>\n",
       "<p><strong>Body:</strong> The bike seat shall maintain comfort levels based on user feedback over a duration of 3 hours.</p>\n",
       "<p><strong>Rationale:</strong> A comfortable seat encourages longer rides and reduces rider fatigue.</p>\n",
       "</div>\n",
       "<div class=\"requirement\">\n",
       "<h3>9. Effective Shock Absorption</h3>\n",
       "<p><strong>Body:</strong> The frame shall reduce vibration transfer to the rider by 50% compared to standard frames.</p>\n",
       "<p><strong>Rationale:</strong> Shock absorption protects the rider from impacts, enhancing comfort and control.</p>\n",
       "</div>\n",
       "<div class=\"requirement\">\n",
       "<h3>10. Visibility in Low Light</h3>\n",
       "<p><strong>Body:</strong> The bike shall be equipped with lights visible from 50 meters in low-light conditions.</p>\n",
       "<p><strong>Rationale:</strong> Visibility is crucial for rider safety and navigating trails during dawn or dusk.</p>\n",
       "</div>\n",
       "<div class=\"requirement\">\n",
       "<h3>11. Quick Tire Replacement</h3>\n",
       "<p><strong>Body:</strong> The design shall allow for tire replacement without tools in under 2 minutes.</p>\n",
       "<p><strong>Rationale:</strong> Quick tire changes minimize downtime during rides, especially in remote areas.</p>\n",
       "</div>\n",
       "<div class=\"requirement\">\n",
       "<h3>12. Secure Gear Storage</h3>\n",
       "<p><strong>Body:</strong> The bike shall feature a storage compartment with a capacity of 5 liters.</p>\n",
       "<p><strong>Rationale:</strong> Provides convenient storage for personal items or biking gear.</p>\n",
       "</div>\n",
       "<div class=\"requirement\">\n",
       "<h3>13. Efficient Power Transfer</h3>\n",
       "<p><strong>Body:</strong> The drivetrain shall ensure a power transfer efficiency of at least 95%.</p>\n",
       "<p><strong>Rationale:</strong> High efficiency in power transfer maximizes rider effort and performance.</p>\n",
       "</div>\n",
       "<div class=\"requirement\">\n",
       "<h3>14. Robust Frame Materials</h3>\n",
       "<p><strong>Body:</strong> The frame shall endure tensile forces of up to 10000 N without deformation.</p>\n",
       "<p><strong>Rationale:</strong> Ensures the bike can handle extreme terrain without structural failure.</p>\n",
       "</div>\n",
       "<div class=\"requirement\">\n",
       "<h3>15. Noise Reduction Features</h3>\n",
       "<p><strong>Body:</strong> Noise levels from components shall not exceed 50 dB at 20 km/h.</p>\n",
       "<p><strong>Rationale:</strong> Reducing noise improves rider comfort and awareness of the environment.</p>\n",
       "</div>\n",
       "<div class=\"requirement\">\n",
       "<h3>16. Efficient Heat Dissipation</h3>\n",
       "<p><strong>Body:</strong> The braking system temperature shall not exceed 100°C during continuous use.</p>\n",
       "<p><strong>Rationale:</strong> Efficient heat management prevents brake failure and ensures consistent performance.</p>\n",
       "</div>\n",
       "<div class=\"requirement\">\n",
       "<h3>17. Eco-Friendly Materials</h3>\n",
       "<p><strong>Body:</strong> At least 50% of the bike materials shall be recyclable.</p>\n",
       "<p><strong>Rationale:</strong> Encourages sustainable production and minimizes environmental impact.</p>\n",
       "</div>\n",
       "<div class=\"requirement\">\n",
       "<h3>18. Easy Maintenance Access</h3>\n",
       "<p><strong>Body:</strong> All critical components shall be easily accessible for maintenance without specialized tools.</p>\n",
       "<p><strong>Rationale:</strong> Simplifying bike maintenance ensures longevity and encourages proper upkeep.</p>\n",
       "</div>\n",
       "<div class=\"requirement\">\n",
       "<h3>19. Reliable Tire Pressure System</h3>\n",
       "<p><strong>Body:</strong> The bike shall include a built-in tire pressure monitoring system alerting below 30 PSI.</p>\n",
       "<p><strong>Rationale:</strong> Ensures the rider maintains optimal tire pressure for safety and performance.</p>\n",
       "</div>\n",
       "<div class=\"requirement\">\n",
       "<h3>20. User-Friendly Control Interface</h3>\n",
       "<p><strong>Body:</strong> The bike shall feature an intuitive control interface for adjusting settings.</p>\n",
       "<p><strong>Rationale:</strong> Ease of use for the control interface enhances the riding experience and safety.</p>\n",
       "</div>\n",
       "</body>\n",
       "</html>\n",
       "```"
      ],
      "text/plain": [
       "<IPython.core.display.HTML object>"
      ]
     },
     "metadata": {},
     "output_type": "display_data"
    }
   ],
   "source": [
    "prompt = \"\"\"\n",
    "Please create a set of 20 user requirements for the Mountain Bike based on \n",
    "Format the requirement in the following way:\n",
    "1. Each requirement will have a heading, body and rationale.\n",
    "2. The heading should be limited to 5 words.\n",
    "3. The body should be written as a shall statement.\n",
    "4. The body to be clear, concise and testable.\n",
    "5. Provide a rationale for the requirement.\n",
    "\"\"\"\n",
    "analyzer.follow_up_prompt(prompt)\n",
    "chatgpt_response = analyzer.get_response()\n",
    "\n",
    "# Step 3: Display the response in the notebook\n",
    "#print(\"ChatGPT Analysis:\\n\")\n",
    "display(Markdown(f\"\\n\\n**ChatGPT Analysis:**\\n\"))\n",
    "#print(chatgpt_response)\n",
    "display(HTML(chatgpt_response))"
   ]
  },
  {
   "cell_type": "code",
   "execution_count": 9,
   "id": "4abf65f3-5b49-48e8-bd9d-35b12ef31ba8",
   "metadata": {},
   "outputs": [
    {
     "data": {
      "text/markdown": [
       "\n",
       "\n",
       "**ChatGPT Analysis:**\n"
      ],
      "text/plain": [
       "<IPython.core.display.Markdown object>"
      ]
     },
     "metadata": {},
     "output_type": "display_data"
    },
    {
     "data": {
      "text/html": [
       "```html\n",
       "<!DOCTYPE html>\n",
       "\n",
       "<html lang=\"en\">\n",
       "<head>\n",
       "<meta charset=\"utf-8\"/>\n",
       "<meta content=\"width=device-width, initial-scale=1.0\" name=\"viewport\"/>\n",
       "<title>Mountain Bike Performance Requirements</title>\n",
       "\n",
       "</head>\n",
       "<body>\n",
       "<h2>Mountain Bike Performance Requirements</h2>\n",
       "<div class=\"requirement\">\n",
       "<h3>1. Maximum Speed Capability</h3>\n",
       "<p><strong>Body:</strong> The mountain bike shall achieve a maximum speed of at least 40 km/h.</p>\n",
       "<p><strong>Rationale:</strong> Ensuring high-speed capabilities enhances competitive performance and rider satisfaction.</p>\n",
       "</div>\n",
       "<div class=\"requirement\">\n",
       "<h3>2. Optimal Climbing Efficiency</h3>\n",
       "<p><strong>Body:</strong> The bike shall climb gradients of 15% or more with minimal effort.</p>\n",
       "<p><strong>Rationale:</strong> Efficient climbing is crucial for mountain terrain and trails with steep ascents.</p>\n",
       "</div>\n",
       "<div class=\"requirement\">\n",
       "<h3>3. Battery Life for Electronics</h3>\n",
       "<p><strong>Body:</strong> The bike's electronic components shall have a battery life of no less than 5 hours of continuous use.</p>\n",
       "<p><strong>Rationale:</strong> Adequate battery life ensures functionality without interruption during long rides.</p>\n",
       "</div>\n",
       "<div class=\"requirement\">\n",
       "<h3>4. Brake Responsiveness</h3>\n",
       "<p><strong>Body:</strong> The braking system shall respond within 0.2 seconds of activation.</p>\n",
       "<p><strong>Rationale:</strong> Quick brake response is vital for rider safety and effective control on mountain trails.</p>\n",
       "</div>\n",
       "<div class=\"requirement\">\n",
       "<h3>5. Handling in Wet Conditions</h3>\n",
       "<p><strong>Body:</strong> The bike shall maintain traction and stability on wet surfaces at speeds of up to 25 km/h.</p>\n",
       "<p><strong>Rationale:</strong> Handling in wet conditions is essential for safety and provides confidence to the rider.</p>\n",
       "</div>\n",
       "<div class=\"requirement\">\n",
       "<h3>6. Weight Distribution Optimization</h3>\n",
       "<p><strong>Body:</strong> The bike shall maintain a balanced weight distribution to ensure stability during jumps or drops.</p>\n",
       "<p><strong>Rationale:</strong> Balanced weight distribution prevents accidents and improves performance on challenging terrain.</p>\n",
       "</div>\n",
       "<div class=\"requirement\">\n",
       "<h3>7. Tire Puncture Resistance</h3>\n",
       "<p><strong>Body:</strong> The tires shall resist punctures from objects up to 5 mm in diameter.</p>\n",
       "<p><strong>Rationale:</strong> Puncture resistance enhances durability and reduces the need for frequent tire changes.</p>\n",
       "</div>\n",
       "<div class=\"requirement\">\n",
       "<h3>8. Gear Shift Precision</h3>\n",
       "<p><strong>Body:</strong> Gear changes shall occur within a tolerance of 0.5 gear increments.</p>\n",
       "<p><strong>Rationale:</strong> Precise gear changes ensure efficient power transfer and control.</p>\n",
       "</div>\n",
       "<div class=\"requirement\">\n",
       "<h3>9. Noise Reduction During Ride</h3>\n",
       "<p><strong>Body:</strong> The bike shall operate at noise levels below 45 dB when traveling at 20 km/h on a smooth surface.</p>\n",
       "<p><strong>Rationale:</strong> Minimizing noise improves ride enjoyment and reduces distraction for the rider.</p>\n",
       "</div>\n",
       "<div class=\"requirement\">\n",
       "<h3>10. Battery Recharge Time</h3>\n",
       "<p><strong>Body:</strong> The bike's electronic components shall recharge fully in less than 2 hours.</p>\n",
       "<p><strong>Rationale:</strong> Quick recharge times enhance user convenience and readiness for the next ride.</p>\n",
       "</div>\n",
       "<div class=\"requirement\">\n",
       "<h3>11. Frame Flexibility and Strength</h3>\n",
       "<p><strong>Body:</strong> The bike frame shall flex by less than 2% when under a load of 2000 N.</p>\n",
       "<p><strong>Rationale:</strong> Ensures structural integrity and responsiveness to terrain while enhancing rider control.</p>\n",
       "</div>\n",
       "<div class=\"requirement\">\n",
       "<h3>12. High Traction in Mud</h3>\n",
       "<p><strong>Body:</strong> The bike shall maintain traction for inclines of up to 10% in muddy conditions.</p>\n",
       "<p><strong>Rationale:</strong> High traction in muddy terrain ensures safety and extends trail riding capabilities.</p>\n",
       "</div>\n",
       "<div class=\"requirement\">\n",
       "<h3>13. Rider Weight Capacity</h3>\n",
       "<p><strong>Body:</strong> The bike shall support a maximum rider weight of 120 kg without performance degradation.</p>\n",
       "<p><strong>Rationale:</strong> Accommodates a wide range of riders, ensuring inclusivity in user demographics.</p>\n",
       "</div>\n",
       "<div class=\"requirement\">\n",
       "<h3>14. Torque Application Consistency</h3>\n",
       "<p><strong>Body:</strong> Torque applied to the pedals shall result in consistent power output under variable loads.</p>\n",
       "<p><strong>Rationale:</strong> Consistent torque application is essential for smooth and controlled movements.</p>\n",
       "</div>\n",
       "<div class=\"requirement\">\n",
       "<h3>15. Water Resistance Level</h3>\n",
       "<p><strong>Body:</strong> The bike's electronic systems shall maintain functionality after 30 minutes in 0.5 meters of water.</p>\n",
       "<p><strong>Rationale:</strong> Water resistance extends the bike's usability in diverse weather conditions.</p>\n",
       "</div>\n",
       "<div class=\"requirement\">\n",
       "<h3>16. Component Durability</h3>\n",
       "<p><strong>Body:</strong> All structural components shall sustain a lifespan of at least 5 years under normal usage.</p>\n",
       "<p><strong>Rationale:</strong> Long-lasting components reduce the need for replacements, lowering long-term costs.</p>\n",
       "</div>\n",
       "<div class=\"requirement\">\n",
       "<h3>17. Energy Efficiency</h3>\n",
       "<p><strong>Body:</strong> The bike shall convert at least 90% of pedal energy into propulsion.</p>\n",
       "<p><strong>Rationale:</strong> High energy efficiency improves riding experience and enhances performance potential.</p>\n",
       "</div>\n",
       "<div class=\"requirement\">\n",
       "<h3>18. Low Light Visibility</h3>\n",
       "<p><strong>Body:</strong> The bike shall include lighting visible from a minimum distance of 100 meters in low-light conditions.</p>\n",
       "<p><strong>Rationale:</strong> Ensures safety by increasing visibility to others in the environment.</p>\n",
       "</div>\n",
       "<div class=\"requirement\">\n",
       "<h3>19. Heat Resistance for Brakes</h3>\n",
       "<p><strong>Body:</strong> The braking system shall dissipate heat efficiently, avoiding temperatures exceeding 120°C during operation.</p>\n",
       "<p><strong>Rationale:</strong> Prevents brake degradation and maintains performance reliability.</p>\n",
       "</div>\n",
       "<div class=\"requirement\">\n",
       "<h3>20. Quick Response Suspension</h3>\n",
       "<p><strong>Body:</strong> The suspension system shall adjust to terrain changes within 0.1 seconds.</p>\n",
       "<p><strong>Rationale:</strong> A fast response time from the suspension system maximizes comfort and control.</p>\n",
       "</div>\n",
       "</body>\n",
       "</html>\n",
       "```"
      ],
      "text/plain": [
       "<IPython.core.display.HTML object>"
      ]
     },
     "metadata": {},
     "output_type": "display_data"
    }
   ],
   "source": [
    "prompt = \"\"\"\n",
    "Please create a set of 20 performance requirements for the Mountain Bike. \n",
    "Format the requirement in the following way:\n",
    "1. Each requirement will have a heading, body and rationale.\n",
    "2. The heading should be limited to 5 words.\n",
    "3. The body should be written as a shall statement.\n",
    "4. The body to be clear, concise and testable.\n",
    "5. Provide a rationale for the requirement.\n",
    "\"\"\"\n",
    "analyzer.follow_up_prompt(prompt)\n",
    "chatgpt_response = analyzer.get_response()\n",
    "\n",
    "# Step 3: Display the response in the notebook\n",
    "#print(\"ChatGPT Analysis:\\n\")\n",
    "display(Markdown(f\"\\n\\n**ChatGPT Analysis:**\\n\"))\n",
    "#print(chatgpt_response)\n",
    "display(HTML(chatgpt_response))"
   ]
  },
  {
   "cell_type": "code",
   "execution_count": 10,
   "id": "ca8d9c5e-e88e-4ba8-bbc7-f04a0afb245f",
   "metadata": {},
   "outputs": [
    {
     "data": {
      "text/markdown": [
       "\n",
       "\n",
       "**ChatGPT Analysis:**\n"
      ],
      "text/plain": [
       "<IPython.core.display.Markdown object>"
      ]
     },
     "metadata": {},
     "output_type": "display_data"
    },
    {
     "data": {
      "text/html": [
       "```html\n",
       "<!DOCTYPE html>\n",
       "\n",
       "<html lang=\"en\">\n",
       "<head>\n",
       "<meta charset=\"utf-8\"/>\n",
       "<meta content=\"width=device-width, initial-scale=1.0\" name=\"viewport\"/>\n",
       "<title>Mountain Bike Functional Requirements</title>\n",
       "\n",
       "</head>\n",
       "<body>\n",
       "<h2>Mountain Bike Functional Requirements</h2>\n",
       "<div class=\"requirement\">\n",
       "<h3>1. Ensure Gear Alignment</h3>\n",
       "<p><strong>Body:</strong> The bike shall maintain synchronized gear alignment when shifting, as part of the \"Shifting\" functional chain.</p>\n",
       "</div>\n",
       "<div class=\"requirement\">\n",
       "<h3>2. Enhance Steering Control</h3>\n",
       "<p><strong>Body:</strong> The bike shall provide intuitive and responsive steering control, integrating with the \"Steering\" functional chain.</p>\n",
       "</div>\n",
       "<div class=\"requirement\">\n",
       "<h3>3. Optimize Power Transfer</h3>\n",
       "<p><strong>Body:</strong> The bike shall efficiently convert pedaling force to wheel motion, as described in the \"Powering\" functional chain.</p>\n",
       "</div>\n",
       "<div class=\"requirement\">\n",
       "<h3>4. Manage Terrain Forces</h3>\n",
       "<p><strong>Body:</strong> The suspension shall manage and absorb shocks from uneven terrain for rider comfort, aligning with the \"Terrain Handling\" functional chain.</p>\n",
       "</div>\n",
       "<div class=\"requirement\">\n",
       "<h3>5. Provide Seat Comfort</h3>\n",
       "<p><strong>Body:</strong> The bike shall ensure seat comfort through shock absorption and ergonomic design, as part of the \"Provide Comfort\" functional chain.</p>\n",
       "</div>\n",
       "<div class=\"requirement\">\n",
       "<h3>6. Facilitate Quick Stopping</h3>\n",
       "<p><strong>Body:</strong> The braking system shall facilitate rapid deceleration on command, in line with the \"Stopping\" functional chain.</p>\n",
       "</div>\n",
       "<div class=\"requirement\">\n",
       "<h3>7. Adjust to Trail Conditions</h3>\n",
       "<p><strong>Body:</strong> The bike shall allow adjustments to accommodate different trail conditions, supporting the \"Terrain Handling\" functional chain.</p>\n",
       "</div>\n",
       "<div class=\"requirement\">\n",
       "<h3>8. Offer Friction Control</h3>\n",
       "<p><strong>Body:</strong> The tires shall adjust friction levels based on terrain feedback, integrated with the \"Powering\" functional chain.</p>\n",
       "</div>\n",
       "<div class=\"requirement\">\n",
       "<h3>9. Enable Gear Feedback</h3>\n",
       "<p><strong>Body:</strong> The bike shall display current gear information to the rider, as described in the \"Shifting\" functional chain.</p>\n",
       "</div>\n",
       "<div class=\"requirement\">\n",
       "<h3>10. Balance Rider Weight</h3>\n",
       "<p><strong>Body:</strong> The bike shall distribute the rider's weight evenly to improve stability, aligning with the \"Provide Comfort\" functional chain.</p>\n",
       "</div>\n",
       "</body>\n",
       "</html>\n",
       "```"
      ],
      "text/plain": [
       "<IPython.core.display.HTML object>"
      ]
     },
     "metadata": {},
     "output_type": "display_data"
    }
   ],
   "source": [
    "prompt = \"\"\"\n",
    "Please create a set of 10 functional requirements for the Mountain Bike related functional chains. \n",
    "Format the requirement in the following way:\n",
    "1. Each requirement will have a heading and body.\n",
    "2. The heading should be limited to 5 words.\n",
    "3. The body should be written as a shall statement.\n",
    "4. The body to be clear, concise and testable.\n",
    "5. Reference the functional chain.\n",
    "\"\"\"\n",
    "analyzer.follow_up_prompt(prompt)\n",
    "chatgpt_response = analyzer.get_response()\n",
    "\n",
    "# Step 3: Display the response in the notebook\n",
    "#print(\"ChatGPT Analysis:\\n\")\n",
    "display(Markdown(f\"\\n\\n**ChatGPT Analysis:**\\n\"))\n",
    "#print(chatgpt_response)\n",
    "display(HTML(chatgpt_response))"
   ]
  },
  {
   "cell_type": "markdown",
   "id": "614ada9b-367c-4929-badf-e27c7170b825",
   "metadata": {},
   "source": [
    "## 💬 Launch Interactive Chat on Structured Input\n",
    "\n",
    "### Purpose\n",
    "This cell launches an interactive chat session based on the structured input file, leveraging ARCADIA and Polarion terminology to ensure the analysis remains consistent with the modeling context.\n",
    "\n",
    "### Key Features\n",
    "- Uses the generated structured input file (e.g., `capella_model.yaml`) to guide the conversation.\n",
    "- Supports ARCADIA terms such as **functions**, **components**, **activities**, and **exchanges**.\n",
    "- Incorporates Polarion terms like **workitem**, **requirement**, and **traceability** for seamless integration with requirements management workflows.\n",
    "\n",
    "### How It Works\n",
    "1. The structured input file provides context for the chat session.\n",
    "2. You can interactively query details about the model elements, relationships, and dependencies.\n",
    "3. Responses are tailored using ARCADIA and Polarion terminology.\n",
    "\n",
    "### Example Prompts\n",
    "- **For ARCADIA:**\n",
    "  ```plaintext\n",
    "  What are the dependencies and exchanges for the selected function in the Logical Architecture phase?\n",
    "\n",
    "- **For Polarion:**\n",
    "  ```plaintext\n",
    "  Provide the traceability matrix for the workitem linked to this component.\n",
    "  ```\n",
    "### 🛠️ Instructions\n",
    "1. Ensure the `capella_model.yaml` file has been generated and is up-to-date.\n",
    "2. Run this cell to start the interactive chat session.\n",
    "3. Enter your queries using **ARCADIA** or **Polarion** terms for accurate and relevant responses.\n",
    "\n",
    "### 📝 Notes\n",
    "- The interactive chat dynamically adapts to the content in the structured input file.\n",
    "- Use precise and contextual queries to ensure the best results and insights.\n",
    "\n",
    "> 💡 **Tip:** If you're unfamiliar with ARCADIA or Polarion terminology, consult the respective documentation or glossary for guidance.\n",
    "\n"
   ]
  },
  {
   "cell_type": "code",
   "execution_count": null,
   "id": "ac1d370a-fcf4-4084-9064-f5e11a03a641",
   "metadata": {
    "jupyter": {
     "source_hidden": true
    }
   },
   "outputs": [
    {
     "name": "stdout",
     "output_type": "stream",
     "text": [
      "Starting interactive chat...\n"
     ]
    },
    {
     "data": {
      "application/vnd.jupyter.widget-view+json": {
       "model_id": "8fccdb52d32c4933b09b59d26f62bb31",
       "version_major": 2,
       "version_minor": 0
      },
      "text/plain": [
       "Output()"
      ]
     },
     "metadata": {},
     "output_type": "display_data"
    },
    {
     "data": {
      "application/vnd.jupyter.widget-view+json": {
       "model_id": "7ff0c67877a443c19779df32764ea457",
       "version_major": 2,
       "version_minor": 0
      },
      "text/plain": [
       "Textarea(value='', layout=Layout(border_bottom='2px solid #4A90E2', border_left='2px solid #4A90E2', border_ri…"
      ]
     },
     "metadata": {},
     "output_type": "display_data"
    },
    {
     "data": {
      "application/vnd.jupyter.widget-view+json": {
       "model_id": "32044277de8d4a8bae53997184d820f5",
       "version_major": 2,
       "version_minor": 0
      },
      "text/plain": [
       "HBox(children=(Button(button_style='primary', description='Execute', style=ButtonStyle()), Button(button_style…"
      ]
     },
     "metadata": {},
     "output_type": "display_data"
    },
    {
     "data": {
      "application/vnd.jupyter.widget-view+json": {
       "model_id": "2854b6ea2df84385b1761dd800adc3ce",
       "version_major": 2,
       "version_minor": 0
      },
      "text/plain": [
       "Dropdown(description='Load file:', layout=Layout(width='auto'), options=('', 'embeddings.json', 'capella_model…"
      ]
     },
     "metadata": {},
     "output_type": "display_data"
    },
    {
     "name": "stdout",
     "output_type": "stream",
     "text": [
      "Waiting for chat interactions...\n"
     ]
    }
   ],
   "source": [
    "analyzer.interactive_chat()\n"
   ]
  },
  {
   "cell_type": "code",
   "execution_count": null,
   "id": "57dea895-123c-4c7f-b386-89510fcfcd9d",
   "metadata": {
    "jupyter": {
     "source_hidden": true
    }
   },
   "outputs": [],
   "source": [
    "print(\"Done\")"
   ]
  },
  {
   "cell_type": "markdown",
   "id": "8fb2484d-c283-416d-b5ae-03289fc2a8a1",
   "metadata": {},
   "source": [
    "# "
   ]
  },
  {
   "cell_type": "code",
   "execution_count": null,
   "id": "a4c59542-ddf7-4047-9007-2613a7f96589",
   "metadata": {
    "collapsed": true,
    "jupyter": {
     "outputs_hidden": true,
     "source_hidden": true
    }
   },
   "outputs": [],
   "source": []
  },
  {
   "cell_type": "code",
   "execution_count": null,
   "id": "edddd2fe-aeef-43a8-94d2-4b7cac1ce700",
   "metadata": {
    "collapsed": true,
    "jupyter": {
     "outputs_hidden": true,
     "source_hidden": true
    }
   },
   "outputs": [],
   "source": []
  }
 ],
 "metadata": {
  "kernelspec": {
   "display_name": "Python 3 (ipykernel)",
   "language": "python",
   "name": "python3"
  },
  "language_info": {
   "codemirror_mode": {
    "name": "ipython",
    "version": 3
   },
   "file_extension": ".py",
   "mimetype": "text/x-python",
   "name": "python",
   "nbconvert_exporter": "python",
   "pygments_lexer": "ipython3",
   "version": "3.11.9"
  }
 },
 "nbformat": 4,
 "nbformat_minor": 5
}
